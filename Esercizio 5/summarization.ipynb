{
 "cells": [
  {
   "attachments": {},
   "cell_type": "markdown",
   "metadata": {},
   "source": [
    "# Automatic summarization\n",
    "\n",
    "Risorse usate:\n",
    "- Nasari"
   ]
  },
  {
   "cell_type": "code",
   "execution_count": 129,
   "metadata": {},
   "outputs": [],
   "source": [
    "import numpy as np\n",
    "import pandas as pd\n",
    "import re\n",
    "from nltk.corpus import stopwords\n",
    "from nltk.stem import WordNetLemmatizer\n",
    "from nltk.tokenize import MWETokenizer #tiene conto delle multiword expressions\n",
    "from nltk.corpus import wordnet as wn\n",
    "import json"
   ]
  },
  {
   "cell_type": "code",
   "execution_count": 130,
   "metadata": {},
   "outputs": [],
   "source": [
    "stop_words = set(stopwords.words('english')) #remove stop words\n",
    "mwes = [x for x in wn.all_lemma_names() if '_' in x]\n",
    "mwes = [tuple(x.split('_')) for x in mwes]\n",
    "tokenizer = MWETokenizer(mwes, separator=' ')\n",
    "lemmatizer = WordNetLemmatizer()\n",
    "\n",
    "def pre_processing(document):\n",
    "    document = re.sub(r'[^\\w\\s]',' ',document) #remove punctuation\n",
    "    document = document.lower()\n",
    "    document = tokenizer.tokenize(document.split())\n",
    "    document = [lemmatizer.lemmatize(token) for token in document]  \n",
    "    document = [w for w in document if not w in stop_words]\n",
    "    return document"
   ]
  },
  {
   "attachments": {},
   "cell_type": "markdown",
   "metadata": {},
   "source": [
    "## Individuazione dell'arogmento del testo"
   ]
  },
  {
   "attachments": {},
   "cell_type": "markdown",
   "metadata": {},
   "source": [
    "### Nasari vectors"
   ]
  },
  {
   "cell_type": "code",
   "execution_count": 142,
   "metadata": {},
   "outputs": [
    {
     "data": {
      "text/html": [
       "<div>\n",
       "<style scoped>\n",
       "    .dataframe tbody tr th:only-of-type {\n",
       "        vertical-align: middle;\n",
       "    }\n",
       "\n",
       "    .dataframe tbody tr th {\n",
       "        vertical-align: top;\n",
       "    }\n",
       "\n",
       "    .dataframe thead th {\n",
       "        text-align: right;\n",
       "    }\n",
       "</style>\n",
       "<table border=\"1\" class=\"dataframe\">\n",
       "  <thead>\n",
       "    <tr style=\"text-align: right;\">\n",
       "      <th></th>\n",
       "      <th>0</th>\n",
       "      <th>1</th>\n",
       "      <th>2</th>\n",
       "      <th>3</th>\n",
       "      <th>4</th>\n",
       "      <th>5</th>\n",
       "      <th>6</th>\n",
       "      <th>7</th>\n",
       "      <th>8</th>\n",
       "      <th>9</th>\n",
       "      <th>10</th>\n",
       "    </tr>\n",
       "  </thead>\n",
       "  <tbody>\n",
       "    <tr>\n",
       "      <th>0</th>\n",
       "      <td>bn:00000002n</td>\n",
       "      <td>The Hague</td>\n",
       "      <td>hague_1372.4</td>\n",
       "      <td>rotterdam_427.35</td>\n",
       "      <td>amsterdam_415.35</td>\n",
       "      <td>city_218.8</td>\n",
       "      <td>netherlands_198.2</td>\n",
       "      <td>dutch_197.61</td>\n",
       "      <td>utrecht_186.22</td>\n",
       "      <td>the hague_160.32</td>\n",
       "      <td>page_137.18</td>\n",
       "    </tr>\n",
       "    <tr>\n",
       "      <th>1</th>\n",
       "      <td>bn:00000003n</td>\n",
       "      <td>.22 Long Rifle</td>\n",
       "      <td>rifle_2305.63</td>\n",
       "      <td>cartridge_2279.59</td>\n",
       "      <td>bullet_1365.01</td>\n",
       "      <td>barrel_957.51</td>\n",
       "      <td>firearm_910.38</td>\n",
       "      <td>shotgun_702.1</td>\n",
       "      <td>rimfire_563.73</td>\n",
       "      <td>caliber_535.97</td>\n",
       "      <td>ammunition_474.7</td>\n",
       "    </tr>\n",
       "    <tr>\n",
       "      <th>2</th>\n",
       "      <td>bn:00000005n</td>\n",
       "      <td>Tuple</td>\n",
       "      <td>number_754.0</td>\n",
       "      <td>integer_528.26</td>\n",
       "      <td>set_449.2</td>\n",
       "      <td>tuple_373.74</td>\n",
       "      <td>element_323.63</td>\n",
       "      <td>tuples_316.55</td>\n",
       "      <td>define_272.01</td>\n",
       "      <td>function_271.05</td>\n",
       "      <td>permutation_269.38</td>\n",
       "    </tr>\n",
       "    <tr>\n",
       "      <th>3</th>\n",
       "      <td>bn:00000006n</td>\n",
       "      <td>Dodecanol</td>\n",
       "      <td>alcohol_310.46</td>\n",
       "      <td>ethanol_74.72</td>\n",
       "      <td>dodecanol_45.46</td>\n",
       "      <td>ch_44.51</td>\n",
       "      <td>fatty_35.93</td>\n",
       "      <td>oh_33.61</td>\n",
       "      <td>carbon_33.53</td>\n",
       "      <td>aldehyde_32.11</td>\n",
       "      <td>methanol_31.53</td>\n",
       "    </tr>\n",
       "    <tr>\n",
       "      <th>4</th>\n",
       "      <td>bn:00000013n</td>\n",
       "      <td>Million</td>\n",
       "      <td>million_209.35</td>\n",
       "      <td>number_146.31</td>\n",
       "      <td>mathematics_61.3</td>\n",
       "      <td>long scale_53.31</td>\n",
       "      <td>real number_50.43</td>\n",
       "      <td>numeral_50.35</td>\n",
       "      <td>short scale_50.12</td>\n",
       "      <td>digit_42.17</td>\n",
       "      <td>bally_41.77</td>\n",
       "    </tr>\n",
       "  </tbody>\n",
       "</table>\n",
       "</div>"
      ],
      "text/plain": [
       "             0               1               2                  3   \\\n",
       "0  bn:00000002n       The Hague    hague_1372.4   rotterdam_427.35   \n",
       "1  bn:00000003n  .22 Long Rifle   rifle_2305.63  cartridge_2279.59   \n",
       "2  bn:00000005n           Tuple    number_754.0     integer_528.26   \n",
       "3  bn:00000006n       Dodecanol  alcohol_310.46      ethanol_74.72   \n",
       "4  bn:00000013n         Million  million_209.35      number_146.31   \n",
       "\n",
       "                 4                 5                  6              7   \\\n",
       "0  amsterdam_415.35        city_218.8  netherlands_198.2   dutch_197.61   \n",
       "1    bullet_1365.01     barrel_957.51     firearm_910.38  shotgun_702.1   \n",
       "2         set_449.2      tuple_373.74     element_323.63  tuples_316.55   \n",
       "3   dodecanol_45.46          ch_44.51        fatty_35.93       oh_33.61   \n",
       "4  mathematics_61.3  long scale_53.31  real number_50.43  numeral_50.35   \n",
       "\n",
       "                  8                 9                   10  \n",
       "0     utrecht_186.22  the hague_160.32         page_137.18  \n",
       "1     rimfire_563.73    caliber_535.97    ammunition_474.7  \n",
       "2      define_272.01   function_271.05  permutation_269.38  \n",
       "3       carbon_33.53    aldehyde_32.11      methanol_31.53  \n",
       "4  short scale_50.12       digit_42.17         bally_41.77  "
      ]
     },
     "execution_count": 142,
     "metadata": {},
     "output_type": "execute_result"
    }
   ],
   "source": [
    "nasari_vectors = pd.read_csv('data/dd-nasari.txt', on_bad_lines='skip', header=None, sep=';')\n",
    "nasari_vectors.head()"
   ]
  },
  {
   "cell_type": "code",
   "execution_count": 147,
   "metadata": {},
   "outputs": [],
   "source": [
    "nasari_vectors = nasari_vectors.set_index(0)"
   ]
  },
  {
   "cell_type": "code",
   "execution_count": 287,
   "metadata": {},
   "outputs": [
    {
     "name": "stdout",
     "output_type": "stream",
     "text": [
      "[['andy warhol', 'great', 'pop', 'artist', 'thought', 'trump', 'sort of', 'cheap'], ['anticipated', 'celebrity', 'culture', 'social', 'medium', 'thought', 'artist', 'more than', 'hold', 'paintbrush', 'wound up', 'john lennon', 'new', 'tate', 'exhibition', 'open', 'alastair', 'smart', 'show', 'far', 'important', 'artist', 'modern', 'age', 'wa', 'ahead', 'time'], ['uring', 'last', 'year', 'super', 'bowl', '100', 'million', 'u', 'viewer', 'treated', 'unexpected', 'sight', 'one', 'commercial', 'break', 'wa', 'andy warhol', 'nothing', 'more than', 'taking', 'bite', 'out of', 'burger', 'king', 'whopper', 'adding', 'occasional', 'bit', 'ketchup', '45', 'second'], ['wa', 'music', 'punchline', 'a little', 'light', 'rustling', 'burger', 'wrapper', 'slowly', 'unfolding', 'scene', 'culminated', 'hashtag', 'eatlikeandy', 'wa', 'far', 'removed', 'one', 'could', 'imagine', 'big', 'budget', 'ad', 'traditionally', 'shown', 'super', 'bowl'], ['reaction', 'social', 'medium', 'wa', 'swift', 'widespread', 'mostly', 'containing', 'word', 'bizarre', 'show', 'low', 'action', 'clip', '1982', 'artist', 'died', '1987', 'sporting', 'showcase', '2019', 'financial', 'sense', 'make', 'also', 'given', 'advertising', 'slot', 'super', 'bowl', 'expensive', 'world', 'costing', '175', '000', 'second'], ['answer', 'footage', 'showed', 'great', 'american', 'artist', 'eating', 'great', 'american', 'food', 'context', 'great', 'american', 'occasion', 'burger', 'king', 'said', 'advert', 'wa', 'celebration', 'country'], ['clip', 'prof', 'anything', 'andy', 'still', 'very much', 'u', 'say', 'gregor', 'muir', 'curator', 'major', 'warhol', 'show', 'open', 'tate', 'modern', 'month', 'timeless', 'figure', 'aim', 'exhibition', 'show'], ['decade', 'working', 'commercial', 'illustrator', 'madison', 'avenue', 'warhol', 'began', 'artistic', 'career', 'turn', '1960s', 'sprung', 'fame', 'leader', 'pop art', 'movement', 'rejected', 'high', 'cultural', 'tradition', 'depicted', 'everyday', 'subject matter', 'instead', 'warhol', 'case', 'coke', 'bottle', 'brillo', 'box', 'campbell', 'soup'], ['soon', 'wa', 'silk', 'screening', 'image', 'marilyn monroe', 'elvis presley', 'suggested', 'artist', 'entirely', 'one', 'america', 'average', 'joe', 'irony', 'of course', 'current', 'president', 'administration', 'warhol', 'parent', 'probably', 'allowed', 'united states', 'in the first place', 'andrej', 'julia', 'warhola', 'hailed', 'tiny', 'village', 'called', 'mikova', 'edge', 'carpathian mountains', 'today', 'slovakia', 'day', 'wa', 'part', 'austro', 'hungarian', 'empire', 'search', 'better', 'life', 'moved', 'pittsburgh', 'first world war', 'andrej', 'worked', 'construction', 'andy', 'andrew', 'warhola', 'wa', 'born', '1928'], ['start', 'career', 'andy', 'chose', 'anglicise', 'surname', 'dropping', 'end', 'whenever', 'asked', 'ethnic', 'root', 'declared', 'always', 'feel', 'american', '100', 'per', 'cent', 'interestingly', 'warhol', 'donald', 'trump', 'actually', 'cross', 'path', 'new york', 'party', '1981', 'latter', 'commissioned', 'former', 'create', 'silkscreen', 'portrait', 'trump', 'tower', 'turned', 'finished', 'work', 'refused', 'pay', 'cent', 'like', 'colour scheme', 'think', 'trump', 'sort of', 'cheap', 'wrote', 'warhol', 'diary'], ['tate', 'exhibition', 'set', 'out to', 'show', 'large', 'influence', 'warhol', 'ha', 'artist', 'especially', 'in the way', 'embraced', 'different', 'medium', 'mean', 'distribution', 'mid', '1960s', 'early', 'burst', 'pop', 'work', 'took', 'making', 'film', 'sleep in', 'friend', 'poet', 'john', 'giorno', 'seen', 'sleeping', 'five', 'hour'], ['also', 'founded', 'interview', 'magazine', 'celebrity', 'cher', 'michael jackson', 'interviewed', 'ran', '50', 'year', 'demise', '2018', 'let', 'forget', 'exploding', 'plastic', 'inevitable', 'multi', 'sensory', 'stage', 'show', 'conceived', 'velvet', 'underground', 'band', 'briefly', 'managed'], ['in short', 'believed', 'artist', 'could', 'more than', 'hold', 'paintbrush', 'interdisciplinary', 'approach', 'art', 'today', 'taken', 'standard', 'small', 'part', 'thanks', 'example', 'set', 'warhol', 'adventure', 'decade', 'ago'], ['influence', 'extends', 'far', 'beyond', 'art', 'world', 'though', 'warhol', 'predates', 'predicts', 'society', 'live in', 'say', 'muir', 'show', 'tate', 'modern', '25', 'painting', 'a little', 'known', 'series', 'painting', '1975', 'called', 'lady', 'gentleman', 'depicts', 'drag', 'queen', 'trans', 'woman', 'frequented', 'gilded', 'grape', 'bar', 'times square', 'muir', 'view', 'could', 'easily', 'pas', 'made', 'yesterday', 'term', 'debate', 'around', 'trans', 'identity', 'lgbt', 'right'], ['though', 'dead', '33', 'year', 'warhol', 'anticipated', 'advent', 'social', 'medium', 'take', 'screen', 'test', 'for example', '472', 'short', 'film', 'visitor', 'studio', 'placed', 'chair', 'in front', 'video', 'camera', 'asked', 'perform', 'solo', 'three', 'minute', 'camera', 'very much like', 'youtube', 'vloggers', 'today'], ['1975', 'book', 'philosophy', 'andy warhol', 'usually', 'described', 'disjointed', 'autobiography', 'better', 'understood', 'proto', 'twitter', 'account', 'given', 'author', 'propensity', 'including', 'mundane', 'detail', 'love', 'jam', 'toast', 'witty', 'one', 'liner', 'buying', 'american', 'thinking'], ['also', 'carried', 'compact', 'minox', 'camera', 'wherever', 'went', 'taking', 'more than', '100', '000', 'photograph', 'friend', 'food', 'building', 'facade', 'shop', 'sign', 'the like', 'anticipating', 'instagram', 'feed', 'image', 'saturated', 'age', 'today', 'never', 'read', 'warhol', 'said', 'look at', 'picture', 'recently', 'published', 'autobiography', 'elton', 'john', 'tell', 'hilarious', 'story', 'time', 'john lennon', 'taking', 'pile', 'cocaine', 'new york', 'hotel room', 'late', 'night', 'warhol', 'knocked', 'door', 'elton', 'went', 'answer', 'lennon', 'implored', 'let', 'f', 'ing', 'camera'], ['individual', 'episode', 'warhol', 'career', 'show', 'innate', 'grasp', 'communications technology', 'speed', 'wa', 'changing', 'direction', 'wa', 'heading'], ['wa', 'aware', 'inexorable', 'rise', 'television', 'particularly', 'proliferation', 'cable', 'channel', 'cnn', 'espn', 'nickelodeon', 'mtv', 'late', '1970s', 'early', '1980s', 'warhol', 'declared', 'time', 'television', 'wa', 'medium', 'like', 'shine', 'actually', 'presented', 'five', 'episode', 'mtv', 'talk show', 'called', 'andy warhol', 'fifteen', 'minute', 'job', 'cut short', 'death', 'aged', '58', 'complication', 'gall bladder', 'operation', 'show', 'title', 'referred', 'famous', 'quote', 'future', 'everyone', 'world', 'famous', '15 minutes'], ['word', 'warhol', 'predicted', 'coming', 'reality', 'tv', 'star', 'social', 'medium', 'influencers', 'platform', 'achieve', 'quick', 'fire', 'celebrity', 'grew', 'exponentially'], ['often', 'said', 'warhol', 'wa', 'important', 'artist', 'second half', '20th', 'century', 'muir', 'say', 'one', 'might', 'well', 'argue', 'important', 'artist', 'early', '21st', 'century', 'consumerist', 'society', 'realised', 'celebrity', 'every bit', 'ubiquitous', 'disposable', 'soup', 'coke', 'bottle', 'burger', 'king', 'whopper']]\n"
     ]
    },
    {
     "data": {
      "text/plain": [
       "['andy warhol',\n",
       " 'great',\n",
       " 'pop',\n",
       " 'artist',\n",
       " 'thought',\n",
       " 'trump',\n",
       " 'sort of',\n",
       " 'cheap']"
      ]
     },
     "execution_count": 287,
     "metadata": {},
     "output_type": "execute_result"
    }
   ],
   "source": [
    "text = open('data/docs/Andy-Warhol.txt', 'r', encoding='utf-8').read().split('\\n')\n",
    "text = [line for line in text if line != '']\n",
    "\n",
    "text_preprocessed = [pre_processing(line) for line in text[0:]]\n",
    "print(text_preprocessed)\n",
    "\n",
    "# contesto \n",
    "contesto_testo = []\n",
    "for frase in text_preprocessed:\n",
    "    contesto_testo = contesto_testo + frase\n",
    "contesto_testo = set(contesto_testo)\n",
    "\n",
    "# titolo\n",
    "title = text_preprocessed[0]\n",
    "title"
   ]
  },
  {
   "attachments": {},
   "cell_type": "markdown",
   "metadata": {},
   "source": [
    "### Babelnet id delle parole del titolo"
   ]
  },
  {
   "cell_type": "code",
   "execution_count": 133,
   "metadata": {},
   "outputs": [],
   "source": [
    "import requests\n",
    "\n",
    "babelnet_token = '1e258739-f5e4-4961-8267-a2da4fe94572'\n",
    "\n",
    "ids = {}\n",
    "for word in title:\n",
    "    #response = requests.get(f'https://babelnet.io/v8/getSynsetIds?lemma={word}&searchLang=EN&key={babelnet_token}')\n",
    "    #ids[word] = response.json()"
   ]
  },
  {
   "cell_type": "code",
   "execution_count": 134,
   "metadata": {},
   "outputs": [],
   "source": [
    "#salva ids in un file\n",
    "with open('data/ids.json', 'w') as fp:\n",
    "    json.dump(ids, fp)"
   ]
  },
  {
   "cell_type": "code",
   "execution_count": 135,
   "metadata": {},
   "outputs": [],
   "source": [
    "#carica ids da file\n",
    "with open('data/ids.json', 'r') as fp:\n",
    "    ids = json.load(fp)"
   ]
  },
  {
   "attachments": {},
   "cell_type": "markdown",
   "metadata": {},
   "source": [
    "### WSD dei babelnet id"
   ]
  },
  {
   "cell_type": "code",
   "execution_count": 137,
   "metadata": {},
   "outputs": [],
   "source": [
    "def getSignature(id):\n",
    "    response = requests.get(f'https://babelnet.io/v8/getSynset?id={id}&key={babelnet_token}')\n",
    "    glosses = response.json()['glosses']\n",
    "    examples = response.json()['examples']\n",
    "    signature = \"\"\n",
    "    for gloss in glosses:\n",
    "        signature += gloss['gloss'] + ' '\n",
    "    for example in examples:\n",
    "        signature += example['example'] + ' '\n",
    "    return set(pre_processing(signature))\n",
    "\n",
    "# Usa come contesto l'intero testo del file, non solo il titolo\n",
    "def SimplifiedLesk(bn_ids, context):\n",
    "    best_sense = bn_ids[0]['id']\n",
    "    max_overlap = 0\n",
    "    \n",
    "    for sense in bn_ids:\n",
    "        signature = getSignature(sense['id'])\n",
    "        overlap = len(context.intersection(signature))\n",
    "        if overlap > max_overlap:\n",
    "            max_overlap = overlap\n",
    "            best_sense = sense['id']\n",
    "    \n",
    "    return best_sense"
   ]
  },
  {
   "cell_type": "code",
   "execution_count": 138,
   "metadata": {},
   "outputs": [],
   "source": [
    "sensi = {}\n",
    "for word in ids:\n",
    "    sensi[word] = SimplifiedLesk(ids[word], contesto_testo)"
   ]
  },
  {
   "attachments": {},
   "cell_type": "markdown",
   "metadata": {},
   "source": [
    "### Creazione del contesto"
   ]
  },
  {
   "cell_type": "code",
   "execution_count": 220,
   "metadata": {},
   "outputs": [
    {
     "name": "stdout",
     "output_type": "stream",
     "text": [
      "bn:00004020n in nasari_vectors\n",
      "bn:00103780a not in nasari_vectors\n",
      "bn:00063586n in nasari_vectors\n",
      "bn:00060201n in nasari_vectors\n",
      "bn:00017339n in nasari_vectors\n",
      "bn:03266978n in nasari_vectors\n",
      "bn:00116064r not in nasari_vectors\n",
      "bn:02213915n in nasari_vectors\n"
     ]
    }
   ],
   "source": [
    "title_vectors = {}\n",
    "\n",
    "#fai un ciclo su ids\n",
    "for word in sensi:\n",
    "    # check if ids[word] is in nasari_vectors\n",
    "    if sensi[word] in list(nasari_vectors.index.values):\n",
    "        print(f'{sensi[word]} in nasari_vectors') \n",
    "        title_vectors[word] = nasari_vectors.loc[sensi[word]]\n",
    "    else:\n",
    "        print(f'{sensi[word]} not in nasari_vectors')"
   ]
  },
  {
   "cell_type": "code",
   "execution_count": 258,
   "metadata": {},
   "outputs": [],
   "source": [
    "key_words = []\n",
    "for vector in title_vectors:\n",
    "    i = 1\n",
    "    for word in title_vectors[vector]:\n",
    "        word_to_added = word.split('_')[0]\n",
    "        word_to_added = re.sub(r'[^\\w\\s]',' ',word_to_added) #remove punctuation\n",
    "        word_to_added = word_to_added.lower()\n",
    "        word_to_added = lemmatizer.lemmatize(word_to_added)\n",
    "\n",
    "        key_words.append((word_to_added, i))\n",
    "        i += 1\n",
    "\n",
    "key_words = set(key_words)"
   ]
  },
  {
   "attachments": {},
   "cell_type": "markdown",
   "metadata": {},
   "source": [
    "## Pesatura dei paragrafi\n",
    "\n",
    "Eseguita usanto la metrica Weighted Oveerlap"
   ]
  },
  {
   "cell_type": "code",
   "execution_count": 272,
   "metadata": {},
   "outputs": [
    {
     "name": "stdout",
     "output_type": "stream",
     "text": [
      "0.22226147170498\n"
     ]
    }
   ],
   "source": [
    "def weighted_overlap(sentence):\n",
    "    numeratore = 0\n",
    "    for word in sentence:\n",
    "        #check if word is in first column of key_words\n",
    "        if word in [x[0] for x in key_words]:\n",
    "            #print(f'{word} in key_words')\n",
    "            #get index of word in key_words\n",
    "            index = [x[1] for x in key_words if x[0] == word][0]\n",
    "            #print(f'index: {index}')\n",
    "\n",
    "            numeratore += 1/(index)\n",
    "            #print('\\n')\n",
    "       # else:\n",
    "            #print(f'{word} not in key_words')\n",
    "            #print('\\n')\n",
    "\n",
    "    i = 1\n",
    "    denominatore = 0\n",
    "    for word in key_words:\n",
    "        denominatore += 1/(2*i)\n",
    "        i += 1\n",
    "\n",
    "    return numeratore/denominatore\n",
    "\n",
    "print(weighted_overlap(['Cheap Records', 'vienna', 'Matri']))"
   ]
  },
  {
   "cell_type": "code",
   "execution_count": 300,
   "metadata": {},
   "outputs": [
    {
     "name": "stdout",
     "output_type": "stream",
     "text": [
      "Andy Warhol: Why the great Pop artist thought ‘Trump is sort of cheap’\n",
      "\n",
      "He anticipated celebrity culture and social media, thought artists should do more than just hold a paintbrush, and wound up John Lennon. As a new Tate exhibition opens, Alastair Smart shows how far the most important artist of the modern age was ahead of his time.\n",
      "\n",
      "uring last year’s Super Bowl, 100 million US viewers were treated to a most unexpected sight in one of the commercial breaks. It was Andy Warhol doing nothing more than taking bites out of a Burger King Whopper – and adding the occasional bit of ketchup – for 45 seconds.\n",
      "\n",
      "There was no music, no punchline, just a little, light rustling of the burger’s wrapper – in a slowly unfolding scene that culminated with the hashtag #EatLikeAndy. It was about as far removed as one could imagine from the big-budget ads traditionally shown during the Super Bowl.\n",
      "\n",
      "Reaction on social media was swift, widespread and mostly containing the word “bizarre”. Why show a low-action clip from 1982, of an artist who died in 1987, at a sporting showcase in 2019? What financial sense did it make also – given that advertising slots at the Super Bowl are the most expensive in the world, costing $175,000 a second?\n",
      "\n",
      "The answer is that the footage showed a great American artist eating a great American food in the context of a great American occasion. Burger King said the advert was a celebration of the country itself.\n",
      "\n",
      "“If that clip proves anything, it’s that Andy is still very much with us,” says Gregor Muir, curator of a major Warhol show that opens at Tate Modern this month. “He’s a timeless figure, and our aim with the exhibition is to show that.”\n",
      "\n",
      "After a decade working as a commercial illustrator on Madison Avenue, Warhol began his artistic career at the turn of the 1960s. He sprung to fame as a leader of the Pop Art movement, which rejected high-cultural tradition and depicted everyday subject matter instead: in Warhol’s case, Coke bottles, Brillo boxes and Campbell’s Soup cans.\n",
      "\n",
      "Soon he was silk-screening images of Marilyn Monroe and Elvis Presley too. It suggested an artist entirely at one with America’s average Joe. The irony is, of course, that under the current president’s administration, Warhol’s parents probably wouldn’t have been allowed into the United States in the first place. Andrej and Julia Warhola hailed from a tiny village called Mikova on the edge of the Carpathian Mountains, in what today is Slovakia (but in their day was part of the Austro-Hungarian empire). In search of a better life, they moved to Pittsburgh after the First World War, where Andrej worked in construction and where Andy – Andrew Warhola – was born in 1928.\n",
      "\n",
      "At the start of his career, Andy chose to anglicise his surname, by dropping the “a” at the end. Whenever asked about his ethnic roots, he declared, “I always feel American: 100 per cent.” (Interestingly, Warhol and Donald Trump did actually cross paths – at a New York party in 1981. The latter commissioned the former to create a silkscreen portrait of Trump Tower but turned the finished work down, and refused to pay a cent, when he didn’t like the colour scheme. “I think Trump’s sort of cheap,” wrote Warhol in his diary.)\n",
      "\n",
      "The Tate exhibition sets out to show how large an influence Warhol has had on artists after him, especially in the way he embraced different media and means of distribution. In the mid-1960s, after the early burst of Pop works, he took to making films, such as Sleep, in which his friend, the poet John Giorno, can be seen sleeping for five hours.\n",
      "\n",
      "He also founded Interview, a magazine in which celebrities from Cher to Michael Jackson were interviewed – and which ran for 50 years before its demise in 2018. And let’s not forget Exploding Plastic Inevitable, a multi-sensory stage show he conceived for the Velvet Underground, a band he briefly managed.\n",
      "\n",
      "In short, he believed an artist could, and should, do more than just hold a paintbrush. An interdisciplinary approach to art is today taken as standard – and that’s in no small part thanks to the example set by Warhol’s adventures decades ago.\n",
      "\n",
      "His influence extends far beyond the art world, though. “Warhol both predates and predicts the society we live in,” says Muir. On show at Tate Modern will be 25 paintings from a little-known series of paintings from 1975 called Ladies and Gentlemen. It depicts drag queens and trans women who frequented the Gilded Grape bar, off Times Square – and, in Muir’s view, “could easily pass for having been made yesterday, in terms of the debates being had now around trans identity and LGBT rights”.\n",
      "\n",
      "Then there’s his 1975 book The Philosophy of Andy Warhol, usually described as a disjointed autobiography but better understood as a proto-Twitter account, given its author’s propensity for including both the most mundane of details (such as his love of jam on toast) and witty one-liners (such as “buying is more American than thinking”).\n",
      "\n",
      "He also carried a compact Minox camera with him wherever he went, taking more than 100,000 photographs of friends, food, building facades, shop signs and the like – anticipating the Instagram feeds of our image-saturated age today. “I never read,” Warhol once said. “I just look at pictures.” (In his recently published autobiography, Me, Elton John tells the hilarious story of a time he and John Lennon had been taking piles of cocaine in a New York hotel room late into the night, when Warhol knocked at the door. As Elton went to answer, Lennon implored, “Don’t let him in: he’ll have his f***ing camera.”)\n",
      "\n",
      "“It’s often said Warhol was the most important artist of the second half of the 20th century,” Muir says. “But one might well argue he’s the most important artist of the early 21st century too.” In a consumerist society, he realised that celebrities are every bit as ubiquitous and disposable as soup cans, Coke bottles and Burger King Whoppers.\n"
     ]
    }
   ],
   "source": [
    "testo = text_preprocessed[1:]\n",
    "\n",
    "weights = {}\n",
    "i = 0\n",
    "for line in testo:\n",
    "    # add weighted_overlap(line) to weights\n",
    "    weights[i] = weighted_overlap(line)\n",
    "    i += 1\n",
    "\n",
    "#order weights by value\n",
    "weights = {k: v for k, v in sorted(weights.items(), key=lambda item: item[1], reverse=True)}\n",
    "\n",
    "#prendi l'80% del testo\n",
    "numero_righe = round(len(testo)*0.8)\n",
    "\n",
    "testo_finale = text.copy()\n",
    "title_finale = testo_finale[0]\n",
    "#remove first element in testo_finale\n",
    "testo_finale.pop(0)\n",
    "\n",
    "#get only first 10 element of weights\n",
    "weights = {k: weights[k] for k in list(weights)[:numero_righe]}\n",
    "#order weights by key\n",
    "weights = {k: v for k, v in sorted(weights.items(), key=lambda item: item[0])}\n",
    "\n",
    "#remove from testo_finale all element that are not in weights\n",
    "summary = [testo_finale[i] for i in weights.keys()]\n",
    "\n",
    "#join with \\n\n",
    "summary = '\\n\\n'.join(summary)\n",
    "summary = title_finale + '\\n\\n' + summary\n",
    "\n",
    "print(summary)"
   ]
  }
 ],
 "metadata": {
  "kernelspec": {
   "display_name": "Python 3",
   "language": "python",
   "name": "python3"
  },
  "language_info": {
   "codemirror_mode": {
    "name": "ipython",
    "version": 3
   },
   "file_extension": ".py",
   "mimetype": "text/x-python",
   "name": "python",
   "nbconvert_exporter": "python",
   "pygments_lexer": "ipython3",
   "version": "3.11.0"
  },
  "orig_nbformat": 4
 },
 "nbformat": 4,
 "nbformat_minor": 2
}
