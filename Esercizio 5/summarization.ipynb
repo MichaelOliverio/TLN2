{
 "cells": [
  {
   "attachments": {},
   "cell_type": "markdown",
   "metadata": {},
   "source": [
    "# Automatic summarization\n",
    "\n",
    "Risorse usate:\n",
    "- Nasari"
   ]
  },
  {
   "cell_type": "code",
   "execution_count": 126,
   "metadata": {},
   "outputs": [],
   "source": [
    "import numpy as np\n",
    "import pandas as pd\n",
    "import re\n",
    "from nltk.corpus import stopwords\n",
    "from nltk.stem import WordNetLemmatizer\n",
    "from nltk.tokenize import MWETokenizer #tiene conto delle multiword expressions\n",
    "from nltk.corpus import wordnet as wn"
   ]
  },
  {
   "cell_type": "code",
   "execution_count": 127,
   "metadata": {},
   "outputs": [],
   "source": [
    "stop_words = set(stopwords.words('english')) #remove stop words\n",
    "mwes = [x for x in wn.all_lemma_names() if '_' in x]\n",
    "mwes = [tuple(x.split('_')) for x in mwes]\n",
    "tokenizer = MWETokenizer(mwes, separator=' ')\n",
    "lemmatizer = WordNetLemmatizer()\n",
    "\n",
    "def pre_processing(document):\n",
    "    document = re.sub(r'[^\\w\\s]',' ',document) #remove punctuation\n",
    "    document = document.lower()\n",
    "    document = tokenizer.tokenize(document.split())\n",
    "    document = [lemmatizer.lemmatize(token) for token in document]  \n",
    "    document = [w for w in document if not w in stop_words]\n",
    "    return document"
   ]
  },
  {
   "attachments": {},
   "cell_type": "markdown",
   "metadata": {},
   "source": [
    "## Individuazione dell'arogmento del testo"
   ]
  },
  {
   "attachments": {},
   "cell_type": "markdown",
   "metadata": {},
   "source": [
    "### Nasari vectors"
   ]
  },
  {
   "cell_type": "code",
   "execution_count": 128,
   "metadata": {},
   "outputs": [
    {
     "data": {
      "text/html": [
       "<div>\n",
       "<style scoped>\n",
       "    .dataframe tbody tr th:only-of-type {\n",
       "        vertical-align: middle;\n",
       "    }\n",
       "\n",
       "    .dataframe tbody tr th {\n",
       "        vertical-align: top;\n",
       "    }\n",
       "\n",
       "    .dataframe thead th {\n",
       "        text-align: right;\n",
       "    }\n",
       "</style>\n",
       "<table border=\"1\" class=\"dataframe\">\n",
       "  <thead>\n",
       "    <tr style=\"text-align: right;\">\n",
       "      <th></th>\n",
       "      <th>0</th>\n",
       "      <th>1</th>\n",
       "      <th>2</th>\n",
       "      <th>3</th>\n",
       "      <th>4</th>\n",
       "      <th>5</th>\n",
       "      <th>6</th>\n",
       "      <th>7</th>\n",
       "      <th>8</th>\n",
       "      <th>9</th>\n",
       "      <th>10</th>\n",
       "      <th>11</th>\n",
       "      <th>12</th>\n",
       "      <th>13</th>\n",
       "      <th>14</th>\n",
       "      <th>15</th>\n",
       "    </tr>\n",
       "  </thead>\n",
       "  <tbody>\n",
       "    <tr>\n",
       "      <th>0</th>\n",
       "      <td>bn:00000013n</td>\n",
       "      <td>Million</td>\n",
       "      <td>million_209.35</td>\n",
       "      <td>number_146.31</td>\n",
       "      <td>mathematics_61.3</td>\n",
       "      <td>long scale_53.31</td>\n",
       "      <td>real number_50.43</td>\n",
       "      <td>numeral_50.35</td>\n",
       "      <td>short scale_50.12</td>\n",
       "      <td>digit_42.17</td>\n",
       "      <td>bally_41.77</td>\n",
       "      <td>millionaire_41.31</td>\n",
       "      <td>penguin_41.11</td>\n",
       "      <td>markov_40.61</td>\n",
       "      <td>complex number_38.37</td>\n",
       "      <td>infinity_36.79</td>\n",
       "    </tr>\n",
       "    <tr>\n",
       "      <th>1</th>\n",
       "      <td>bn:00000086n</td>\n",
       "      <td>Day</td>\n",
       "      <td>day_635.03</td>\n",
       "      <td>planet_259.64</td>\n",
       "      <td>sun_258.79</td>\n",
       "      <td>earth_255.66</td>\n",
       "      <td>calendar_249.75</td>\n",
       "      <td>time_241.25</td>\n",
       "      <td>clock_211.54</td>\n",
       "      <td>moon_184.24</td>\n",
       "      <td>orbit_169.14</td>\n",
       "      <td>month_150.51</td>\n",
       "      <td>hour_132.02</td>\n",
       "      <td>decimal_126.9</td>\n",
       "      <td>astronomical_111.73</td>\n",
       "      <td>leap year_102.2</td>\n",
       "    </tr>\n",
       "    <tr>\n",
       "      <th>2</th>\n",
       "      <td>bn:00000116n</td>\n",
       "      <td>Quarto</td>\n",
       "      <td>shakespeare_1768.19</td>\n",
       "      <td>quarto_653.03</td>\n",
       "      <td>play_455.97</td>\n",
       "      <td>henry vi_404.57</td>\n",
       "      <td>edition_332.93</td>\n",
       "      <td>hamlet_332.66</td>\n",
       "      <td>folio_295.89</td>\n",
       "      <td>titus_260.9</td>\n",
       "      <td>shrew_241.83</td>\n",
       "      <td>print_210.72</td>\n",
       "      <td>sonnet_197.9</td>\n",
       "      <td>octavo_180.97</td>\n",
       "      <td>petruchio_159.51</td>\n",
       "      <td>henry_144.59</td>\n",
       "    </tr>\n",
       "    <tr>\n",
       "      <th>3</th>\n",
       "      <td>bn:00000122n</td>\n",
       "      <td>Serotonin</td>\n",
       "      <td>serotonin_1841.08</td>\n",
       "      <td>5-ht_1605.34</td>\n",
       "      <td>receptor_1254.36</td>\n",
       "      <td>agonist_379.61</td>\n",
       "      <td>2c_368.6</td>\n",
       "      <td>neurotransmitter_355.56</td>\n",
       "      <td>leptin_283.0</td>\n",
       "      <td>drug_271.04</td>\n",
       "      <td>tryptophan_255.0</td>\n",
       "      <td>dopamine_239.95</td>\n",
       "      <td>serotonergic_204.52</td>\n",
       "      <td>antagonist_187.54</td>\n",
       "      <td>antidepressant_168.76</td>\n",
       "      <td>neuron_167.81</td>\n",
       "    </tr>\n",
       "    <tr>\n",
       "      <th>4</th>\n",
       "      <td>bn:00000125n</td>\n",
       "      <td>Sextet</td>\n",
       "      <td>number_657.44</td>\n",
       "      <td>digit_240.04</td>\n",
       "      <td>sextet_157.44</td>\n",
       "      <td>divisor_137.04</td>\n",
       "      <td>sum_130.18</td>\n",
       "      <td>numeral_91.21</td>\n",
       "      <td>six_85.29</td>\n",
       "      <td>prime_83.38</td>\n",
       "      <td>harshad_83.36</td>\n",
       "      <td>duodecimal_80.9</td>\n",
       "      <td>perfect_77.23</td>\n",
       "      <td>integer_74.51</td>\n",
       "      <td>twelve_69.88</td>\n",
       "      <td>semiperfect_58.71</td>\n",
       "    </tr>\n",
       "  </tbody>\n",
       "</table>\n",
       "</div>"
      ],
      "text/plain": [
       "             0          1                    2              3   \\\n",
       "0  bn:00000013n    Million       million_209.35  number_146.31   \n",
       "1  bn:00000086n        Day           day_635.03  planet_259.64   \n",
       "2  bn:00000116n     Quarto  shakespeare_1768.19  quarto_653.03   \n",
       "3  bn:00000122n  Serotonin    serotonin_1841.08   5-ht_1605.34   \n",
       "4  bn:00000125n     Sextet        number_657.44   digit_240.04   \n",
       "\n",
       "                 4                 5                  6   \\\n",
       "0  mathematics_61.3  long scale_53.31  real number_50.43   \n",
       "1        sun_258.79      earth_255.66    calendar_249.75   \n",
       "2       play_455.97   henry vi_404.57     edition_332.93   \n",
       "3  receptor_1254.36    agonist_379.61           2c_368.6   \n",
       "4     sextet_157.44    divisor_137.04         sum_130.18   \n",
       "\n",
       "                        7                  8            9                 10  \\\n",
       "0            numeral_50.35  short scale_50.12  digit_42.17       bally_41.77   \n",
       "1              time_241.25       clock_211.54  moon_184.24      orbit_169.14   \n",
       "2            hamlet_332.66       folio_295.89  titus_260.9      shrew_241.83   \n",
       "3  neurotransmitter_355.56       leptin_283.0  drug_271.04  tryptophan_255.0   \n",
       "4            numeral_91.21          six_85.29  prime_83.38     harshad_83.36   \n",
       "\n",
       "                  11                   12                 13  \\\n",
       "0  millionaire_41.31        penguin_41.11       markov_40.61   \n",
       "1       month_150.51          hour_132.02      decimal_126.9   \n",
       "2       print_210.72         sonnet_197.9      octavo_180.97   \n",
       "3    dopamine_239.95  serotonergic_204.52  antagonist_187.54   \n",
       "4    duodecimal_80.9        perfect_77.23      integer_74.51   \n",
       "\n",
       "                      14                 15  \n",
       "0   complex number_38.37     infinity_36.79  \n",
       "1    astronomical_111.73    leap year_102.2  \n",
       "2       petruchio_159.51       henry_144.59  \n",
       "3  antidepressant_168.76      neuron_167.81  \n",
       "4           twelve_69.88  semiperfect_58.71  "
      ]
     },
     "execution_count": 128,
     "metadata": {},
     "output_type": "execute_result"
    }
   ],
   "source": [
    "nasari_vectors = pd.read_csv('data/dd-small-nasari-15.txt', on_bad_lines='skip', header=None, sep=';')\n",
    "nasari_vectors.head()"
   ]
  },
  {
   "cell_type": "code",
   "execution_count": 129,
   "metadata": {},
   "outputs": [
    {
     "name": "stdout",
     "output_type": "stream",
     "text": [
      "['napoleone', 'bonaparte']\n",
      "['napoleon bonaparte', 'born', 'napoleone', 'di', 'buonaparte', 'wa', 'french', 'statesman', 'military leader', 'rose', 'prominence', 'french revolution', 'led', 'several', 'successful', 'campaign', 'french', 'revolutionary', 'war']\n",
      "['wa', 'emperor', 'french', 'napoleon i', '1804', '1814', 'briefly', '1815', 'hundred', 'day', 'napoleon', 'dominated', 'european', 'global', 'affair', 'more than', 'decade', 'leading', 'france', 'series', 'coalition', 'napoleonic wars']\n"
     ]
    }
   ],
   "source": [
    "text = open('data/docs/Napoleon-wiki-test.txt', 'r').read().split('\\n')\n",
    "text = [line for line in text if line != '']\n",
    "\n",
    "text_preprocessed = [pre_processing(line) for line in text[0:]]\n",
    "for line in text_preprocessed:\n",
    "    for word in line:\n",
    "        if word not in nasari_vectors[0].values:\n",
    "            line.remove(word)"
   ]
  },
  {
   "cell_type": "code",
   "execution_count": 130,
   "metadata": {},
   "outputs": [],
   "source": [
    "#import requests\n",
    "\n",
    "#babelnet_token = '1e258739-f5e4-4961-8267-a2da4fe94572'\n",
    "#word = 'dog'\n",
    "#response = requests.get(f'https://babelnet.io/v8/getSynsetIds?lemma={word}&searchLang=EN&key={babelnet_token}')\n",
    "#babelnet_id = response.json()[0]['id']\n",
    "#print(babelnet_id)"
   ]
  },
  {
   "cell_type": "code",
   "execution_count": 131,
   "metadata": {},
   "outputs": [],
   "source": [
    "#response.json()"
   ]
  },
  {
   "attachments": {},
   "cell_type": "markdown",
   "metadata": {},
   "source": [
    "## Creazione del contesto"
   ]
  },
  {
   "cell_type": "code",
   "execution_count": null,
   "metadata": {},
   "outputs": [],
   "source": []
  },
  {
   "attachments": {},
   "cell_type": "markdown",
   "metadata": {},
   "source": [
    "## Pesatura dei paragrafi\n",
    "\n",
    "Eseguita usanto la metrica Weighted Oveerlap"
   ]
  },
  {
   "cell_type": "code",
   "execution_count": null,
   "metadata": {},
   "outputs": [],
   "source": []
  }
 ],
 "metadata": {
  "kernelspec": {
   "display_name": "Python 3",
   "language": "python",
   "name": "python3"
  },
  "language_info": {
   "codemirror_mode": {
    "name": "ipython",
    "version": 3
   },
   "file_extension": ".py",
   "mimetype": "text/x-python",
   "name": "python",
   "nbconvert_exporter": "python",
   "pygments_lexer": "ipython3",
   "version": "3.11.0"
  },
  "orig_nbformat": 4
 },
 "nbformat": 4,
 "nbformat_minor": 2
}
