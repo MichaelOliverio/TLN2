{
 "cells": [
  {
   "attachments": {},
   "cell_type": "markdown",
   "metadata": {},
   "source": [
    "# Esercizio 1b\n",
    "\n",
    "Implementare l’algoritmo di Lesk (!= usare implementazione esistente, e.g., in nltk…).\n",
    "- Estrarre 50 frasi dal corpus SemCor (corpus annotato con i synset di WN) e disambiguare (almeno) un sostantivo per frase. Calcolare l’accuratezza del sistema implementato sulla base dei sensi annotati in SemCor (SemCor è disponibile all’URL http://web.eecs.umich.edu/~mihalcea/downloads.html)\n",
    "- Randomizzare la selezione delle 50 frasi e la selezione del termine da disambiguare, e restituire l’accuratezza media su (per esempio) 10 esecuzioni del programma\n",
    "\n",
    "Opzionale: implementare corpus_lesk_algorithm utilizando semCor"
   ]
  },
  {
   "cell_type": "code",
   "execution_count": 10,
   "metadata": {},
   "outputs": [],
   "source": [
    "import numpy as np\n",
    "import random\n",
    "import nltk\n",
    "import re\n",
    "from nltk import MWETokenizer, WordNetLemmatizer\n",
    "from nltk.corpus import wordnet as wn\n",
    "from nltk.corpus import semcor\n",
    "from nltk.corpus import stopwords\n",
    "#nltk.('sedownloadmcor')\n",
    "\n",
    "stop_words = set(stopwords.words('english'))\n",
    "SEMCORE_LEN = len(semcor.tagged_sents(tag = 'sem'))"
   ]
  },
  {
   "attachments": {},
   "cell_type": "markdown",
   "metadata": {},
   "source": [
    "### Pre-processing"
   ]
  },
  {
   "cell_type": "code",
   "execution_count": 2,
   "metadata": {
    "collapsed": false
   },
   "outputs": [],
   "source": [
    "stop_words = set(stopwords.words('english')) #remove stop words\n",
    "mwes = [x for x in wn.all_lemma_names() if '_' in x]\n",
    "mwes = [tuple(x.split('_')) for x in mwes]\n",
    "tokenizer = MWETokenizer(mwes, separator=' ')\n",
    "lemmatizer = WordNetLemmatizer()\n",
    "\n",
    "def preprocessing(text):\n",
    "    text = re.sub(r'[^\\w\\s]',' ',text) #remove punctuation\n",
    "    text = text.lower()\n",
    "    text = tokenizer.tokenize(text.split())\n",
    "    text = [lemmatizer.lemmatize(token) for token in text]\n",
    "    text = [w for w in text if not w in stop_words]\n",
    "    return text"
   ]
  },
  {
   "attachments": {},
   "cell_type": "markdown",
   "metadata": {},
   "source": [
    "### LEMMA_LIST: resituisce il lemma della frase del corpus etichettato"
   ]
  },
  {
   "cell_type": "code",
   "execution_count": 3,
   "metadata": {},
   "outputs": [],
   "source": [
    "def lemma_list(sent):\n",
    "    ret = []\n",
    "    try:\n",
    "        ret = [l.label() if isinstance(l, nltk.tree.Tree) else None for l in sent]\n",
    "        ret = [label.synset() for label in ret if label and hasattr(label, 'synset')]\n",
    "    except:\n",
    "        print('error')\n",
    "\n",
    "    return ret"
   ]
  },
  {
   "attachments": {},
   "cell_type": "markdown",
   "metadata": {},
   "source": [
    "### GET_CONTEXT_FROM_SEMCOR: dato un senso, vengono estratte tutte le frasi di semcor contenenti quel senso al fine di utilizzarlo come contesto nel corpus lesk algorithm"
   ]
  },
  {
   "cell_type": "code",
   "execution_count": 14,
   "metadata": {
    "collapsed": false
   },
   "outputs": [],
   "source": [
    "def get_context_from_semcor(target_sense):\n",
    "    print('Target sense:', target_sense)\n",
    "    sentences = []\n",
    "    \n",
    "    #get the sentences in which the target sense is present\n",
    "    i = 0\n",
    "    while i < SEMCORE_LEN and len(sentences) < 2:\n",
    "        sent_annotated = semcor.tagged_sents(tag = 'sem')[i]\n",
    "        sent = ' '.join(semcor.sents()[i])\n",
    "\n",
    "        if target_sense in lemma_list(sent_annotated):\n",
    "            sentences.append(sent)\n",
    "            print('Sentence', i, 'added')\n",
    "        i += 1\n",
    "        \n",
    "    print('Number of sentences for', target_sense, ':', len(sentences))\n",
    "    return set(preprocessing(' '.join(sentences)))"
   ]
  },
  {
   "attachments": {},
   "cell_type": "markdown",
   "metadata": {},
   "source": [
    "## SIMPLIFIED LESK\n",
    "\n",
    "Consideriamo anche il pos tag per andare a escludere i synset non adeguati "
   ]
  },
  {
   "cell_type": "code",
   "execution_count": 5,
   "metadata": {},
   "outputs": [],
   "source": [
    "def simplified_lesk(word, pos, context):\n",
    "    word = wn.morphy(word) if wn.morphy(word) is not None else word\n",
    "    best_sense = wn.synsets(word)[0] if len(wn.synsets(word)) > 0 else None #wordnet ordina i sysnet in base alla frequenza\n",
    "    max_overlap = 0\n",
    "\n",
    "    for sense in wn.synsets(word, pos=pos):\n",
    "        signature = set(preprocessing(sense.definition())).union(set(preprocessing(' '.join(sense.examples()))))\n",
    "        overlap = len(context.intersection(signature))\n",
    "        if overlap > max_overlap:\n",
    "            max_overlap = overlap\n",
    "            best_sense = sense\n",
    "    \n",
    "    return best_sense"
   ]
  },
  {
   "attachments": {},
   "cell_type": "markdown",
   "metadata": {},
   "source": [
    "## CORPUS LESK"
   ]
  },
  {
   "cell_type": "code",
   "execution_count": 6,
   "metadata": {},
   "outputs": [],
   "source": [
    "def corpus_lesk(word, pos, context):\n",
    "    best_sense = wn.synsets(word)[0] if len(wn.synsets(word)) > 0 else None #wordnet ordina i sysnet in base alla frequenza\n",
    "    max_overlap = 0\n",
    "    \n",
    "    for sense in wn.synsets(word, pos=pos):\n",
    "        signature = set(preprocessing(sense.definition())).union(set(preprocessing(' '.join(sense.examples()))))\n",
    "        signature = signature.union(get_context_from_semcor(sense))\n",
    "        overlap = len(context.intersection(signature))\n",
    "        if overlap > max_overlap:\n",
    "            max_overlap = overlap\n",
    "            best_sense = sense\n",
    "\n",
    "    return best_sense"
   ]
  },
  {
   "attachments": {},
   "cell_type": "markdown",
   "metadata": {},
   "source": [
    "## TEST"
   ]
  },
  {
   "cell_type": "code",
   "execution_count": 15,
   "metadata": {},
   "outputs": [
    {
     "name": "stdout",
     "output_type": "stream",
     "text": [
      "Target sense: Synset('travel.v.01')\n",
      "Sentence 199 added\n",
      "Sentence 238 added\n",
      "Number of sentences for Synset('travel.v.01') : 2\n",
      "Target sense: Synset('go.v.02')\n",
      "Sentence 92 added\n",
      "Sentence 496 added\n",
      "Number of sentences for Synset('go.v.02') : 2\n",
      "Target sense: Synset('go.v.03')\n"
     ]
    },
    {
     "ename": "KeyboardInterrupt",
     "evalue": "",
     "output_type": "error",
     "traceback": [
      "\u001b[1;31m---------------------------------------------------------------------------\u001b[0m",
      "\u001b[1;31mKeyboardInterrupt\u001b[0m                         Traceback (most recent call last)",
      "\u001b[1;32mc:\\Users\\OliverioM\\Desktop\\TLN - Radicioni\\TLN2\\Esercizio 1\\wsd.ipynb Cella 14\u001b[0m in \u001b[0;36m<cell line: 47>\u001b[1;34m()\u001b[0m\n\u001b[0;32m     <a href='vscode-notebook-cell:/c%3A/Users/OliverioM/Desktop/TLN%20-%20Radicioni/TLN2/Esercizio%201/wsd.ipynb#X16sZmlsZQ%3D%3D?line=42'>43</a>\u001b[0m     \u001b[39mprint\u001b[39m(\u001b[39m'\u001b[39m\u001b[39maccuracy: \u001b[39m\u001b[39m'\u001b[39m, accuracy)\n\u001b[0;32m     <a href='vscode-notebook-cell:/c%3A/Users/OliverioM/Desktop/TLN%20-%20Radicioni/TLN2/Esercizio%201/wsd.ipynb#X16sZmlsZQ%3D%3D?line=44'>45</a>\u001b[0m     \u001b[39mreturn\u001b[39;00m accuracy\n\u001b[1;32m---> <a href='vscode-notebook-cell:/c%3A/Users/OliverioM/Desktop/TLN%20-%20Radicioni/TLN2/Esercizio%201/wsd.ipynb#X16sZmlsZQ%3D%3D?line=46'>47</a>\u001b[0m test()\n",
      "\u001b[1;32mc:\\Users\\OliverioM\\Desktop\\TLN - Radicioni\\TLN2\\Esercizio 1\\wsd.ipynb Cella 14\u001b[0m in \u001b[0;36mtest\u001b[1;34m()\u001b[0m\n\u001b[0;32m     <a href='vscode-notebook-cell:/c%3A/Users/OliverioM/Desktop/TLN%20-%20Radicioni/TLN2/Esercizio%201/wsd.ipynb#X16sZmlsZQ%3D%3D?line=30'>31</a>\u001b[0m                 pos \u001b[39m=\u001b[39m actual_synset\u001b[39m.\u001b[39mpos()\n\u001b[0;32m     <a href='vscode-notebook-cell:/c%3A/Users/OliverioM/Desktop/TLN%20-%20Radicioni/TLN2/Esercizio%201/wsd.ipynb#X16sZmlsZQ%3D%3D?line=32'>33</a>\u001b[0m                 context \u001b[39m=\u001b[39m \u001b[39mset\u001b[39m(sentence)\n\u001b[1;32m---> <a href='vscode-notebook-cell:/c%3A/Users/OliverioM/Desktop/TLN%20-%20Radicioni/TLN2/Esercizio%201/wsd.ipynb#X16sZmlsZQ%3D%3D?line=33'>34</a>\u001b[0m                 predicted_synset \u001b[39m=\u001b[39m corpus_lesk(random_word, pos, context)\n\u001b[0;32m     <a href='vscode-notebook-cell:/c%3A/Users/OliverioM/Desktop/TLN%20-%20Radicioni/TLN2/Esercizio%201/wsd.ipynb#X16sZmlsZQ%3D%3D?line=34'>35</a>\u001b[0m                 esci \u001b[39m=\u001b[39m \u001b[39mTrue\u001b[39;00m\n\u001b[0;32m     <a href='vscode-notebook-cell:/c%3A/Users/OliverioM/Desktop/TLN%20-%20Radicioni/TLN2/Esercizio%201/wsd.ipynb#X16sZmlsZQ%3D%3D?line=36'>37</a>\u001b[0m \u001b[39mif\u001b[39;00m actual_synset \u001b[39mis\u001b[39;00m \u001b[39mnot\u001b[39;00m \u001b[39mNone\u001b[39;00m \u001b[39mand\u001b[39;00m predicted_synset \u001b[39mis\u001b[39;00m \u001b[39mnot\u001b[39;00m \u001b[39mNone\u001b[39;00m:\n",
      "\u001b[1;32mc:\\Users\\OliverioM\\Desktop\\TLN - Radicioni\\TLN2\\Esercizio 1\\wsd.ipynb Cella 14\u001b[0m in \u001b[0;36mcorpus_lesk\u001b[1;34m(word, pos, context)\u001b[0m\n\u001b[0;32m      <a href='vscode-notebook-cell:/c%3A/Users/OliverioM/Desktop/TLN%20-%20Radicioni/TLN2/Esercizio%201/wsd.ipynb#X16sZmlsZQ%3D%3D?line=4'>5</a>\u001b[0m \u001b[39mfor\u001b[39;00m sense \u001b[39min\u001b[39;00m wn\u001b[39m.\u001b[39msynsets(word, pos\u001b[39m=\u001b[39mpos):\n\u001b[0;32m      <a href='vscode-notebook-cell:/c%3A/Users/OliverioM/Desktop/TLN%20-%20Radicioni/TLN2/Esercizio%201/wsd.ipynb#X16sZmlsZQ%3D%3D?line=5'>6</a>\u001b[0m     signature \u001b[39m=\u001b[39m \u001b[39mset\u001b[39m(preprocessing(sense\u001b[39m.\u001b[39mdefinition()))\u001b[39m.\u001b[39munion(\u001b[39mset\u001b[39m(preprocessing(\u001b[39m'\u001b[39m\u001b[39m \u001b[39m\u001b[39m'\u001b[39m\u001b[39m.\u001b[39mjoin(sense\u001b[39m.\u001b[39mexamples()))))\n\u001b[1;32m----> <a href='vscode-notebook-cell:/c%3A/Users/OliverioM/Desktop/TLN%20-%20Radicioni/TLN2/Esercizio%201/wsd.ipynb#X16sZmlsZQ%3D%3D?line=6'>7</a>\u001b[0m     signature \u001b[39m=\u001b[39m signature\u001b[39m.\u001b[39munion(get_context_from_semcor(sense))\n\u001b[0;32m      <a href='vscode-notebook-cell:/c%3A/Users/OliverioM/Desktop/TLN%20-%20Radicioni/TLN2/Esercizio%201/wsd.ipynb#X16sZmlsZQ%3D%3D?line=7'>8</a>\u001b[0m     overlap \u001b[39m=\u001b[39m \u001b[39mlen\u001b[39m(context\u001b[39m.\u001b[39mintersection(signature))\n\u001b[0;32m      <a href='vscode-notebook-cell:/c%3A/Users/OliverioM/Desktop/TLN%20-%20Radicioni/TLN2/Esercizio%201/wsd.ipynb#X16sZmlsZQ%3D%3D?line=8'>9</a>\u001b[0m     \u001b[39mif\u001b[39;00m overlap \u001b[39m>\u001b[39m max_overlap:\n",
      "\u001b[1;32mc:\\Users\\OliverioM\\Desktop\\TLN - Radicioni\\TLN2\\Esercizio 1\\wsd.ipynb Cella 14\u001b[0m in \u001b[0;36mget_context_from_semcor\u001b[1;34m(target_sense)\u001b[0m\n\u001b[0;32m      <a href='vscode-notebook-cell:/c%3A/Users/OliverioM/Desktop/TLN%20-%20Radicioni/TLN2/Esercizio%201/wsd.ipynb#X16sZmlsZQ%3D%3D?line=5'>6</a>\u001b[0m i \u001b[39m=\u001b[39m \u001b[39m0\u001b[39m\n\u001b[0;32m      <a href='vscode-notebook-cell:/c%3A/Users/OliverioM/Desktop/TLN%20-%20Radicioni/TLN2/Esercizio%201/wsd.ipynb#X16sZmlsZQ%3D%3D?line=6'>7</a>\u001b[0m \u001b[39mwhile\u001b[39;00m i \u001b[39m<\u001b[39m SEMCORE_LEN \u001b[39mand\u001b[39;00m \u001b[39mlen\u001b[39m(sentences) \u001b[39m<\u001b[39m \u001b[39m2\u001b[39m:\n\u001b[1;32m----> <a href='vscode-notebook-cell:/c%3A/Users/OliverioM/Desktop/TLN%20-%20Radicioni/TLN2/Esercizio%201/wsd.ipynb#X16sZmlsZQ%3D%3D?line=7'>8</a>\u001b[0m     sent_annotated \u001b[39m=\u001b[39m semcor\u001b[39m.\u001b[39;49mtagged_sents(tag \u001b[39m=\u001b[39;49m \u001b[39m'\u001b[39;49m\u001b[39msem\u001b[39;49m\u001b[39m'\u001b[39;49m)[i]\n\u001b[0;32m      <a href='vscode-notebook-cell:/c%3A/Users/OliverioM/Desktop/TLN%20-%20Radicioni/TLN2/Esercizio%201/wsd.ipynb#X16sZmlsZQ%3D%3D?line=8'>9</a>\u001b[0m     sent \u001b[39m=\u001b[39m \u001b[39m'\u001b[39m\u001b[39m \u001b[39m\u001b[39m'\u001b[39m\u001b[39m.\u001b[39mjoin(semcor\u001b[39m.\u001b[39msents()[i])\n\u001b[0;32m     <a href='vscode-notebook-cell:/c%3A/Users/OliverioM/Desktop/TLN%20-%20Radicioni/TLN2/Esercizio%201/wsd.ipynb#X16sZmlsZQ%3D%3D?line=10'>11</a>\u001b[0m     \u001b[39mif\u001b[39;00m target_sense \u001b[39min\u001b[39;00m lemma_list(sent_annotated):\n",
      "File \u001b[1;32mc:\\Users\\OliverioM\\Anaconda3\\lib\\site-packages\\nltk\\collections.py:172\u001b[0m, in \u001b[0;36mAbstractLazySequence.__getitem__\u001b[1;34m(self, i)\u001b[0m\n\u001b[0;32m    170\u001b[0m \u001b[39m# Use iterate_from to extract it.\u001b[39;00m\n\u001b[0;32m    171\u001b[0m \u001b[39mtry\u001b[39;00m:\n\u001b[1;32m--> 172\u001b[0m     \u001b[39mreturn\u001b[39;00m \u001b[39mnext\u001b[39;49m(\u001b[39mself\u001b[39;49m\u001b[39m.\u001b[39;49miterate_from(i))\n\u001b[0;32m    173\u001b[0m \u001b[39mexcept\u001b[39;00m \u001b[39mStopIteration\u001b[39;00m \u001b[39mas\u001b[39;00m e:\n\u001b[0;32m    174\u001b[0m     \u001b[39mraise\u001b[39;00m \u001b[39mIndexError\u001b[39;00m(\u001b[39m\"\u001b[39m\u001b[39mindex out of range\u001b[39m\u001b[39m\"\u001b[39m) \u001b[39mfrom\u001b[39;00m \u001b[39me\u001b[39;00m\n",
      "File \u001b[1;32mc:\\Users\\OliverioM\\Anaconda3\\lib\\site-packages\\nltk\\corpus\\reader\\util.py:424\u001b[0m, in \u001b[0;36mConcatenatedCorpusView.iterate_from\u001b[1;34m(self, start_tok)\u001b[0m\n\u001b[0;32m    421\u001b[0m     \u001b[39mself\u001b[39m\u001b[39m.\u001b[39m_open_piece \u001b[39m=\u001b[39m piece\n\u001b[0;32m    423\u001b[0m \u001b[39m# Get everything we can from this piece.\u001b[39;00m\n\u001b[1;32m--> 424\u001b[0m \u001b[39myield from\u001b[39;00m piece\u001b[39m.\u001b[39miterate_from(\u001b[39mmax\u001b[39m(\u001b[39m0\u001b[39m, start_tok \u001b[39m-\u001b[39m offset))\n\u001b[0;32m    426\u001b[0m \u001b[39m# Update the offset table.\u001b[39;00m\n\u001b[0;32m    427\u001b[0m \u001b[39mif\u001b[39;00m piecenum \u001b[39m+\u001b[39m \u001b[39m1\u001b[39m \u001b[39m==\u001b[39m \u001b[39mlen\u001b[39m(\u001b[39mself\u001b[39m\u001b[39m.\u001b[39m_offsets):\n",
      "File \u001b[1;32mc:\\Users\\OliverioM\\Anaconda3\\lib\\site-packages\\nltk\\corpus\\reader\\util.py:306\u001b[0m, in \u001b[0;36mStreamBackedCorpusView.iterate_from\u001b[1;34m(self, start_tok)\u001b[0m\n\u001b[0;32m    304\u001b[0m \u001b[39mself\u001b[39m\u001b[39m.\u001b[39m_current_toknum \u001b[39m=\u001b[39m toknum\n\u001b[0;32m    305\u001b[0m \u001b[39mself\u001b[39m\u001b[39m.\u001b[39m_current_blocknum \u001b[39m=\u001b[39m block_index\n\u001b[1;32m--> 306\u001b[0m tokens \u001b[39m=\u001b[39m \u001b[39mself\u001b[39;49m\u001b[39m.\u001b[39;49mread_block(\u001b[39mself\u001b[39;49m\u001b[39m.\u001b[39;49m_stream)\n\u001b[0;32m    307\u001b[0m \u001b[39massert\u001b[39;00m \u001b[39misinstance\u001b[39m(tokens, (\u001b[39mtuple\u001b[39m, \u001b[39mlist\u001b[39m, AbstractLazySequence)), (\n\u001b[0;32m    308\u001b[0m     \u001b[39m\"\u001b[39m\u001b[39mblock reader \u001b[39m\u001b[39m%s\u001b[39;00m\u001b[39m() should return list or tuple.\u001b[39m\u001b[39m\"\u001b[39m\n\u001b[0;32m    309\u001b[0m     \u001b[39m%\u001b[39m \u001b[39mself\u001b[39m\u001b[39m.\u001b[39mread_block\u001b[39m.\u001b[39m\u001b[39m__name__\u001b[39m\n\u001b[0;32m    310\u001b[0m )\n\u001b[0;32m    311\u001b[0m num_toks \u001b[39m=\u001b[39m \u001b[39mlen\u001b[39m(tokens)\n",
      "File \u001b[1;32mc:\\Users\\OliverioM\\Anaconda3\\lib\\site-packages\\nltk\\corpus\\reader\\xmldocs.py:391\u001b[0m, in \u001b[0;36mXMLCorpusView.read_block\u001b[1;34m(self, stream, tagspec, elt_handler)\u001b[0m\n\u001b[0;32m    388\u001b[0m \u001b[39melse\u001b[39;00m:\n\u001b[0;32m    389\u001b[0m     \u001b[39mself\u001b[39m\u001b[39m.\u001b[39m_tag_context[pos] \u001b[39m=\u001b[39m \u001b[39mtuple\u001b[39m(context)\n\u001b[1;32m--> 391\u001b[0m \u001b[39mreturn\u001b[39;00m [\n\u001b[0;32m    392\u001b[0m     elt_handler(\n\u001b[0;32m    393\u001b[0m         ElementTree\u001b[39m.\u001b[39mfromstring(elt\u001b[39m.\u001b[39mencode(\u001b[39m\"\u001b[39m\u001b[39mascii\u001b[39m\u001b[39m\"\u001b[39m, \u001b[39m\"\u001b[39m\u001b[39mxmlcharrefreplace\u001b[39m\u001b[39m\"\u001b[39m)),\n\u001b[0;32m    394\u001b[0m         context,\n\u001b[0;32m    395\u001b[0m     )\n\u001b[0;32m    396\u001b[0m     \u001b[39mfor\u001b[39;00m (elt, context) \u001b[39min\u001b[39;00m elts\n\u001b[0;32m    397\u001b[0m ]\n",
      "File \u001b[1;32mc:\\Users\\OliverioM\\Anaconda3\\lib\\site-packages\\nltk\\corpus\\reader\\xmldocs.py:392\u001b[0m, in \u001b[0;36m<listcomp>\u001b[1;34m(.0)\u001b[0m\n\u001b[0;32m    388\u001b[0m \u001b[39melse\u001b[39;00m:\n\u001b[0;32m    389\u001b[0m     \u001b[39mself\u001b[39m\u001b[39m.\u001b[39m_tag_context[pos] \u001b[39m=\u001b[39m \u001b[39mtuple\u001b[39m(context)\n\u001b[0;32m    391\u001b[0m \u001b[39mreturn\u001b[39;00m [\n\u001b[1;32m--> 392\u001b[0m     elt_handler(\n\u001b[0;32m    393\u001b[0m         ElementTree\u001b[39m.\u001b[39;49mfromstring(elt\u001b[39m.\u001b[39;49mencode(\u001b[39m\"\u001b[39;49m\u001b[39mascii\u001b[39;49m\u001b[39m\"\u001b[39;49m, \u001b[39m\"\u001b[39;49m\u001b[39mxmlcharrefreplace\u001b[39;49m\u001b[39m\"\u001b[39;49m)),\n\u001b[0;32m    394\u001b[0m         context,\n\u001b[0;32m    395\u001b[0m     )\n\u001b[0;32m    396\u001b[0m     \u001b[39mfor\u001b[39;00m (elt, context) \u001b[39min\u001b[39;00m elts\n\u001b[0;32m    397\u001b[0m ]\n",
      "File \u001b[1;32mc:\\Users\\OliverioM\\Anaconda3\\lib\\site-packages\\nltk\\corpus\\reader\\semcor.py:276\u001b[0m, in \u001b[0;36mSemcorWordView.handle_elt\u001b[1;34m(self, elt, context)\u001b[0m\n\u001b[0;32m    274\u001b[0m \u001b[39mdef\u001b[39;00m \u001b[39mhandle_elt\u001b[39m(\u001b[39mself\u001b[39m, elt, context):\n\u001b[0;32m    275\u001b[0m     \u001b[39mif\u001b[39;00m \u001b[39mself\u001b[39m\u001b[39m.\u001b[39m_sent:\n\u001b[1;32m--> 276\u001b[0m         \u001b[39mreturn\u001b[39;00m \u001b[39mself\u001b[39;49m\u001b[39m.\u001b[39;49mhandle_sent(elt)\n\u001b[0;32m    277\u001b[0m     \u001b[39melse\u001b[39;00m:\n\u001b[0;32m    278\u001b[0m         \u001b[39mreturn\u001b[39;00m \u001b[39mself\u001b[39m\u001b[39m.\u001b[39mhandle_word(elt)\n",
      "File \u001b[1;32mc:\\Users\\OliverioM\\Anaconda3\\lib\\site-packages\\nltk\\corpus\\reader\\semcor.py:289\u001b[0m, in \u001b[0;36mSemcorWordView.handle_sent\u001b[1;34m(self, elt)\u001b[0m\n\u001b[0;32m    287\u001b[0m \u001b[39mfor\u001b[39;00m child \u001b[39min\u001b[39;00m elt:\n\u001b[0;32m    288\u001b[0m     \u001b[39mif\u001b[39;00m child\u001b[39m.\u001b[39mtag \u001b[39min\u001b[39;00m (\u001b[39m\"\u001b[39m\u001b[39mwf\u001b[39m\u001b[39m\"\u001b[39m, \u001b[39m\"\u001b[39m\u001b[39mpunc\u001b[39m\u001b[39m\"\u001b[39m):\n\u001b[1;32m--> 289\u001b[0m         itm \u001b[39m=\u001b[39m \u001b[39mself\u001b[39;49m\u001b[39m.\u001b[39;49mhandle_word(child)\n\u001b[0;32m    290\u001b[0m         \u001b[39mif\u001b[39;00m \u001b[39mself\u001b[39m\u001b[39m.\u001b[39m_unit \u001b[39m==\u001b[39m \u001b[39m\"\u001b[39m\u001b[39mword\u001b[39m\u001b[39m\"\u001b[39m:\n\u001b[0;32m    291\u001b[0m             sent\u001b[39m.\u001b[39mextend(itm)\n",
      "File \u001b[1;32mc:\\Users\\OliverioM\\Anaconda3\\lib\\site-packages\\nltk\\corpus\\reader\\semcor.py:281\u001b[0m, in \u001b[0;36mSemcorWordView.handle_word\u001b[1;34m(self, elt)\u001b[0m\n\u001b[0;32m    280\u001b[0m \u001b[39mdef\u001b[39;00m \u001b[39mhandle_word\u001b[39m(\u001b[39mself\u001b[39m, elt):\n\u001b[1;32m--> 281\u001b[0m     \u001b[39mreturn\u001b[39;00m SemcorCorpusReader\u001b[39m.\u001b[39;49m_word(\n\u001b[0;32m    282\u001b[0m         elt, \u001b[39mself\u001b[39;49m\u001b[39m.\u001b[39;49m_unit, \u001b[39mself\u001b[39;49m\u001b[39m.\u001b[39;49m_pos_tag, \u001b[39mself\u001b[39;49m\u001b[39m.\u001b[39;49m_sem_tag, \u001b[39mself\u001b[39;49m\u001b[39m.\u001b[39;49m_wordnet\n\u001b[0;32m    283\u001b[0m     )\n",
      "File \u001b[1;32mc:\\Users\\OliverioM\\Anaconda3\\lib\\site-packages\\nltk\\corpus\\reader\\semcor.py:192\u001b[0m, in \u001b[0;36mSemcorCorpusReader._word\u001b[1;34m(xmlword, unit, pos_tag, sem_tag, wordnet)\u001b[0m\n\u001b[0;32m    190\u001b[0m \u001b[39mif\u001b[39;00m sensenum \u001b[39mis\u001b[39;00m \u001b[39mnot\u001b[39;00m \u001b[39mNone\u001b[39;00m:\n\u001b[0;32m    191\u001b[0m     \u001b[39mtry\u001b[39;00m:\n\u001b[1;32m--> 192\u001b[0m         sense \u001b[39m=\u001b[39m wordnet\u001b[39m.\u001b[39;49mlemma_from_key(sense_key)  \u001b[39m# Lemma object\u001b[39;00m\n\u001b[0;32m    193\u001b[0m     \u001b[39mexcept\u001b[39;00m \u001b[39mException\u001b[39;00m:\n\u001b[0;32m    194\u001b[0m         \u001b[39m# cannot retrieve the wordnet.Lemma object. possible reasons:\u001b[39;00m\n\u001b[0;32m    195\u001b[0m         \u001b[39m#  (a) the wordnet corpus is not downloaded;\u001b[39;00m\n\u001b[0;32m    196\u001b[0m         \u001b[39m#  (b) a nonexistent sense is annotated: e.g., such.s.00 triggers:\u001b[39;00m\n\u001b[0;32m    197\u001b[0m         \u001b[39m#  nltk.corpus.reader.wordnet.WordNetError: No synset found for key u'such%5:00:01:specified:00'\u001b[39;00m\n\u001b[0;32m    198\u001b[0m         \u001b[39m# solution: just use the lemma name as a string\u001b[39;00m\n\u001b[0;32m    199\u001b[0m         \u001b[39mtry\u001b[39;00m:\n",
      "File \u001b[1;32mc:\\Users\\OliverioM\\Anaconda3\\lib\\site-packages\\nltk\\corpus\\reader\\wordnet.py:1418\u001b[0m, in \u001b[0;36mWordNetCorpusReader.lemma_from_key\u001b[1;34m(self, key)\u001b[0m\n\u001b[0;32m   1415\u001b[0m     \u001b[39mself\u001b[39m\u001b[39m.\u001b[39m_key_synset_file \u001b[39m=\u001b[39m \u001b[39mself\u001b[39m\u001b[39m.\u001b[39mopen(\u001b[39m\"\u001b[39m\u001b[39mindex.sense\u001b[39m\u001b[39m\"\u001b[39m)\n\u001b[0;32m   1417\u001b[0m \u001b[39m# Find the synset for the lemma.\u001b[39;00m\n\u001b[1;32m-> 1418\u001b[0m synset_line \u001b[39m=\u001b[39m _binary_search_file(\u001b[39mself\u001b[39;49m\u001b[39m.\u001b[39;49m_key_synset_file, key)\n\u001b[0;32m   1419\u001b[0m \u001b[39mif\u001b[39;00m \u001b[39mnot\u001b[39;00m synset_line:\n\u001b[0;32m   1420\u001b[0m     \u001b[39mraise\u001b[39;00m WordNetError(\u001b[39m\"\u001b[39m\u001b[39mNo synset found for key \u001b[39m\u001b[39m%r\u001b[39;00m\u001b[39m\"\u001b[39m \u001b[39m%\u001b[39m key)\n",
      "File \u001b[1;32mc:\\Users\\OliverioM\\Anaconda3\\lib\\site-packages\\nltk\\util.py:1055\u001b[0m, in \u001b[0;36mbinary_search_file\u001b[1;34m(file, key, cache, cacheDepth)\u001b[0m\n\u001b[0;32m   1053\u001b[0m     file\u001b[39m.\u001b[39mdiscard_line()\n\u001b[0;32m   1054\u001b[0m offset \u001b[39m=\u001b[39m file\u001b[39m.\u001b[39mtell()\n\u001b[1;32m-> 1055\u001b[0m line \u001b[39m=\u001b[39m file\u001b[39m.\u001b[39;49mreadline()\n\u001b[0;32m   1056\u001b[0m \u001b[39mif\u001b[39;00m line \u001b[39m!=\u001b[39m \u001b[39m\"\u001b[39m\u001b[39m\"\u001b[39m:\n\u001b[0;32m   1057\u001b[0m     \u001b[39mbreak\u001b[39;00m\n",
      "File \u001b[1;32mc:\\Users\\OliverioM\\Anaconda3\\lib\\site-packages\\nltk\\data.py:1111\u001b[0m, in \u001b[0;36mSeekableUnicodeStreamReader.readline\u001b[1;34m(self, size)\u001b[0m\n\u001b[0;32m   1109\u001b[0m \u001b[39mif\u001b[39;00m \u001b[39mlen\u001b[39m(lines) \u001b[39m>\u001b[39m \u001b[39m1\u001b[39m:\n\u001b[0;32m   1110\u001b[0m     line \u001b[39m=\u001b[39m lines[\u001b[39m0\u001b[39m]\n\u001b[1;32m-> 1111\u001b[0m     \u001b[39mself\u001b[39m\u001b[39m.\u001b[39mlinebuffer \u001b[39m=\u001b[39m lines[\u001b[39m1\u001b[39m:]\n\u001b[0;32m   1112\u001b[0m     \u001b[39mself\u001b[39m\u001b[39m.\u001b[39m_rewind_numchars \u001b[39m=\u001b[39m \u001b[39mlen\u001b[39m(new_chars) \u001b[39m-\u001b[39m (\u001b[39mlen\u001b[39m(chars) \u001b[39m-\u001b[39m \u001b[39mlen\u001b[39m(line))\n\u001b[0;32m   1113\u001b[0m     \u001b[39mself\u001b[39m\u001b[39m.\u001b[39m_rewind_checkpoint \u001b[39m=\u001b[39m startpos\n",
      "\u001b[1;31mKeyboardInterrupt\u001b[0m: "
     ]
    }
   ],
   "source": [
    "def test():\n",
    "    # prendo 50 frasi random dal corpus semcor\n",
    "    sentences_with_tag = semcor.tagged_sents(tag = 'sem')[:100]\n",
    "    sentences = semcor.sents()[:100]\n",
    "    np.random.seed()\n",
    "    indices = np.random.permutation(len(sentences_with_tag))\n",
    "    indices = indices[:50]\n",
    "\n",
    "    my_sentences_with_tag = [sentences_with_tag[i] for i in indices]\n",
    "    my_sentences = [sentences[i] for i in indices]\n",
    "    num_sentences = len(my_sentences)\n",
    "    num_correct = 0\n",
    "\n",
    "    for i, sentence in enumerate(my_sentences):\n",
    "        sentence_without_stopwords = [w for w in sentence if not w in stop_words]\n",
    "        sentence_without_stopwords = [w for w in sentence_without_stopwords if w.isalpha()] #tolgo punteggiatura\n",
    "        \n",
    "        # seleziono una parola random dalla frase\n",
    "        random_word = random.choice(sentence_without_stopwords)\n",
    "        actual_synset = None\n",
    "        predicted_synset = None\n",
    "\n",
    "        esci = False\n",
    "        for j, cell in enumerate(my_sentences_with_tag[i]):\n",
    "            if esci == False:\n",
    "                if random_word in cell[0]:\n",
    "                    label = cell.label() if isinstance(cell, nltk.tree.Tree) else None\n",
    "\n",
    "                    if label and hasattr(label, 'synset'):\n",
    "                        actual_synset = label.synset()\n",
    "                        pos = actual_synset.pos()\n",
    "\n",
    "                        context = set(sentence)\n",
    "                        predicted_synset = corpus_lesk(random_word, pos, context)\n",
    "                        esci = True\n",
    "        \n",
    "        if actual_synset is not None and predicted_synset is not None:\n",
    "            num_correct += predicted_synset == actual_synset\n",
    "        else:\n",
    "            num_sentences -= 1\n",
    "                \n",
    "    accuracy = num_correct/num_sentences\n",
    "    print('accuracy: ', accuracy)\n",
    "    \n",
    "    return accuracy\n",
    "\n",
    "test()"
   ]
  },
  {
   "attachments": {},
   "cell_type": "markdown",
   "metadata": {},
   "source": [
    "#### Calcolo accuratezza media"
   ]
  },
  {
   "cell_type": "code",
   "execution_count": null,
   "metadata": {},
   "outputs": [
    {
     "ename": "AttributeError",
     "evalue": "'NoneType' object has no attribute 'synset'",
     "output_type": "error",
     "traceback": [
      "\u001b[1;31m---------------------------------------------------------------------------\u001b[0m",
      "\u001b[1;31mAttributeError\u001b[0m                            Traceback (most recent call last)",
      "\u001b[1;32mc:\\Users\\OliverioM\\Desktop\\TLN - Radicioni\\TLN2\\Esercizio 1\\wsd.ipynb Cella 16\u001b[0m in \u001b[0;36m<cell line: 2>\u001b[1;34m()\u001b[0m\n\u001b[0;32m      <a href='vscode-notebook-cell:/c%3A/Users/OliverioM/Desktop/TLN%20-%20Radicioni/TLN2/Esercizio%201/wsd.ipynb#X21sZmlsZQ%3D%3D?line=0'>1</a>\u001b[0m accuracies \u001b[39m=\u001b[39m []\n\u001b[0;32m      <a href='vscode-notebook-cell:/c%3A/Users/OliverioM/Desktop/TLN%20-%20Radicioni/TLN2/Esercizio%201/wsd.ipynb#X21sZmlsZQ%3D%3D?line=1'>2</a>\u001b[0m \u001b[39mfor\u001b[39;00m i \u001b[39min\u001b[39;00m \u001b[39mrange\u001b[39m(\u001b[39m10\u001b[39m):\n\u001b[1;32m----> <a href='vscode-notebook-cell:/c%3A/Users/OliverioM/Desktop/TLN%20-%20Radicioni/TLN2/Esercizio%201/wsd.ipynb#X21sZmlsZQ%3D%3D?line=2'>3</a>\u001b[0m     accuracies\u001b[39m.\u001b[39mappend(test())\n\u001b[0;32m      <a href='vscode-notebook-cell:/c%3A/Users/OliverioM/Desktop/TLN%20-%20Radicioni/TLN2/Esercizio%201/wsd.ipynb#X21sZmlsZQ%3D%3D?line=4'>5</a>\u001b[0m \u001b[39mprint\u001b[39m(\u001b[39m'\u001b[39m\u001b[39m\\n\u001b[39;00m\u001b[39m'\u001b[39m)\n\u001b[0;32m      <a href='vscode-notebook-cell:/c%3A/Users/OliverioM/Desktop/TLN%20-%20Radicioni/TLN2/Esercizio%201/wsd.ipynb#X21sZmlsZQ%3D%3D?line=5'>6</a>\u001b[0m \u001b[39mprint\u001b[39m(\u001b[39m'\u001b[39m\u001b[39mmean accuracy: \u001b[39m\u001b[39m'\u001b[39m, np\u001b[39m.\u001b[39mmean(accuracies))\n",
      "\u001b[1;32mc:\\Users\\OliverioM\\Desktop\\TLN - Radicioni\\TLN2\\Esercizio 1\\wsd.ipynb Cella 16\u001b[0m in \u001b[0;36mtest\u001b[1;34m()\u001b[0m\n\u001b[0;32m     <a href='vscode-notebook-cell:/c%3A/Users/OliverioM/Desktop/TLN%20-%20Radicioni/TLN2/Esercizio%201/wsd.ipynb#X21sZmlsZQ%3D%3D?line=30'>31</a>\u001b[0m                 pos \u001b[39m=\u001b[39m actual_synset\u001b[39m.\u001b[39mpos()\n\u001b[0;32m     <a href='vscode-notebook-cell:/c%3A/Users/OliverioM/Desktop/TLN%20-%20Radicioni/TLN2/Esercizio%201/wsd.ipynb#X21sZmlsZQ%3D%3D?line=32'>33</a>\u001b[0m                 context \u001b[39m=\u001b[39m \u001b[39mset\u001b[39m(sentence)\n\u001b[1;32m---> <a href='vscode-notebook-cell:/c%3A/Users/OliverioM/Desktop/TLN%20-%20Radicioni/TLN2/Esercizio%201/wsd.ipynb#X21sZmlsZQ%3D%3D?line=33'>34</a>\u001b[0m                 predicted_synset \u001b[39m=\u001b[39m corpus_lesk(random_word, pos, context)\n\u001b[0;32m     <a href='vscode-notebook-cell:/c%3A/Users/OliverioM/Desktop/TLN%20-%20Radicioni/TLN2/Esercizio%201/wsd.ipynb#X21sZmlsZQ%3D%3D?line=34'>35</a>\u001b[0m                 esci \u001b[39m=\u001b[39m \u001b[39mTrue\u001b[39;00m\n\u001b[0;32m     <a href='vscode-notebook-cell:/c%3A/Users/OliverioM/Desktop/TLN%20-%20Radicioni/TLN2/Esercizio%201/wsd.ipynb#X21sZmlsZQ%3D%3D?line=36'>37</a>\u001b[0m \u001b[39mif\u001b[39;00m actual_synset \u001b[39mis\u001b[39;00m \u001b[39mnot\u001b[39;00m \u001b[39mNone\u001b[39;00m \u001b[39mand\u001b[39;00m predicted_synset \u001b[39mis\u001b[39;00m \u001b[39mnot\u001b[39;00m \u001b[39mNone\u001b[39;00m:\n",
      "\u001b[1;32mc:\\Users\\OliverioM\\Desktop\\TLN - Radicioni\\TLN2\\Esercizio 1\\wsd.ipynb Cella 16\u001b[0m in \u001b[0;36mcorpus_lesk\u001b[1;34m(word, pos, context)\u001b[0m\n\u001b[0;32m      <a href='vscode-notebook-cell:/c%3A/Users/OliverioM/Desktop/TLN%20-%20Radicioni/TLN2/Esercizio%201/wsd.ipynb#X21sZmlsZQ%3D%3D?line=4'>5</a>\u001b[0m \u001b[39mfor\u001b[39;00m sense \u001b[39min\u001b[39;00m wn\u001b[39m.\u001b[39msynsets(word, pos\u001b[39m=\u001b[39mpos):\n\u001b[0;32m      <a href='vscode-notebook-cell:/c%3A/Users/OliverioM/Desktop/TLN%20-%20Radicioni/TLN2/Esercizio%201/wsd.ipynb#X21sZmlsZQ%3D%3D?line=5'>6</a>\u001b[0m     signature \u001b[39m=\u001b[39m \u001b[39mset\u001b[39m(preprocessing(sense\u001b[39m.\u001b[39mdefinition()))\u001b[39m.\u001b[39munion(\u001b[39mset\u001b[39m(preprocessing(\u001b[39m'\u001b[39m\u001b[39m \u001b[39m\u001b[39m'\u001b[39m\u001b[39m.\u001b[39mjoin(sense\u001b[39m.\u001b[39mexamples()))))\n\u001b[1;32m----> <a href='vscode-notebook-cell:/c%3A/Users/OliverioM/Desktop/TLN%20-%20Radicioni/TLN2/Esercizio%201/wsd.ipynb#X21sZmlsZQ%3D%3D?line=6'>7</a>\u001b[0m     signature \u001b[39m=\u001b[39m signature\u001b[39m.\u001b[39munion(get_context_from_semcor(sense))\n\u001b[0;32m      <a href='vscode-notebook-cell:/c%3A/Users/OliverioM/Desktop/TLN%20-%20Radicioni/TLN2/Esercizio%201/wsd.ipynb#X21sZmlsZQ%3D%3D?line=7'>8</a>\u001b[0m     overlap \u001b[39m=\u001b[39m \u001b[39mlen\u001b[39m(context\u001b[39m.\u001b[39mintersection(signature))\n\u001b[0;32m      <a href='vscode-notebook-cell:/c%3A/Users/OliverioM/Desktop/TLN%20-%20Radicioni/TLN2/Esercizio%201/wsd.ipynb#X21sZmlsZQ%3D%3D?line=8'>9</a>\u001b[0m     \u001b[39mif\u001b[39;00m overlap \u001b[39m>\u001b[39m max_overlap:\n",
      "\u001b[1;32mc:\\Users\\OliverioM\\Desktop\\TLN - Radicioni\\TLN2\\Esercizio 1\\wsd.ipynb Cella 16\u001b[0m in \u001b[0;36mget_context_from_semcor\u001b[1;34m(target_sense)\u001b[0m\n\u001b[0;32m      <a href='vscode-notebook-cell:/c%3A/Users/OliverioM/Desktop/TLN%20-%20Radicioni/TLN2/Esercizio%201/wsd.ipynb#X21sZmlsZQ%3D%3D?line=3'>4</a>\u001b[0m \u001b[39m#get the sentences in which the target sense is present\u001b[39;00m\n\u001b[0;32m      <a href='vscode-notebook-cell:/c%3A/Users/OliverioM/Desktop/TLN%20-%20Radicioni/TLN2/Esercizio%201/wsd.ipynb#X21sZmlsZQ%3D%3D?line=4'>5</a>\u001b[0m \u001b[39mfor\u001b[39;00m sent \u001b[39min\u001b[39;00m semcor\u001b[39m.\u001b[39mtagged_sents(tag \u001b[39m=\u001b[39m \u001b[39m'\u001b[39m\u001b[39msem\u001b[39m\u001b[39m'\u001b[39m):\n\u001b[1;32m----> <a href='vscode-notebook-cell:/c%3A/Users/OliverioM/Desktop/TLN%20-%20Radicioni/TLN2/Esercizio%201/wsd.ipynb#X21sZmlsZQ%3D%3D?line=5'>6</a>\u001b[0m     \u001b[39mif\u001b[39;00m target_sense \u001b[39min\u001b[39;00m lemma_list(sent):\n\u001b[0;32m      <a href='vscode-notebook-cell:/c%3A/Users/OliverioM/Desktop/TLN%20-%20Radicioni/TLN2/Esercizio%201/wsd.ipynb#X21sZmlsZQ%3D%3D?line=6'>7</a>\u001b[0m         sentences\u001b[39m.\u001b[39mappend(sent)\n\u001b[0;32m      <a href='vscode-notebook-cell:/c%3A/Users/OliverioM/Desktop/TLN%20-%20Radicioni/TLN2/Esercizio%201/wsd.ipynb#X21sZmlsZQ%3D%3D?line=8'>9</a>\u001b[0m \u001b[39mreturn\u001b[39;00m \u001b[39mset\u001b[39m(preprocessing(\u001b[39m'\u001b[39m\u001b[39m \u001b[39m\u001b[39m'\u001b[39m\u001b[39m.\u001b[39mjoin(sentences)))\n",
      "\u001b[1;32mc:\\Users\\OliverioM\\Desktop\\TLN - Radicioni\\TLN2\\Esercizio 1\\wsd.ipynb Cella 16\u001b[0m in \u001b[0;36mlemma_list\u001b[1;34m(sent)\u001b[0m\n\u001b[0;32m      <a href='vscode-notebook-cell:/c%3A/Users/OliverioM/Desktop/TLN%20-%20Radicioni/TLN2/Esercizio%201/wsd.ipynb#X21sZmlsZQ%3D%3D?line=2'>3</a>\u001b[0m \u001b[39mtry\u001b[39;00m:\n\u001b[0;32m      <a href='vscode-notebook-cell:/c%3A/Users/OliverioM/Desktop/TLN%20-%20Radicioni/TLN2/Esercizio%201/wsd.ipynb#X21sZmlsZQ%3D%3D?line=3'>4</a>\u001b[0m     ret \u001b[39m=\u001b[39m [l\u001b[39m.\u001b[39mlabel() \u001b[39mif\u001b[39;00m \u001b[39misinstance\u001b[39m(l, nltk\u001b[39m.\u001b[39mtree\u001b[39m.\u001b[39mTree) \u001b[39melse\u001b[39;00m \u001b[39mNone\u001b[39;00m \u001b[39mfor\u001b[39;00m l \u001b[39min\u001b[39;00m sent]\n\u001b[1;32m----> <a href='vscode-notebook-cell:/c%3A/Users/OliverioM/Desktop/TLN%20-%20Radicioni/TLN2/Esercizio%201/wsd.ipynb#X21sZmlsZQ%3D%3D?line=4'>5</a>\u001b[0m     ret \u001b[39m=\u001b[39m [x\u001b[39m.\u001b[39msynset() \u001b[39mfor\u001b[39;00m x \u001b[39min\u001b[39;00m ret]\n\u001b[0;32m      <a href='vscode-notebook-cell:/c%3A/Users/OliverioM/Desktop/TLN%20-%20Radicioni/TLN2/Esercizio%201/wsd.ipynb#X21sZmlsZQ%3D%3D?line=5'>6</a>\u001b[0m \u001b[39mexcept\u001b[39;00m \u001b[39mValueError\u001b[39;00m:\n\u001b[0;32m      <a href='vscode-notebook-cell:/c%3A/Users/OliverioM/Desktop/TLN%20-%20Radicioni/TLN2/Esercizio%201/wsd.ipynb#X21sZmlsZQ%3D%3D?line=6'>7</a>\u001b[0m     \u001b[39mprint\u001b[39m(\u001b[39m'\u001b[39m\u001b[39merror\u001b[39m\u001b[39m'\u001b[39m)\n",
      "\u001b[1;32mc:\\Users\\OliverioM\\Desktop\\TLN - Radicioni\\TLN2\\Esercizio 1\\wsd.ipynb Cella 16\u001b[0m in \u001b[0;36m<listcomp>\u001b[1;34m(.0)\u001b[0m\n\u001b[0;32m      <a href='vscode-notebook-cell:/c%3A/Users/OliverioM/Desktop/TLN%20-%20Radicioni/TLN2/Esercizio%201/wsd.ipynb#X21sZmlsZQ%3D%3D?line=2'>3</a>\u001b[0m \u001b[39mtry\u001b[39;00m:\n\u001b[0;32m      <a href='vscode-notebook-cell:/c%3A/Users/OliverioM/Desktop/TLN%20-%20Radicioni/TLN2/Esercizio%201/wsd.ipynb#X21sZmlsZQ%3D%3D?line=3'>4</a>\u001b[0m     ret \u001b[39m=\u001b[39m [l\u001b[39m.\u001b[39mlabel() \u001b[39mif\u001b[39;00m \u001b[39misinstance\u001b[39m(l, nltk\u001b[39m.\u001b[39mtree\u001b[39m.\u001b[39mTree) \u001b[39melse\u001b[39;00m \u001b[39mNone\u001b[39;00m \u001b[39mfor\u001b[39;00m l \u001b[39min\u001b[39;00m sent]\n\u001b[1;32m----> <a href='vscode-notebook-cell:/c%3A/Users/OliverioM/Desktop/TLN%20-%20Radicioni/TLN2/Esercizio%201/wsd.ipynb#X21sZmlsZQ%3D%3D?line=4'>5</a>\u001b[0m     ret \u001b[39m=\u001b[39m [x\u001b[39m.\u001b[39;49msynset() \u001b[39mfor\u001b[39;00m x \u001b[39min\u001b[39;00m ret]\n\u001b[0;32m      <a href='vscode-notebook-cell:/c%3A/Users/OliverioM/Desktop/TLN%20-%20Radicioni/TLN2/Esercizio%201/wsd.ipynb#X21sZmlsZQ%3D%3D?line=5'>6</a>\u001b[0m \u001b[39mexcept\u001b[39;00m \u001b[39mValueError\u001b[39;00m:\n\u001b[0;32m      <a href='vscode-notebook-cell:/c%3A/Users/OliverioM/Desktop/TLN%20-%20Radicioni/TLN2/Esercizio%201/wsd.ipynb#X21sZmlsZQ%3D%3D?line=6'>7</a>\u001b[0m     \u001b[39mprint\u001b[39m(\u001b[39m'\u001b[39m\u001b[39merror\u001b[39m\u001b[39m'\u001b[39m)\n",
      "\u001b[1;31mAttributeError\u001b[0m: 'NoneType' object has no attribute 'synset'"
     ]
    }
   ],
   "source": [
    "accuracies = []\n",
    "for i in range(10):\n",
    "    accuracies.append(test())\n",
    "\n",
    "print('\\n')\n",
    "print('mean accuracy: ', np.mean(accuracies))"
   ]
  }
 ],
 "metadata": {
  "kernelspec": {
   "display_name": "Python 3",
   "language": "python",
   "name": "python3"
  },
  "language_info": {
   "codemirror_mode": {
    "name": "ipython",
    "version": 3
   },
   "file_extension": ".py",
   "mimetype": "text/x-python",
   "name": "python",
   "nbconvert_exporter": "python",
   "pygments_lexer": "ipython3",
   "version": "3.9.12"
  },
  "orig_nbformat": 4
 },
 "nbformat": 4,
 "nbformat_minor": 2
}
