{
 "cells": [
  {
   "attachments": {},
   "cell_type": "markdown",
   "metadata": {},
   "source": [
    "# Esercizio 1b\n",
    "\n",
    "Implementare l’algoritmo di Lesk (!= usare implementazione esistente, e.g., in nltk…).\n",
    "- Estrarre 50 frasi dal corpus SemCor (corpus annotato con i synset di WN) e disambiguare (almeno) un sostantivo per frase. Calcolare l’accuratezza del sistema implementato sulla base dei sensi annotati in SemCor (SemCor è disponibile all’URL http://web.eecs.umich.edu/~mihalcea/downloads.html)\n",
    "- Randomizzare la selezione delle 50 frasi e la selezione del termine da disambiguare, e restituire l’accuratezza media su (per esempio) 10 esecuzioni del programma\n",
    "\n",
    "Opzionale: implementare corpus_lesk_algorithm utilizando semCor"
   ]
  },
  {
   "cell_type": "code",
   "execution_count": 1,
   "metadata": {},
   "outputs": [],
   "source": [
    "import numpy as np\n",
    "import random\n",
    "import nltk\n",
    "import re\n",
    "from nltk import MWETokenizer, WordNetLemmatizer\n",
    "from nltk.corpus import wordnet as wn\n",
    "from nltk.corpus import semcor\n",
    "from nltk.corpus import stopwords\n",
    "#nltk.('sedownloadmcor')\n",
    "\n",
    "stop_words = set(stopwords.words('english'))"
   ]
  },
  {
   "attachments": {},
   "cell_type": "markdown",
   "metadata": {},
   "source": [
    "### Pre-processing"
   ]
  },
  {
   "cell_type": "code",
   "execution_count": 2,
   "metadata": {
    "collapsed": false
   },
   "outputs": [],
   "source": [
    "stop_words = set(stopwords.words('english')) #remove stop words\n",
    "mwes = [x for x in wn.all_lemma_names() if '_' in x]\n",
    "mwes = [tuple(x.split('_')) for x in mwes]\n",
    "tokenizer = MWETokenizer(mwes, separator=' ')\n",
    "lemmatizer = WordNetLemmatizer()\n",
    "\n",
    "def preprocessing(text):\n",
    "    text = re.sub(r'[^\\w\\s]',' ',text) #remove punctuation\n",
    "    text = text.lower()\n",
    "    text = tokenizer.tokenize(text.split())\n",
    "    text = [lemmatizer.lemmatize(token) for token in text]\n",
    "    text = [w for w in text if not w in stop_words]\n",
    "    return text"
   ]
  },
  {
   "attachments": {},
   "cell_type": "markdown",
   "metadata": {},
   "source": [
    "### LEMMA_LIST: resituisce il lemma della frase del corpus etichettato"
   ]
  },
  {
   "cell_type": "code",
   "execution_count": 44,
   "metadata": {},
   "outputs": [],
   "source": [
    "def lemma_list(sent):\n",
    "    ret = []\n",
    "    try:\n",
    "        ret = [l.label() if isinstance(l, nltk.tree.Tree) else None for l in sent]\n",
    "        ret = [x.synset() for x in ret]\n",
    "    except ValueError:\n",
    "        print('error')\n",
    "\n",
    "    return ret"
   ]
  },
  {
   "attachments": {},
   "cell_type": "markdown",
   "metadata": {},
   "source": [
    "### GET_CONTEXT_FROM_SEMCOR: dato un senso, vengono estratte tutte le frasi di semcor contenenti quel senso al fine di utilizzarlo come contesto nel corpus lesk algorithm"
   ]
  },
  {
   "cell_type": "code",
   "execution_count": 45,
   "metadata": {
    "collapsed": false
   },
   "outputs": [],
   "source": [
    "def get_context_from_semcor(target_sense):\n",
    "    sentences = []\n",
    "    \n",
    "    #get the sentences in which the target sense is present\n",
    "    for sent in semcor.tagged_sents(tag = 'sem'):\n",
    "        if target_sense in lemma_list(sent):\n",
    "            sentences.append(sent)\n",
    "\n",
    "    return set(preprocessing(' '.join(sentences)))"
   ]
  },
  {
   "attachments": {},
   "cell_type": "markdown",
   "metadata": {},
   "source": [
    "## SIMPLIFIED LESK"
   ]
  },
  {
   "cell_type": "code",
   "execution_count": 46,
   "metadata": {},
   "outputs": [],
   "source": [
    "def simplified_lesk(word, sentence):\n",
    "    word = wn.morphy(word) if wn.morphy(word) is not None else word\n",
    "    best_sense = wn.synsets(word)[0] if len(wn.synsets(word)) > 0 else None #wordnet ordina i sysnet in base alla frequenza\n",
    "    max_overlap = 0\n",
    "    context = set(sentence)\n",
    "    \n",
    "    for sense in wn.synsets(word):\n",
    "        signature = set(preprocessing(sense.definition())).union(set(preprocessing(' '.join(sense.examples()))))\n",
    "        overlap = len(context.intersection(signature))\n",
    "        if overlap > max_overlap:\n",
    "            max_overlap = overlap\n",
    "            best_sense = sense\n",
    "    \n",
    "    return best_sense"
   ]
  },
  {
   "attachments": {},
   "cell_type": "markdown",
   "metadata": {},
   "source": [
    "## CORPUS LESK"
   ]
  },
  {
   "cell_type": "code",
   "execution_count": 47,
   "metadata": {},
   "outputs": [],
   "source": [
    "def corpus_lesk(word, sentence):\n",
    "    best_sense = wn.synsets(word)[0] if len(wn.synsets(word)) > 0 else None #wordnet ordina i sysnet in base alla frequenza\n",
    "    max_overlap = 0\n",
    "    context = set(sentence)\n",
    "    \n",
    "    for sense in wn.synsets(word):\n",
    "        signature = set(preprocessing(sense.definition())).union(set(preprocessing(' '.join(sense.examples()))))\n",
    "        signature = signature.union(get_context_from_semcor(sense))\n",
    "        overlap = len(context.intersection(signature))\n",
    "        if overlap > max_overlap:\n",
    "            max_overlap = overlap\n",
    "            best_sense = sense\n",
    "\n",
    "    return best_sense"
   ]
  },
  {
   "attachments": {},
   "cell_type": "markdown",
   "metadata": {},
   "source": [
    "## TEST"
   ]
  },
  {
   "cell_type": "code",
   "execution_count": 58,
   "metadata": {},
   "outputs": [],
   "source": [
    "def test():\n",
    "    # prendo 50 frasi random dal corpus semcor\n",
    "    sentences_with_tag = semcor.tagged_sents(tag = 'sem')[:100]\n",
    "    sentences = semcor.sents()[:100]\n",
    "    np.random.seed(0)\n",
    "    indices = np.random.permutation(len(sentences_with_tag))\n",
    "    indices = indices[:50]\n",
    "\n",
    "    my_sentences_with_tag = [sentences_with_tag[i] for i in indices]\n",
    "    my_sentences = [sentences[i] for i in indices]\n",
    "    num_sentences = len(my_sentences)\n",
    "\n",
    "    num_correct = 0\n",
    "\n",
    "    for i, sentence in enumerate(my_sentences):\n",
    "        sentence_without_stopwords = [w for w in sentence if not w in stop_words]\n",
    "        sentence_without_stopwords = [w for w in sentence_without_stopwords if w.isalpha()] #tolgo punteggiatura\n",
    "        \n",
    "        # seleziono una parola random dalla frase\n",
    "        random_word = random.choice(sentence_without_stopwords)\n",
    "        actual_synset = None\n",
    "\n",
    "        for j, cell in enumerate(my_sentences_with_tag[i]):\n",
    "            if random_word in cell[0]:\n",
    "                label = cell.label() if isinstance(cell, nltk.tree.Tree) else None\n",
    "                if label and hasattr(label, 'synset'):\n",
    "                    actual_synset = label.synset()\n",
    "\n",
    "        predicted_synset = simplified_lesk(random_word, sentence)\n",
    "        if actual_synset is not None and predicted_synset is not None:\n",
    "            num_correct += predicted_synset == actual_synset\n",
    "        else:\n",
    "            num_sentences -= 1\n",
    "\n",
    "    accuracy = num_correct/num_sentences\n",
    "    print('accuracy: ', accuracy)\n",
    "    \n",
    "    return accuracy"
   ]
  },
  {
   "attachments": {},
   "cell_type": "markdown",
   "metadata": {},
   "source": [
    "#### Calcolo accuratezza media"
   ]
  },
  {
   "cell_type": "code",
   "execution_count": 59,
   "metadata": {},
   "outputs": [
    {
     "name": "stdout",
     "output_type": "stream",
     "text": [
      "accuracy:  0.34146341463414637\n",
      "accuracy:  0.46511627906976744\n",
      "accuracy:  0.3953488372093023\n",
      "accuracy:  0.4166666666666667\n",
      "accuracy:  0.425\n",
      "accuracy:  0.34210526315789475\n",
      "accuracy:  0.27906976744186046\n",
      "accuracy:  0.36363636363636365\n",
      "accuracy:  0.5681818181818182\n",
      "accuracy:  0.40540540540540543\n",
      "\n",
      "\n",
      "mean accuracy:  0.40019938154032253\n"
     ]
    }
   ],
   "source": [
    "accuracies = []\n",
    "for i in range(10):\n",
    "    accuracies.append(test())\n",
    "\n",
    "print('\\n')\n",
    "print('mean accuracy: ', np.mean(accuracies))"
   ]
  },
  {
   "cell_type": "code",
   "execution_count": 42,
   "outputs": [
    {
     "data": {
      "text/plain": "Synset('group.n.01')"
     },
     "execution_count": 42,
     "metadata": {},
     "output_type": "execute_result"
    }
   ],
   "source": [
    "semcor.tagged_sents(tag=\"sem\")[0][1].label().synset()"
   ],
   "metadata": {
    "collapsed": false
   }
  },
  {
   "cell_type": "code",
   "execution_count": null,
   "outputs": [],
   "source": [],
   "metadata": {
    "collapsed": false
   }
  }
 ],
 "metadata": {
  "kernelspec": {
   "display_name": "Python 3",
   "language": "python",
   "name": "python3"
  },
  "language_info": {
   "codemirror_mode": {
    "name": "ipython",
    "version": 3
   },
   "file_extension": ".py",
   "mimetype": "text/x-python",
   "name": "python",
   "nbconvert_exporter": "python",
   "pygments_lexer": "ipython3",
   "version": "3.9.12"
  },
  "orig_nbformat": 4
 },
 "nbformat": 4,
 "nbformat_minor": 2
}
