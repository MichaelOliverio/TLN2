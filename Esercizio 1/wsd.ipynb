{
 "cells": [
  {
   "attachments": {},
   "cell_type": "markdown",
   "metadata": {},
   "source": [
    "# Esercizio 1b\n",
    "\n",
    "Implementare l’algoritmo di Lesk (!= usare implementazione esistente, e.g., in nltk…).\n",
    "- Estrarre 50 frasi dal corpus SemCor (corpus annotato con i synset di WN) e disambiguare (almeno) un sostantivo per frase. Calcolare l’accuratezza del sistema implementato sulla base dei sensi annotati in SemCor (SemCor è disponibile all’URL http://web.eecs.umich.edu/~mihalcea/downloads.html)\n",
    "- Randomizzare la selezione delle 50 frasi e la selezione del termine da disambiguare, e restituire l’accuratezza media su (per esempio) 10 esecuzioni del programma\n",
    "\n",
    "Opzionale: implementare corpus_lesk_algorithm utilizando semCor"
   ]
  },
  {
   "cell_type": "code",
   "execution_count": 31,
   "metadata": {},
   "outputs": [],
   "source": [
    "import numpy as np\n",
    "import random\n",
    "import nltk\n",
    "from nltk import MWETokenizer, WordNetLemmatizer\n",
    "from nltk.corpus import wordnet as wn\n",
    "#nltk.('sedownloadmcor')\n",
    "from nltk.corpus import semcor\n",
    "from nltk.corpus import stopwords\n",
    "\n",
    "stop_words = set(stopwords.words('english'))"
   ]
  },
  {
   "cell_type": "code",
   "execution_count": 32,
   "metadata": {},
   "outputs": [
    {
     "data": {
      "text/plain": "[['The', 'Fulton', 'County', 'Grand', 'Jury', 'said', 'Friday', 'an', 'investigation', 'of', 'Atlanta', \"'s\", 'recent', 'primary', 'election', 'produced', '``', 'no', 'evidence', \"''\", 'that', 'any', 'irregularities', 'took', 'place', '.'], ['The', 'jury', 'further', 'said', 'in', 'term', 'end', 'presentments', 'that', 'the', 'City', 'Executive', 'Committee', ',', 'which', 'had', 'over-all', 'charge', 'of', 'the', 'election', ',', '``', 'deserves', 'the', 'praise', 'and', 'thanks', 'of', 'the', 'City', 'of', 'Atlanta', \"''\", 'for', 'the', 'manner', 'in', 'which', 'the', 'election', 'was', 'conducted', '.'], ...]"
     },
     "execution_count": 32,
     "metadata": {},
     "output_type": "execute_result"
    }
   ],
   "source": [
    "#show semcore\n",
    "semcor.sents()[:100]\n"
   ]
  },
  {
   "cell_type": "code",
   "execution_count": 33,
   "metadata": {
    "collapsed": false
   },
   "outputs": [],
   "source": [
    "import re\n",
    "stop_words = set(stopwords.words('english')) #remove stop words\n",
    "mwes = [x for x in wn.all_lemma_names() if '_' in x]\n",
    "mwes = [tuple(x.split('_')) for x in mwes]\n",
    "tokenizer = MWETokenizer(mwes, separator=' ')\n",
    "lemmatizer = WordNetLemmatizer()\n",
    "\n",
    "def preprocessing(text):\n",
    "    text = re.sub(r'[^\\w\\s]',' ',text) #remove punctuation\n",
    "    text = text.lower()\n",
    "    text = tokenizer.tokenize(text.split())\n",
    "    text = [lemmatizer.lemmatize(token) for token in text]\n",
    "    text = [w for w in text if not w in stop_words]\n",
    "    return text"
   ]
  },
  {
   "cell_type": "code",
   "execution_count": 34,
   "metadata": {},
   "outputs": [
    {
     "data": {
      "text/plain": "[[['The'], Tree(Lemma('group.n.01.group'), [Tree('NE', ['Fulton', 'County', 'Grand', 'Jury'])]), Tree(Lemma('state.v.01.say'), ['said']), Tree(Lemma('friday.n.01.Friday'), ['Friday']), ['an'], Tree(Lemma('probe.n.01.investigation'), ['investigation']), ['of'], Tree(Lemma('atlanta.n.01.Atlanta'), ['Atlanta']), [\"'s\"], Tree(Lemma('late.s.03.recent'), ['recent']), Tree(Lemma('primary.n.01.primary_election'), ['primary', 'election']), Tree(Lemma('produce.v.04.produce'), ['produced']), ['``'], ['no'], Tree(Lemma('evidence.n.01.evidence'), ['evidence']), [\"''\"], ['that'], ['any'], Tree(Lemma('abnormality.n.04.irregularity'), ['irregularities']), Tree(Lemma('happen.v.01.take_place'), ['took', 'place']), ['.']], [['The'], Tree(Lemma('jury.n.01.jury'), ['jury']), Tree(Lemma('far.r.02.far'), ['further']), Tree(Lemma('state.v.01.say'), ['said']), ['in'], Tree(Lemma('term.n.02.term'), ['term']), Tree(Lemma('end.n.02.end'), ['end']), Tree(Lemma('presentment.n.01.presentment'), ['presentments']), ['that'], ['the'], Tree(Lemma('group.n.01.group'), [Tree('NE', ['City', 'Executive', 'Committee'])]), [','], ['which'], Tree(Lemma('own.v.01.have'), ['had']), Tree(Lemma('overall.s.02.overall'), ['over-all']), Tree(Lemma('mission.n.03.charge'), ['charge']), ['of'], ['the'], Tree(Lemma('election.n.01.election'), ['election']), [','], ['``'], Tree(Lemma('deserve.v.01.deserve'), ['deserves']), ['the'], Tree(Lemma('praise.n.01.praise'), ['praise']), ['and'], Tree(Lemma('thanks.n.01.thanks'), ['thanks']), ['of'], ['the'], Tree(Lemma('location.n.01.location'), [Tree('NE', ['City', 'of', 'Atlanta'])]), [\"''\"], ['for'], ['the'], Tree(Lemma('manner.n.01.manner'), ['manner']), ['in'], ['which'], ['the'], Tree(Lemma('election.n.01.election'), ['election']), ['was'], Tree(Lemma('conduct.v.01.conduct'), ['conducted']), ['.']], ...]"
     },
     "execution_count": 34,
     "metadata": {},
     "output_type": "execute_result"
    }
   ],
   "source": [
    "semcor.tagged_sents(tag = 'sem')[:100]"
   ]
  },
  {
   "cell_type": "code",
   "execution_count": 35,
   "metadata": {},
   "outputs": [],
   "source": [
    "def lemma_list(sent):\n",
    "    ret = []\n",
    "    try:\n",
    "        ret = [l.label() if isinstance(l, nltk.tree.Tree) else None for l in sent]\n",
    "        ret = [get_synset_from_label(x) for x in ret if x is not None]\n",
    "        ret = [x for x in ret if x is not None]\n",
    "    except ValueError:\n",
    "        print('error')\n",
    "\n",
    "    return ret\n",
    "\n",
    "def get_synset_from_label(label):\n",
    "    if (len(str(label).split(\"'\")) > 1):\n",
    "        label = ''.join(str(label).split(\"'\")[1:-1])\n",
    "        try:\n",
    "            return wn.synset('.'.join(str(label).split(\".\")[:-1]))\n",
    "        except:\n",
    "            return None\n",
    "    else:\n",
    "        return None"
   ]
  },
  {
   "cell_type": "code",
   "execution_count": 36,
   "metadata": {
    "collapsed": false
   },
   "outputs": [],
   "source": [
    "def get_context_from_semcor(target_sense):\n",
    "    sentences = []\n",
    "    \n",
    "    #get the sentences in which the target sense is present\n",
    "    for sent in semcor.tagged_sents(tag = 'sem'):\n",
    "        if target_sense in lemma_list(sent):\n",
    "            sentences.append(sent)\n",
    "\n",
    "    return set(preprocessing(' '.join(sentences)))"
   ]
  },
  {
   "cell_type": "code",
   "execution_count": 37,
   "metadata": {},
   "outputs": [],
   "source": [
    "def SimplifiedLesk(word, sentence):\n",
    "    best_sense = wn.synsets(word)[0] if len(wn.synsets(word)) > 0 else None #wordnet ordina i sysnet in base alla frequenza\n",
    "    max_overlap = 0\n",
    "    context = set(sentence)\n",
    "    \n",
    "    for sense in wn.synsets(word):\n",
    "        signature = set(preprocessing(sense.definition())).union(set(preprocessing(' '.join(sense.examples()))))\n",
    "        overlap = len(context.intersection(signature))\n",
    "        if overlap > max_overlap:\n",
    "            max_overlap = overlap\n",
    "            best_sense = sense\n",
    "    \n",
    "    return best_sense\n",
    "\n",
    "def corpus_lesk(word, sentence):\n",
    "    best_sense = wn.synsets(word)[0] if len(wn.synsets(word)) > 0 else None #wordnet ordina i sysnet in base alla frequenza\n",
    "    max_overlap = 0\n",
    "    context = set(sentence)\n",
    "    \n",
    "    for sense in wn.synsets(word):\n",
    "        signature = set(preprocessing(sense.definition())).union(set(preprocessing(' '.join(sense.examples()))))\n",
    "        signature = signature.union(get_context_from_semcor(sense))\n",
    "        overlap = len(context.intersection(signature))\n",
    "        if overlap > max_overlap:\n",
    "            max_overlap = overlap\n",
    "            best_sense = sense\n",
    "\n",
    "    return best_sense"
   ]
  },
  {
   "cell_type": "code",
   "execution_count": 38,
   "metadata": {},
   "outputs": [
    {
     "name": "stdout",
     "output_type": "stream",
     "text": [
      "cell label:  Lemma('person.n.01.person')\n"
     ]
    },
    {
     "ename": "TypeError",
     "evalue": "sequence item 0: expected str instance, SemcorSentence found",
     "output_type": "error",
     "traceback": [
      "\u001B[1;31m---------------------------------------------------------------------------\u001B[0m",
      "\u001B[1;31mTypeError\u001B[0m                                 Traceback (most recent call last)",
      "\u001B[1;32m~\\AppData\\Local\\Temp\\ipykernel_12464\\1238689674.py\u001B[0m in \u001B[0;36m<module>\u001B[1;34m\u001B[0m\n\u001B[0;32m     36\u001B[0m \u001B[1;33m\u001B[0m\u001B[0m\n\u001B[0;32m     37\u001B[0m     \u001B[1;31m#run lesk\u001B[0m\u001B[1;33m\u001B[0m\u001B[1;33m\u001B[0m\u001B[0m\n\u001B[1;32m---> 38\u001B[1;33m     \u001B[0mpredicted_synset\u001B[0m \u001B[1;33m=\u001B[0m \u001B[0mcorpus_lesk\u001B[0m\u001B[1;33m(\u001B[0m\u001B[0mrandom_word\u001B[0m\u001B[1;33m,\u001B[0m \u001B[0msentence\u001B[0m\u001B[1;33m)\u001B[0m\u001B[1;33m\u001B[0m\u001B[1;33m\u001B[0m\u001B[0m\n\u001B[0m\u001B[0;32m     39\u001B[0m     \u001B[0mprint\u001B[0m\u001B[1;33m(\u001B[0m\u001B[1;34m'random word: '\u001B[0m\u001B[1;33m,\u001B[0m \u001B[0mrandom_word\u001B[0m\u001B[1;33m)\u001B[0m\u001B[1;33m\u001B[0m\u001B[1;33m\u001B[0m\u001B[0m\n\u001B[0;32m     40\u001B[0m     \u001B[0mprint\u001B[0m\u001B[1;33m(\u001B[0m\u001B[1;34m'predicted: '\u001B[0m\u001B[1;33m,\u001B[0m \u001B[0mpredicted_synset\u001B[0m\u001B[1;33m)\u001B[0m\u001B[1;33m\u001B[0m\u001B[1;33m\u001B[0m\u001B[0m\n",
      "\u001B[1;32m~\\AppData\\Local\\Temp\\ipykernel_12464\\3510799658.py\u001B[0m in \u001B[0;36mcorpus_lesk\u001B[1;34m(word, sentence)\u001B[0m\n\u001B[0;32m     20\u001B[0m     \u001B[1;32mfor\u001B[0m \u001B[0msense\u001B[0m \u001B[1;32min\u001B[0m \u001B[0mwn\u001B[0m\u001B[1;33m.\u001B[0m\u001B[0msynsets\u001B[0m\u001B[1;33m(\u001B[0m\u001B[0mword\u001B[0m\u001B[1;33m)\u001B[0m\u001B[1;33m:\u001B[0m\u001B[1;33m\u001B[0m\u001B[1;33m\u001B[0m\u001B[0m\n\u001B[0;32m     21\u001B[0m         \u001B[0msignature\u001B[0m \u001B[1;33m=\u001B[0m \u001B[0mset\u001B[0m\u001B[1;33m(\u001B[0m\u001B[0mpreprocessing\u001B[0m\u001B[1;33m(\u001B[0m\u001B[0msense\u001B[0m\u001B[1;33m.\u001B[0m\u001B[0mdefinition\u001B[0m\u001B[1;33m(\u001B[0m\u001B[1;33m)\u001B[0m\u001B[1;33m)\u001B[0m\u001B[1;33m)\u001B[0m\u001B[1;33m.\u001B[0m\u001B[0munion\u001B[0m\u001B[1;33m(\u001B[0m\u001B[0mset\u001B[0m\u001B[1;33m(\u001B[0m\u001B[0mpreprocessing\u001B[0m\u001B[1;33m(\u001B[0m\u001B[1;34m' '\u001B[0m\u001B[1;33m.\u001B[0m\u001B[0mjoin\u001B[0m\u001B[1;33m(\u001B[0m\u001B[0msense\u001B[0m\u001B[1;33m.\u001B[0m\u001B[0mexamples\u001B[0m\u001B[1;33m(\u001B[0m\u001B[1;33m)\u001B[0m\u001B[1;33m)\u001B[0m\u001B[1;33m)\u001B[0m\u001B[1;33m)\u001B[0m\u001B[1;33m)\u001B[0m\u001B[1;33m\u001B[0m\u001B[1;33m\u001B[0m\u001B[0m\n\u001B[1;32m---> 22\u001B[1;33m         \u001B[0msignature\u001B[0m \u001B[1;33m=\u001B[0m \u001B[0msignature\u001B[0m\u001B[1;33m.\u001B[0m\u001B[0munion\u001B[0m\u001B[1;33m(\u001B[0m\u001B[0mget_context_from_semcor\u001B[0m\u001B[1;33m(\u001B[0m\u001B[0msense\u001B[0m\u001B[1;33m)\u001B[0m\u001B[1;33m)\u001B[0m\u001B[1;33m\u001B[0m\u001B[1;33m\u001B[0m\u001B[0m\n\u001B[0m\u001B[0;32m     23\u001B[0m         \u001B[0moverlap\u001B[0m \u001B[1;33m=\u001B[0m \u001B[0mlen\u001B[0m\u001B[1;33m(\u001B[0m\u001B[0mcontext\u001B[0m\u001B[1;33m.\u001B[0m\u001B[0mintersection\u001B[0m\u001B[1;33m(\u001B[0m\u001B[0msignature\u001B[0m\u001B[1;33m)\u001B[0m\u001B[1;33m)\u001B[0m\u001B[1;33m\u001B[0m\u001B[1;33m\u001B[0m\u001B[0m\n\u001B[0;32m     24\u001B[0m         \u001B[1;32mif\u001B[0m \u001B[0moverlap\u001B[0m \u001B[1;33m>\u001B[0m \u001B[0mmax_overlap\u001B[0m\u001B[1;33m:\u001B[0m\u001B[1;33m\u001B[0m\u001B[1;33m\u001B[0m\u001B[0m\n",
      "\u001B[1;32m~\\AppData\\Local\\Temp\\ipykernel_12464\\1318463299.py\u001B[0m in \u001B[0;36mget_context_from_semcor\u001B[1;34m(target_sense)\u001B[0m\n\u001B[0;32m      7\u001B[0m             \u001B[0msentences\u001B[0m\u001B[1;33m.\u001B[0m\u001B[0mappend\u001B[0m\u001B[1;33m(\u001B[0m\u001B[0msent\u001B[0m\u001B[1;33m)\u001B[0m\u001B[1;33m\u001B[0m\u001B[1;33m\u001B[0m\u001B[0m\n\u001B[0;32m      8\u001B[0m \u001B[1;33m\u001B[0m\u001B[0m\n\u001B[1;32m----> 9\u001B[1;33m     \u001B[1;32mreturn\u001B[0m \u001B[0mset\u001B[0m\u001B[1;33m(\u001B[0m\u001B[0mpreprocessing\u001B[0m\u001B[1;33m(\u001B[0m\u001B[1;34m' '\u001B[0m\u001B[1;33m.\u001B[0m\u001B[0mjoin\u001B[0m\u001B[1;33m(\u001B[0m\u001B[0msentences\u001B[0m\u001B[1;33m)\u001B[0m\u001B[1;33m)\u001B[0m\u001B[1;33m)\u001B[0m\u001B[1;33m\u001B[0m\u001B[1;33m\u001B[0m\u001B[0m\n\u001B[0m",
      "\u001B[1;31mTypeError\u001B[0m: sequence item 0: expected str instance, SemcorSentence found"
     ]
    }
   ],
   "source": [
    "#get 50 random sentences from semcor\n",
    "sentences_with_tag = semcor.tagged_sents(tag = 'sem')[:100]\n",
    "sentences = semcor.sents()[:100]\n",
    "np.random.seed(0)\n",
    "indices = np.random.permutation(len(sentences_with_tag))\n",
    "indices = indices[:50]\n",
    "\n",
    "my_sentences_with_tag = [sentences_with_tag[i] for i in indices]\n",
    "my_sentences = [sentences[i] for i in indices]\n",
    "\n",
    "#print(my_sentences_with_tag[0])\n",
    "#print(my_sentences[0])\n",
    "num_correct = 0\n",
    "\n",
    "for i, sentence in enumerate(my_sentences):\n",
    "    #lowercase\n",
    "    #sentence = [w.lower() for w in sentence]\n",
    "    #remove stop words\n",
    "    sentence_without_stopwords = [w for w in sentence if not w in stop_words]\n",
    "    #remove punctuation\n",
    "    sentence_without_stopwords = [w for w in sentence_without_stopwords if w.isalpha()]\n",
    "    #get random word\n",
    "    random_word = random.choice(sentence_without_stopwords)\n",
    "    index = sentence.index(random_word)\n",
    "\n",
    "    #print(random_word)\n",
    "\n",
    "    actual_synset = []\n",
    "    for j, cell in enumerate(my_sentences_with_tag[i]):\n",
    "        if random_word in cell[0]:\n",
    "            label = cell.label() if isinstance(cell, nltk.tree.Tree) else None\n",
    "            if label:\n",
    "                print('cell label: ', label)\n",
    "                label = str(label).split(\"'\")[1]\n",
    "                actual_synset.append(wn.synset('.'.join(str(label).split(\".\")[:-1])))\n",
    "\n",
    "    #run lesk\n",
    "    predicted_synset = corpus_lesk(random_word, sentence)\n",
    "    print('random word: ', random_word)\n",
    "    print('predicted: ', predicted_synset)\n",
    "    print('actual: ', actual_synset[0])\n",
    "    print(predicted_synset,'==',actual_synset[0])\n",
    "    print(\"correct: \", predicted_synset == actual_synset[0])\n",
    "    num_correct += predicted_synset == actual_synset[0]\n",
    "    print('-----------------')\n",
    "\n",
    "print('accuracy: ',num_correct/len(my_sentences))"
   ]
  }
 ],
 "metadata": {
  "kernelspec": {
   "display_name": "Python 3",
   "language": "python",
   "name": "python3"
  },
  "language_info": {
   "codemirror_mode": {
    "name": "ipython",
    "version": 3
   },
   "file_extension": ".py",
   "mimetype": "text/x-python",
   "name": "python",
   "nbconvert_exporter": "python",
   "pygments_lexer": "ipython3",
   "version": "3.9.12"
  },
  "orig_nbformat": 4
 },
 "nbformat": 4,
 "nbformat_minor": 2
}
