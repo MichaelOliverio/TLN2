{
 "cells": [
  {
   "cell_type": "code",
   "execution_count": null,
   "metadata": {},
   "outputs": [],
   "source": [
    "#definisci classe documento\n",
    "class Documento:\n",
    "    # ============================================\n",
    "    # Constructor\n",
    "    # ============================================\n",
    "    def __init__(self, titolo, classe, testo):\n",
    "        self.titolo = titolo\n",
    "        self.classe = classe\n",
    "        self.testo = testo\n",
    "\n",
    "    #costruttore\n",
    "    def __init__(self, nome, autore, anno):\n",
    "        self.nome = nome\n",
    "        self.autore = autore\n",
    "        self.anno = anno\n",
    "    #metodo per stampare\n",
    "    def stampa(self):\n",
    "        print(\"Nome: \" + self.nome + \"\\nAutore: \" + self.autore + \"\\nAnno: \" + str(self.anno))\n",
    "\n",
    "    "
   ]
  }
 ],
 "metadata": {
  "language_info": {
   "name": "python"
  },
  "orig_nbformat": 4
 },
 "nbformat": 4,
 "nbformat_minor": 2
}
