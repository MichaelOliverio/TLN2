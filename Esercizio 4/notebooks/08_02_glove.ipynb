{
 "cells": [
  {
   "cell_type": "code",
   "execution_count": null,
   "metadata": {
    "collapsed": true
   },
   "outputs": [],
   "source": [
    "#\n",
    "# ==================== GLOVE =================\n",
    "#"
   ]
  },
  {
   "cell_type": "code",
   "execution_count": null,
   "outputs": [],
   "source": [
    "from gensim.models import KeyedVectors\n",
    "\n",
    "fname = \"../../../LMT4NLP/data/glove/glove.6B.300d.txt\"\n",
    "glove = KeyedVectors.load_word2vec_format(fname, no_header=True)\n",
    "glove.vectors.shape"
   ],
   "metadata": {
    "collapsed": false,
    "ExecuteTime": {
     "start_time": "2023-05-01T12:28:05.180475Z",
     "end_time": "2023-05-01T12:28:33.847840Z"
    }
   }
  },
  {
   "cell_type": "code",
   "execution_count": null,
   "outputs": [],
   "source": [
    "# king - man + woman\n",
    "glove.most_similar(positive=[\"king\", \"woman\"], negative=[\"man\"])"
   ],
   "metadata": {
    "collapsed": false,
    "ExecuteTime": {
     "start_time": "2023-05-01T12:28:48.216935Z",
     "end_time": "2023-05-01T12:28:48.538197Z"
    }
   }
  },
  {
   "cell_type": "code",
   "execution_count": null,
   "outputs": [],
   "source": [
    "# berlin - germany + australia\n",
    "glove.most_similar(positive=[\"berlin\", \"australia\"], negative=[\"germany\"])"
   ],
   "metadata": {
    "collapsed": false,
    "ExecuteTime": {
     "start_time": "2023-05-01T12:28:50.743769Z",
     "end_time": "2023-05-01T12:28:50.833309Z"
    }
   }
  },
  {
   "cell_type": "code",
   "execution_count": null,
   "outputs": [],
   "source": [
    "normed_vectors = glove.get_normed_vectors()\n",
    "normed_vectors.shape"
   ],
   "metadata": {
    "collapsed": false,
    "ExecuteTime": {
     "start_time": "2023-05-01T12:28:51.908119Z",
     "end_time": "2023-05-01T12:28:51.984199Z"
    }
   }
  },
  {
   "cell_type": "code",
   "execution_count": null,
   "outputs": [],
   "source": [
    "def most_similar_words(word, vectors, index_to_key, key_to_index, topn=10):\n",
    "    # retrieve word_id corresponding to given word\n",
    "    word_id = key_to_index[word]\n",
    "    # retrieve embedding for given word from the vectors matrix\n",
    "    embedding = vectors[word_id]\n",
    "    # calculate similarities to all words in the input vocabulary (vectors)\n",
    "    similarities = vectors @ embedding\n",
    "    # get word_ids in ascending order with respect to similarity score\n",
    "    ids_ascending = similarities.argsort()\n",
    "    # reverse word_ids\n",
    "    ids_descending = ids_ascending[::-1]\n",
    "    # get boolean array with element corresponding to word_id set to false\n",
    "    mask = ids_descending != word_id\n",
    "    # obtain new array of indices that does not contain word_id\n",
    "    # (otherwise the most similar word to the argument would be the argument itself)\n",
    "    ids_descending = ids_descending[mask]\n",
    "    # get topn word_ids\n",
    "    top_ids = ids_descending[:topn]\n",
    "    # retrieve topn words with their corresponding similarity score\n",
    "    top_words = [(index_to_key[i], similarities[i]) for i in top_ids]\n",
    "    # return results\n",
    "    return top_words"
   ],
   "metadata": {
    "collapsed": false,
    "ExecuteTime": {
     "start_time": "2023-05-01T12:28:53.948651Z",
     "end_time": "2023-05-01T12:28:53.955898Z"
    }
   }
  },
  {
   "cell_type": "code",
   "execution_count": null,
   "outputs": [],
   "source": [
    "vectors = glove.get_normed_vectors()\n",
    "index_to_key = glove.index_to_key\n",
    "key_to_index = glove.key_to_index\n",
    "most_similar_words(\"cactus\", vectors, index_to_key, key_to_index)"
   ],
   "metadata": {
    "collapsed": false,
    "ExecuteTime": {
     "start_time": "2023-05-01T12:28:56.067874Z",
     "end_time": "2023-05-01T12:28:56.348704Z"
    }
   }
  },
  {
   "cell_type": "code",
   "execution_count": null,
   "outputs": [],
   "source": [
    "import numpy as np\n",
    "from numpy.linalg import norm\n",
    "\n",
    "def analogy(positive, negative, vectors, index_to_key, key_to_index, topn=10):\n",
    "    # find ids for positive and negative words\n",
    "    pos_ids = [key_to_index[w] for w in positive]\n",
    "    neg_ids = [key_to_index[w] for w in negative]\n",
    "    given_word_ids = pos_ids + neg_ids\n",
    "    # get embeddings for positive and negative words\n",
    "    pos_emb = vectors[pos_ids].sum(axis=0)\n",
    "    neg_emb = vectors[neg_ids].sum(axis=0)\n",
    "    # get embedding for analogy\n",
    "    emb = pos_emb - neg_emb\n",
    "    # normalize embedding\n",
    "    emb = emb / norm(emb)\n",
    "    # calculate similarities to all words in out vocabulary\n",
    "    similarities = vectors @ emb\n",
    "    # get word_ids in ascending order with respect to similarity score\n",
    "    ids_ascending = similarities.argsort()\n",
    "    # reverse word_ids\n",
    "    ids_descending = ids_ascending[::-1]\n",
    "    # get boolean array with element corresponding to any of given_word_ids set to false\n",
    "    given_words_mask = np.isin(ids_descending, given_word_ids, invert=True)\n",
    "    # obtain new array of indices that doesn't contain any of the given_word_ids\n",
    "    ids_descending = ids_descending[given_words_mask]\n",
    "    # get topn word_ids\n",
    "    top_ids = ids_descending[:topn]\n",
    "    # retrieve topn words with their corresponding similarity score\n",
    "    top_words = [(index_to_key[i], similarities[i]) for i in top_ids]\n",
    "    # return results\n",
    "    return top_words"
   ],
   "metadata": {
    "collapsed": false,
    "ExecuteTime": {
     "start_time": "2023-05-01T12:28:59.058802Z",
     "end_time": "2023-05-01T12:28:59.065875Z"
    }
   }
  },
  {
   "cell_type": "code",
   "execution_count": null,
   "outputs": [],
   "source": [
    "positive = [\"king\", \"woman\"]\n",
    "negative = [\"man\"]\n",
    "vectors = glove.get_normed_vectors()\n",
    "index_to_key = glove.index_to_key\n",
    "key_to_index = glove.key_to_index\n",
    "analogy(positive, negative, vectors, index_to_key, key_to_index)"
   ],
   "metadata": {
    "collapsed": false,
    "ExecuteTime": {
     "start_time": "2023-05-01T12:29:00.904167Z",
     "end_time": "2023-05-01T12:29:01.139816Z"
    }
   }
  },
  {
   "cell_type": "code",
   "execution_count": null,
   "outputs": [],
   "source": [],
   "metadata": {
    "collapsed": false,
    "ExecuteTime": {
     "start_time": "2023-05-01T12:29:02.133007Z",
     "end_time": "2023-05-01T12:29:02.151309Z"
    }
   }
  },
  {
   "cell_type": "code",
   "execution_count": null,
   "outputs": [],
   "source": [],
   "metadata": {
    "collapsed": false
   }
  }
 ],
 "metadata": {
  "kernelspec": {
   "display_name": "Python 3",
   "language": "python",
   "name": "python3"
  },
  "language_info": {
   "codemirror_mode": {
    "name": "ipython",
    "version": 2
   },
   "file_extension": ".py",
   "mimetype": "text/x-python",
   "name": "python",
   "nbconvert_exporter": "python",
   "pygments_lexer": "ipython2",
   "version": "2.7.6"
  }
 },
 "nbformat": 4,
 "nbformat_minor": 0
}
