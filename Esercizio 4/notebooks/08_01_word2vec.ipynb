{
 "cells": [
  {
   "cell_type": "code",
   "execution_count": null,
   "outputs": [],
   "source": [
    "#\n",
    "# Word2vec\n",
    "#"
   ],
   "metadata": {
    "collapsed": false
   }
  },
  {
   "cell_type": "code",
   "execution_count": null,
   "outputs": [],
   "source": [
    "# full docs available at\n",
    "# https://radimrehurek.com/gensim/auto_examples/howtos/run_downloader_api.html\n",
    "# Gensim has a gensim.downloader module for programmatically accessing data.\n",
    "# This module leverages a local cache (in user’s home folder, by default)\n",
    "# that ensures data is downloaded at most once.\n",
    "#\n",
    "import logging\n",
    "import gensim.downloader as api\n",
    "\n",
    "logging.basicConfig(format='%(asctime)s : %(levelname)s : %(message)s', level=logging.INFO)\n",
    "\n",
    "# download the text8 corpus and load it as an object that supports streamed access.\n",
    "corpus = api.load('text8')"
   ],
   "metadata": {
    "collapsed": false,
    "ExecuteTime": {
     "start_time": "2023-05-02T11:55:17.649288Z",
     "end_time": "2023-05-02T11:55:17.748966Z"
    }
   }
  },
  {
   "cell_type": "code",
   "execution_count": null,
   "metadata": {
    "collapsed": true,
    "ExecuteTime": {
     "start_time": "2023-05-01T12:24:36.575322Z",
     "end_time": "2023-05-01T12:24:36.580656Z"
    }
   },
   "outputs": [],
   "source": [
    "# In this case, our corpus is an iterable.\n",
    "# it has the following definition:\n",
    "import inspect\n",
    "print(inspect.getsource(corpus.__class__))"
   ]
  },
  {
   "cell_type": "code",
   "execution_count": null,
   "outputs": [],
   "source": [
    "# For more details, in the file that defines\n",
    "# the Dataset class for your particular resource.\n",
    "\n",
    "print(inspect.getfile(corpus.__class__))"
   ],
   "metadata": {
    "collapsed": false,
    "ExecuteTime": {
     "start_time": "2023-05-01T12:24:38.573765Z",
     "end_time": "2023-05-01T12:24:38.582393Z"
    }
   }
  },
  {
   "cell_type": "code",
   "execution_count": null,
   "outputs": [],
   "source": [
    "# With the corpus has been downloaded and loaded,\n",
    "# use it to TRAIN a word2vec model.\n",
    "\n",
    "from gensim.models.word2vec import Word2Vec\n",
    "model = Word2Vec(corpus)"
   ],
   "metadata": {
    "collapsed": false,
    "ExecuteTime": {
     "start_time": "2023-05-02T11:56:06.779083Z",
     "end_time": "2023-05-02T11:56:44.095566Z"
    }
   }
  },
  {
   "cell_type": "code",
   "execution_count": null,
   "outputs": [],
   "source": [
    "# Having a word2vec model, we can find words that are similar to any term.\n",
    "\n",
    "print(model.wv.most_similar('house'))"
   ],
   "metadata": {
    "collapsed": false,
    "ExecuteTime": {
     "start_time": "2023-05-02T11:57:01.079434Z",
     "end_time": "2023-05-02T11:57:01.128758Z"
    }
   }
  },
  {
   "cell_type": "code",
   "execution_count": null,
   "outputs": [],
   "source": [
    "# the API can be used to download and list\n",
    "# all resources and corpora available in gensim-data:\n",
    "import json\n",
    "info = api.info()\n",
    "print(json.dumps(info, indent=4))"
   ],
   "metadata": {
    "collapsed": false,
    "ExecuteTime": {
     "start_time": "2023-04-26T11:11:48.704834Z",
     "end_time": "2023-04-26T11:11:48.756401Z"
    }
   }
  },
  {
   "cell_type": "code",
   "execution_count": null,
   "outputs": [],
   "source": [
    "# There are two types of data resources: corpora and models.\n",
    "\n",
    "print(info.keys())"
   ],
   "metadata": {
    "collapsed": false,
    "ExecuteTime": {
     "start_time": "2023-04-26T11:11:51.431210Z",
     "end_time": "2023-04-26T11:11:51.435815Z"
    }
   }
  },
  {
   "cell_type": "code",
   "execution_count": null,
   "outputs": [],
   "source": [
    "# print available corpora\n",
    "for corpus_name, corpus_data in sorted(info['corpora'].items()):\n",
    "    print(\n",
    "        '%s (%d records): %s' % (\n",
    "            corpus_name,\n",
    "            corpus_data.get('num_records', -1),\n",
    "            corpus_data['description'][:40] + '...',\n",
    "        )\n",
    "    )"
   ],
   "metadata": {
    "collapsed": false,
    "ExecuteTime": {
     "start_time": "2023-04-25T18:02:29.522912Z",
     "end_time": "2023-04-25T18:02:29.528306Z"
    }
   }
  },
  {
   "cell_type": "code",
   "execution_count": null,
   "outputs": [],
   "source": [
    "# print available models:\n",
    "\n",
    "for model_name, model_data in sorted(info['models'].items()):\n",
    "    print(\n",
    "        '%s (%d records): %s' % (\n",
    "            model_name,\n",
    "            model_data.get('num_records', -1),\n",
    "            model_data['description'][:40] + '...',\n",
    "        )\n",
    "    )\n"
   ],
   "metadata": {
    "collapsed": false,
    "ExecuteTime": {
     "start_time": "2023-04-26T11:12:02.102297Z",
     "end_time": "2023-04-26T11:12:02.118014Z"
    }
   }
  },
  {
   "cell_type": "code",
   "execution_count": null,
   "outputs": [],
   "source": [
    "# to get detailed information about a model/corpus, use:\n",
    "\n",
    "fake_news_info = api.info('fake-news')\n",
    "print(json.dumps(fake_news_info, indent=4))"
   ],
   "metadata": {
    "collapsed": false,
    "ExecuteTime": {
     "start_time": "2023-04-26T11:12:06.711237Z",
     "end_time": "2023-04-26T11:12:06.750383Z"
    }
   }
  },
  {
   "cell_type": "code",
   "execution_count": null,
   "outputs": [],
   "source": [
    "# Sometimes (most times), you do not want\n",
    "# to load a model into memory. Instead,\n",
    "# you can request just the filesystem path\n",
    "# to the model.\n",
    "\n",
    "print(api.load('glove-wiki-gigaword-50', return_path=True))"
   ],
   "metadata": {
    "collapsed": false,
    "ExecuteTime": {
     "start_time": "2023-05-01T12:27:10.562875Z",
     "end_time": "2023-05-01T12:27:10.606331Z"
    }
   }
  },
  {
   "cell_type": "code",
   "execution_count": null,
   "outputs": [],
   "source": [
    "#  to load the model to memory, then:\n",
    "\n",
    "model = api.load(\"glove-wiki-gigaword-50\")\n",
    "model.most_similar(\"teacher\")"
   ],
   "metadata": {
    "collapsed": false,
    "ExecuteTime": {
     "start_time": "2023-05-01T12:27:30.110379Z",
     "end_time": "2023-05-01T12:27:36.499432Z"
    }
   }
  },
  {
   "cell_type": "code",
   "execution_count": null,
   "outputs": [],
   "source": [],
   "metadata": {
    "collapsed": false
   }
  }
 ],
 "metadata": {
  "kernelspec": {
   "display_name": "Python 3",
   "language": "python",
   "name": "python3"
  },
  "language_info": {
   "codemirror_mode": {
    "name": "ipython",
    "version": 2
   },
   "file_extension": ".py",
   "mimetype": "text/x-python",
   "name": "python",
   "nbconvert_exporter": "python",
   "pygments_lexer": "ipython2",
   "version": "2.7.6"
  }
 },
 "nbformat": 4,
 "nbformat_minor": 0
}
