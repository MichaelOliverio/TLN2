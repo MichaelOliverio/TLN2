{
 "cells": [
  {
   "cell_type": "code",
   "execution_count": 1,
   "metadata": {},
   "outputs": [],
   "source": [
    "# pip install spacy\n",
    "# python -m spacy download it_core_news_sm\n",
    "\n",
    "import os\n",
    "import re\n",
    "import pandas as pd\n",
    "from nltk.corpus import stopwords\n",
    "import spacy\n",
    "import math\n",
    "from sklearn.metrics.pairwise import cosine_similarity\n",
    "import numpy as np"
   ]
  },
  {
   "attachments": {},
   "cell_type": "markdown",
   "metadata": {},
   "source": [
    "### Utils"
   ]
  },
  {
   "cell_type": "code",
   "execution_count": 2,
   "metadata": {},
   "outputs": [],
   "source": [
    "stop_words = set(stopwords.words('italian')) #remove stop words\n",
    "lemmatizer = spacy.load('it_core_news_sm')\n",
    "\n",
    "def pre_processing(document):\n",
    "    document = re.sub(r'[^\\w\\s]',' ',document) #remove punctuation\n",
    "    document = document.lower()\n",
    "    document = lemmatizer(document)\n",
    "    document = [token.lemma_ for token in document]\n",
    "    document = [w for w in document if not w in stop_words]\n",
    "    return document\n",
    "\n",
    "#inverse document frequency\n",
    "def idf(word, documents_list):\n",
    "    return math.log10(len(documents_list)/sum([1.0 for i in documents_list if word in i.testo]))\n",
    "\n",
    "#term frequency\n",
    "def tf(word, document_words):\n",
    "    return document_words.count(word)/len(document_words)"
   ]
  },
  {
   "cell_type": "code",
   "execution_count": 3,
   "metadata": {},
   "outputs": [],
   "source": [
    "class Documento:\n",
    "    # ============================================\n",
    "    # Constructor\n",
    "    # ============================================\n",
    "    def __init__(self, titolo, classe, testo):\n",
    "        self.titolo = titolo\n",
    "        self.classe = classe\n",
    "        self.testo = testo\n",
    "        self.term_vector = []\n",
    "\n",
    "    def __str__(self):\n",
    "        return \"Titolo: \" + self.titolo + \"\\nClasse: \" + self.classe"
   ]
  },
  {
   "attachments": {},
   "cell_type": "markdown",
   "metadata": {},
   "source": [
    "### Vector space model"
   ]
  },
  {
   "cell_type": "code",
   "execution_count": 4,
   "metadata": {},
   "outputs": [],
   "source": [
    "path = \"data\\docs_200\"\n",
    "documents = []\n",
    "classi = set()\n",
    "vocabolario = set()\n",
    "\n",
    "for file_name in os.listdir(path):\n",
    "    if os.path.isfile(os.path.join(path, file_name)):\n",
    "        file = open(\"data/docs_200/\" + file_name, \"r\", encoding=\"utf-8\")\n",
    "        classe = file_name.split(\"_\")[0]\n",
    "        sentence = file.read().replace(\"\\n\", \" \").replace(\"\\\"\", \"\")\n",
    "        sentence = pre_processing(sentence)\n",
    "        sentence = sentence[:20]\n",
    "        document = Documento(file_name, classe, sentence)\n",
    "        vocabolario.update(document.testo)\n",
    "        classi.add(file_name.split(\"_\")[0])\n",
    "\n",
    "        documents.append(document)        "
   ]
  },
  {
   "cell_type": "code",
   "execution_count": 6,
   "metadata": {},
   "outputs": [],
   "source": [
    "for doc in documents:\n",
    "    weights = {}\n",
    "    for word in vocabolario:\n",
    "        weights.update({word: tf(word, doc.testo) * idf(word, documents)})\n",
    "    doc.term_vector = weights"
   ]
  },
  {
   "cell_type": "code",
   "execution_count": 7,
   "metadata": {},
   "outputs": [
    {
     "name": "stdout",
     "output_type": "stream",
     "text": [
      "green\n"
     ]
    }
   ],
   "source": [
    "colori = [\"red\", \"blue\", \"green\", \"yellow\", \"orange\", \"purple\", \"pink\", \"brown\", \"gray\", \"black\"]\n",
    "\n",
    "#foreach classe in classi assign a color\n",
    "colors_list = {}\n",
    "i = 0\n",
    "for classe in classi:\n",
    "    if classe not in colors_list.keys():\n",
    "        colors_list[classe] = colori[i]\n",
    "        i += 1 \n",
    "\n",
    "print(colors_list['economia'])"
   ]
  },
  {
   "cell_type": "code",
   "execution_count": 8,
   "metadata": {},
   "outputs": [
    {
     "data": {
      "image/png": "[encoded data removed]",
      "text/plain": [
       "<Figure size 640x480 with 1 Axes>"
      ]
     },
     "metadata": {},
     "output_type": "display_data"
    }
   ],
   "source": [
    "import numpy as np\n",
    "from sklearn.decomposition import PCA\n",
    "import matplotlib.pyplot as plt\n",
    "\n",
    "#get all document term vectors and assign a color to each class\n",
    "X = []\n",
    "color_classes = []\n",
    "for doc in documents:\n",
    "    X.append(list(doc.term_vector.values()))\n",
    "    color_classes.append(colors_list[doc.classe])\n",
    "\n",
    "#convert to numpy array\n",
    "X = np.array(X)\n",
    "\n",
    "#apply PCA\n",
    "pca = PCA(n_components=2)\n",
    "X_r = pca.fit_transform(X)\n",
    "\n",
    "#plot\n",
    "plt.scatter(X_r[:, 0], X_r[:, 1], c=color_classes)\n",
    "plt.show()"
   ]
  },
  {
   "attachments": {},
   "cell_type": "markdown",
   "metadata": {},
   "source": [
    "### Metodo di Rocchio"
   ]
  },
  {
   "attachments": {},
   "cell_type": "markdown",
   "metadata": {},
   "source": [
    "#### Calcolo dei prototipi (training)"
   ]
  },
  {
   "cell_type": "code",
   "execution_count": 9,
   "metadata": {},
   "outputs": [],
   "source": [
    "class Prototipo:\n",
    "    # ============================================\n",
    "    # Constructor\n",
    "    # ============================================\n",
    "    def __init__(self, classe, profile_vector):\n",
    "        self.classe = classe\n",
    "        self.profile_vector = profile_vector\n",
    "\n",
    "    def __str__(self):\n",
    "        return \"Classe: \" + self.classe + \"\\nProfile vector: \" + str(self.profile_vector)"
   ]
  },
  {
   "cell_type": "code",
   "execution_count": 10,
   "metadata": {},
   "outputs": [],
   "source": [
    "def train(documents, classi, beta=4, gamma=16):\n",
    "    prototipi = []\n",
    "    for classe in classi:\n",
    "        prototipi.append(prototipo_rocchio(classe, documents, beta, gamma))\n",
    "\n",
    "    return prototipi\n",
    "\n",
    "def prototipo_rocchio(classe, documents, beta, gamma):\n",
    "    contributi_pos = {}\n",
    "    contributi_near_pos = {}\n",
    "    for word in vocabolario:\n",
    "        contributi_pos.update({word: 0})\n",
    "        contributi_near_pos.update({word: 0})\n",
    "\n",
    "    near_pos = near_positive_documents(classe, documents)\n",
    "\n",
    "    # contributo dei positivi\n",
    "    count_pos = 0\n",
    "    for doc in documents:\n",
    "        if doc.classe == classe:\n",
    "            for word in vocabolario:\n",
    "                contributi_pos[word] += doc.term_vector[word]\n",
    "            count_pos += 1\n",
    "    for word in vocabolario:\n",
    "        contributi_pos[word] /= count_pos\n",
    "\n",
    "\n",
    "    # contributo dei near positive\n",
    "    count_near_pos = 0\n",
    "    for n_pos in near_pos:\n",
    "        for word in vocabolario:\n",
    "            contributi_near_pos[word] -= n_pos.term_vector[word]\n",
    "        count_near_pos += 1\n",
    "\n",
    "    for word in vocabolario:\n",
    "        contributi_near_pos[word] /= count_near_pos\n",
    "\n",
    "    # calcolo del prototipo\n",
    "    prototipo = {}\n",
    "    for word in vocabolario:\n",
    "        prototipo[word] = beta * contributi_pos[word] - gamma * contributi_near_pos[word]\n",
    "\n",
    " \n",
    "    return Prototipo(classe, prototipo)\n",
    "\n",
    "#define method for calculating near_positve documents for rocchio methods\n",
    "def near_positive_documents(classe_pos, documents):\n",
    "    near_positive_documents = []\n",
    "    for doc in documents:\n",
    "        if doc.classe == classe_pos:\n",
    "            near_positive_documents.append(get_nearest_doc(doc, documents))\n",
    "\n",
    "    return near_positive_documents\n",
    "\n",
    "# restituisce il documento più simile al documento positivo\n",
    "def get_nearest_doc(positive_doc, documents):\n",
    "    max_similarity = 0\n",
    "    nearest_doc = None\n",
    "    for doc in documents:\n",
    "        if doc.classe != positive_doc.classe:\n",
    "            positive_doc_s = np.array(list(positive_doc.term_vector.values())).reshape(1, -1)\n",
    "            doc_s = np.array(list(doc.term_vector.values())).reshape(1, -1)\n",
    "            similarity = cosine_similarity(positive_doc_s, doc_s)[0][0]\n",
    "            if similarity > max_similarity:\n",
    "                max_similarity = similarity\n",
    "                nearest_doc = doc\n",
    "    return nearest_doc\n",
    "    "
   ]
  },
  {
   "cell_type": "code",
   "execution_count": 11,
   "metadata": {},
   "outputs": [],
   "source": [
    "prototipo_sport = prototipo_rocchio(\"sport\", documents, 16, 4)"
   ]
  },
  {
   "attachments": {},
   "cell_type": "markdown",
   "metadata": {},
   "source": [
    "##### cross-validation"
   ]
  },
  {
   "cell_type": "code",
   "execution_count": 12,
   "metadata": {},
   "outputs": [],
   "source": [
    "def score_rocchio (prototipi, test_set):\n",
    "    score = 0\n",
    "    for doc in test_set:\n",
    "        max_similarity = 0\n",
    "        for prototipo in prototipi:\n",
    "            doc_s = np.array(list(doc.term_vector.values())).reshape(1, -1)\n",
    "            prototipo_s = np.array(list(prototipo.profile_vector.values())).reshape(1, -1)\n",
    "            similarity = cosine_similarity(doc_s, prototipo_s)[0][0]\n",
    "            if similarity > max_similarity:\n",
    "                max_similarity = similarity\n",
    "                classe = prototipo.classe\n",
    "        if classe == doc.classe:\n",
    "            score += 1\n",
    "    return score/len(test_set)*100\n",
    "\n",
    "\n",
    "def cross_val_score(documents, classi, cv=5, gamma=16, beta=4):\n",
    "    scores = []\n",
    "\n",
    "    #shuffle documents\n",
    "    documents_permutato = np.random.permutation(documents)\n",
    "\n",
    "    #divide x in cv parti\n",
    "    data_folds = np.array_split(documents_permutato, cv)\n",
    "\n",
    "    for i in range(cv):\n",
    "        current_data_training_set = np.concatenate(data_folds[:i] + data_folds[i+1:], axis=0)\n",
    "        current_data_test_set = data_folds[i]\n",
    "\n",
    "        prototipi = train(current_data_training_set, classi, gamma, beta)\n",
    "        score = score_rocchio(prototipi, current_data_test_set)\n",
    "        print(\"Fold \" + str(i) + \": \" + str(score) + \" %\")\n",
    "\n",
    "        scores.append(score)\n",
    "    \n",
    "    return scores"
   ]
  },
  {
   "attachments": {},
   "cell_type": "markdown",
   "metadata": {},
   "source": [
    "- Beta: Il parametro beta controlla l'effetto del termine medio della classe negativa sul calcolo del vettore rappresentativo della classe di riferimento. Un valore più grande di beta enfatizza maggiormente il termine medio della classe negativa, mentre un valore più piccolo lo enfatizza meno. La scelta di beta dipende dalla distribuzione dei dati e dalle preferenze specifiche dell'utente. In generale, valori compresi tra 0 e 1 sono comuni per beta.\n",
    "- Gamma: Il parametro gamma influenza il calcolo del vettore rappresentativo della classe negativa. Un valore più grande di gamma riduce l'effetto dei documenti della classe negativa, mentre un valore più piccolo lo aumenta. La scelta di gamma dipende dalla distribuzione dei dati e dalle preferenze specifiche dell'utente. Valori compresi tra 0 e 1 sono comuni per gamma."
   ]
  },
  {
   "cell_type": "code",
   "execution_count": 27,
   "metadata": {},
   "outputs": [
    {
     "name": "stdout",
     "output_type": "stream",
     "text": [
      "Iterazione 1 1\n"
     ]
    },
    {
     "ename": "KeyboardInterrupt",
     "evalue": "",
     "output_type": "error",
     "traceback": [
      "\u001b[1;31m---------------------------------------------------------------------------\u001b[0m",
      "\u001b[1;31mKeyboardInterrupt\u001b[0m                         Traceback (most recent call last)",
      "Cell \u001b[1;32mIn[27], line 7\u001b[0m\n\u001b[0;32m      5\u001b[0m \u001b[39mfor\u001b[39;00m j \u001b[39min\u001b[39;00m \u001b[39mrange\u001b[39m(\u001b[39m16\u001b[39m):\n\u001b[0;32m      6\u001b[0m     \u001b[39mprint\u001b[39m(\u001b[39m\"\u001b[39m\u001b[39mIterazione\u001b[39m\u001b[39m\"\u001b[39m, \u001b[39mstr\u001b[39m(i\u001b[39m+\u001b[39m\u001b[39m1\u001b[39m), \u001b[39mstr\u001b[39m(j\u001b[39m+\u001b[39m\u001b[39m1\u001b[39m))\n\u001b[1;32m----> 7\u001b[0m     accuracies \u001b[39m=\u001b[39m cross_val_score(documents, classi, cv\u001b[39m=\u001b[39;49m\u001b[39m2\u001b[39;49m, gamma\u001b[39m=\u001b[39;49mi\u001b[39m+\u001b[39;49m\u001b[39m1\u001b[39;49m, beta\u001b[39m=\u001b[39;49mj\u001b[39m+\u001b[39;49m\u001b[39m1\u001b[39;49m)\n\u001b[0;32m      8\u001b[0m     \u001b[39mprint\u001b[39m(\u001b[39m'\u001b[39m\u001b[39m\\n\u001b[39;00m\u001b[39m'\u001b[39m)\n\u001b[0;32m      9\u001b[0m     \u001b[39mfor\u001b[39;00m accuracy \u001b[39min\u001b[39;00m accuracies:\n",
      "Cell \u001b[1;32mIn[12], line 30\u001b[0m, in \u001b[0;36mcross_val_score\u001b[1;34m(documents, classi, cv, gamma, beta)\u001b[0m\n\u001b[0;32m     27\u001b[0m current_data_training_set \u001b[39m=\u001b[39m np\u001b[39m.\u001b[39mconcatenate(data_folds[:i] \u001b[39m+\u001b[39m data_folds[i\u001b[39m+\u001b[39m\u001b[39m1\u001b[39m:], axis\u001b[39m=\u001b[39m\u001b[39m0\u001b[39m)\n\u001b[0;32m     28\u001b[0m current_data_test_set \u001b[39m=\u001b[39m data_folds[i]\n\u001b[1;32m---> 30\u001b[0m prototipi \u001b[39m=\u001b[39m train(current_data_training_set, classi, gamma, beta)\n\u001b[0;32m     31\u001b[0m score \u001b[39m=\u001b[39m score_rocchio(prototipi, current_data_test_set)\n\u001b[0;32m     32\u001b[0m \u001b[39mprint\u001b[39m(\u001b[39m\"\u001b[39m\u001b[39mFold \u001b[39m\u001b[39m\"\u001b[39m \u001b[39m+\u001b[39m \u001b[39mstr\u001b[39m(i) \u001b[39m+\u001b[39m \u001b[39m\"\u001b[39m\u001b[39m: \u001b[39m\u001b[39m\"\u001b[39m \u001b[39m+\u001b[39m \u001b[39mstr\u001b[39m(score) \u001b[39m+\u001b[39m \u001b[39m\"\u001b[39m\u001b[39m \u001b[39m\u001b[39m%\u001b[39m\u001b[39m\"\u001b[39m)\n",
      "Cell \u001b[1;32mIn[10], line 4\u001b[0m, in \u001b[0;36mtrain\u001b[1;34m(documents, classi, beta, gamma)\u001b[0m\n\u001b[0;32m      2\u001b[0m prototipi \u001b[39m=\u001b[39m []\n\u001b[0;32m      3\u001b[0m \u001b[39mfor\u001b[39;00m classe \u001b[39min\u001b[39;00m classi:\n\u001b[1;32m----> 4\u001b[0m     prototipi\u001b[39m.\u001b[39mappend(prototipo_rocchio(classe, documents, beta, gamma))\n\u001b[0;32m      6\u001b[0m \u001b[39mreturn\u001b[39;00m prototipi\n",
      "Cell \u001b[1;32mIn[10], line 15\u001b[0m, in \u001b[0;36mprototipo_rocchio\u001b[1;34m(classe, documents, beta, gamma)\u001b[0m\n\u001b[0;32m     12\u001b[0m     contributi_pos\u001b[39m.\u001b[39mupdate({word: \u001b[39m0\u001b[39m})\n\u001b[0;32m     13\u001b[0m     contributi_near_pos\u001b[39m.\u001b[39mupdate({word: \u001b[39m0\u001b[39m})\n\u001b[1;32m---> 15\u001b[0m near_pos \u001b[39m=\u001b[39m near_positive_documents(classe, documents)\n\u001b[0;32m     17\u001b[0m \u001b[39m# contributo dei positivi\u001b[39;00m\n\u001b[0;32m     18\u001b[0m count_pos \u001b[39m=\u001b[39m \u001b[39m0\u001b[39m\n",
      "Cell \u001b[1;32mIn[10], line 51\u001b[0m, in \u001b[0;36mnear_positive_documents\u001b[1;34m(classe_pos, documents)\u001b[0m\n\u001b[0;32m     49\u001b[0m \u001b[39mfor\u001b[39;00m doc \u001b[39min\u001b[39;00m documents:\n\u001b[0;32m     50\u001b[0m     \u001b[39mif\u001b[39;00m doc\u001b[39m.\u001b[39mclasse \u001b[39m==\u001b[39m classe_pos:\n\u001b[1;32m---> 51\u001b[0m         near_positive_documents\u001b[39m.\u001b[39mappend(get_nearest_doc(doc, documents))\n\u001b[0;32m     53\u001b[0m \u001b[39mreturn\u001b[39;00m near_positive_documents\n",
      "Cell \u001b[1;32mIn[10], line 63\u001b[0m, in \u001b[0;36mget_nearest_doc\u001b[1;34m(positive_doc, documents)\u001b[0m\n\u001b[0;32m     61\u001b[0m positive_doc_s \u001b[39m=\u001b[39m np\u001b[39m.\u001b[39marray(\u001b[39mlist\u001b[39m(positive_doc\u001b[39m.\u001b[39mterm_vector\u001b[39m.\u001b[39mvalues()))\u001b[39m.\u001b[39mreshape(\u001b[39m1\u001b[39m, \u001b[39m-\u001b[39m\u001b[39m1\u001b[39m)\n\u001b[0;32m     62\u001b[0m doc_s \u001b[39m=\u001b[39m np\u001b[39m.\u001b[39marray(\u001b[39mlist\u001b[39m(doc\u001b[39m.\u001b[39mterm_vector\u001b[39m.\u001b[39mvalues()))\u001b[39m.\u001b[39mreshape(\u001b[39m1\u001b[39m, \u001b[39m-\u001b[39m\u001b[39m1\u001b[39m)\n\u001b[1;32m---> 63\u001b[0m similarity \u001b[39m=\u001b[39m cosine_similarity(positive_doc_s, doc_s)[\u001b[39m0\u001b[39m][\u001b[39m0\u001b[39m]\n\u001b[0;32m     64\u001b[0m \u001b[39mif\u001b[39;00m similarity \u001b[39m>\u001b[39m max_similarity:\n\u001b[0;32m     65\u001b[0m     max_similarity \u001b[39m=\u001b[39m similarity\n",
      "File \u001b[1;32m~\\AppData\\Roaming\\Python\\Python311\\site-packages\\sklearn\\metrics\\pairwise.py:1393\u001b[0m, in \u001b[0;36mcosine_similarity\u001b[1;34m(X, Y, dense_output)\u001b[0m\n\u001b[0;32m   1358\u001b[0m \u001b[39m\"\"\"Compute cosine similarity between samples in X and Y.\u001b[39;00m\n\u001b[0;32m   1359\u001b[0m \n\u001b[0;32m   1360\u001b[0m \u001b[39mCosine similarity, or the cosine kernel, computes similarity as the\u001b[39;00m\n\u001b[1;32m   (...)\u001b[0m\n\u001b[0;32m   1389\u001b[0m \u001b[39m    Returns the cosine similarity between samples in X and Y.\u001b[39;00m\n\u001b[0;32m   1390\u001b[0m \u001b[39m\"\"\"\u001b[39;00m\n\u001b[0;32m   1391\u001b[0m \u001b[39m# to avoid recursive import\u001b[39;00m\n\u001b[1;32m-> 1393\u001b[0m X, Y \u001b[39m=\u001b[39m check_pairwise_arrays(X, Y)\n\u001b[0;32m   1395\u001b[0m X_normalized \u001b[39m=\u001b[39m normalize(X, copy\u001b[39m=\u001b[39m\u001b[39mTrue\u001b[39;00m)\n\u001b[0;32m   1396\u001b[0m \u001b[39mif\u001b[39;00m X \u001b[39mis\u001b[39;00m Y:\n",
      "File \u001b[1;32m~\\AppData\\Roaming\\Python\\Python311\\site-packages\\sklearn\\metrics\\pairwise.py:155\u001b[0m, in \u001b[0;36mcheck_pairwise_arrays\u001b[1;34m(X, Y, precomputed, dtype, accept_sparse, force_all_finite, copy)\u001b[0m\n\u001b[0;32m    146\u001b[0m     X \u001b[39m=\u001b[39m Y \u001b[39m=\u001b[39m check_array(\n\u001b[0;32m    147\u001b[0m         X,\n\u001b[0;32m    148\u001b[0m         accept_sparse\u001b[39m=\u001b[39maccept_sparse,\n\u001b[1;32m   (...)\u001b[0m\n\u001b[0;32m    152\u001b[0m         estimator\u001b[39m=\u001b[39mestimator,\n\u001b[0;32m    153\u001b[0m     )\n\u001b[0;32m    154\u001b[0m \u001b[39melse\u001b[39;00m:\n\u001b[1;32m--> 155\u001b[0m     X \u001b[39m=\u001b[39m check_array(\n\u001b[0;32m    156\u001b[0m         X,\n\u001b[0;32m    157\u001b[0m         accept_sparse\u001b[39m=\u001b[39;49maccept_sparse,\n\u001b[0;32m    158\u001b[0m         dtype\u001b[39m=\u001b[39;49mdtype,\n\u001b[0;32m    159\u001b[0m         copy\u001b[39m=\u001b[39;49mcopy,\n\u001b[0;32m    160\u001b[0m         force_all_finite\u001b[39m=\u001b[39;49mforce_all_finite,\n\u001b[0;32m    161\u001b[0m         estimator\u001b[39m=\u001b[39;49mestimator,\n\u001b[0;32m    162\u001b[0m     )\n\u001b[0;32m    163\u001b[0m     Y \u001b[39m=\u001b[39m check_array(\n\u001b[0;32m    164\u001b[0m         Y,\n\u001b[0;32m    165\u001b[0m         accept_sparse\u001b[39m=\u001b[39maccept_sparse,\n\u001b[1;32m   (...)\u001b[0m\n\u001b[0;32m    169\u001b[0m         estimator\u001b[39m=\u001b[39mestimator,\n\u001b[0;32m    170\u001b[0m     )\n\u001b[0;32m    172\u001b[0m \u001b[39mif\u001b[39;00m precomputed:\n",
      "File \u001b[1;32m~\\AppData\\Roaming\\Python\\Python311\\site-packages\\sklearn\\utils\\validation.py:919\u001b[0m, in \u001b[0;36mcheck_array\u001b[1;34m(array, accept_sparse, accept_large_sparse, dtype, order, copy, force_all_finite, ensure_2d, allow_nd, ensure_min_samples, ensure_min_features, estimator, input_name)\u001b[0m\n\u001b[0;32m    913\u001b[0m         \u001b[39mraise\u001b[39;00m \u001b[39mValueError\u001b[39;00m(\n\u001b[0;32m    914\u001b[0m             \u001b[39m\"\u001b[39m\u001b[39mFound array with dim \u001b[39m\u001b[39m%d\u001b[39;00m\u001b[39m. \u001b[39m\u001b[39m%s\u001b[39;00m\u001b[39m expected <= 2.\u001b[39m\u001b[39m\"\u001b[39m\n\u001b[0;32m    915\u001b[0m             \u001b[39m%\u001b[39m (array\u001b[39m.\u001b[39mndim, estimator_name)\n\u001b[0;32m    916\u001b[0m         )\n\u001b[0;32m    918\u001b[0m     \u001b[39mif\u001b[39;00m force_all_finite:\n\u001b[1;32m--> 919\u001b[0m         _assert_all_finite(\n\u001b[0;32m    920\u001b[0m             array,\n\u001b[0;32m    921\u001b[0m             input_name\u001b[39m=\u001b[39;49minput_name,\n\u001b[0;32m    922\u001b[0m             estimator_name\u001b[39m=\u001b[39;49mestimator_name,\n\u001b[0;32m    923\u001b[0m             allow_nan\u001b[39m=\u001b[39;49mforce_all_finite \u001b[39m==\u001b[39;49m \u001b[39m\"\u001b[39;49m\u001b[39mallow-nan\u001b[39;49m\u001b[39m\"\u001b[39;49m,\n\u001b[0;32m    924\u001b[0m         )\n\u001b[0;32m    926\u001b[0m \u001b[39mif\u001b[39;00m ensure_min_samples \u001b[39m>\u001b[39m \u001b[39m0\u001b[39m:\n\u001b[0;32m    927\u001b[0m     n_samples \u001b[39m=\u001b[39m _num_samples(array)\n",
      "File \u001b[1;32m~\\AppData\\Roaming\\Python\\Python311\\site-packages\\sklearn\\utils\\validation.py:122\u001b[0m, in \u001b[0;36m_assert_all_finite\u001b[1;34m(X, allow_nan, msg_dtype, estimator_name, input_name)\u001b[0m\n\u001b[0;32m    117\u001b[0m \u001b[39m# First try an O(n) time, O(1) space solution for the common case that\u001b[39;00m\n\u001b[0;32m    118\u001b[0m \u001b[39m# everything is finite; fall back to O(n) space `np.isinf/isnan` or custom\u001b[39;00m\n\u001b[0;32m    119\u001b[0m \u001b[39m# Cython implementation to prevent false positives and provide a detailed\u001b[39;00m\n\u001b[0;32m    120\u001b[0m \u001b[39m# error message.\u001b[39;00m\n\u001b[0;32m    121\u001b[0m \u001b[39mwith\u001b[39;00m np\u001b[39m.\u001b[39merrstate(over\u001b[39m=\u001b[39m\u001b[39m\"\u001b[39m\u001b[39mignore\u001b[39m\u001b[39m\"\u001b[39m):\n\u001b[1;32m--> 122\u001b[0m     first_pass_isfinite \u001b[39m=\u001b[39m xp\u001b[39m.\u001b[39misfinite(xp\u001b[39m.\u001b[39;49msum(X))\n\u001b[0;32m    123\u001b[0m \u001b[39mif\u001b[39;00m first_pass_isfinite:\n\u001b[0;32m    124\u001b[0m     \u001b[39mreturn\u001b[39;00m\n",
      "File \u001b[1;32m<__array_function__ internals>:180\u001b[0m, in \u001b[0;36msum\u001b[1;34m(*args, **kwargs)\u001b[0m\n",
      "File \u001b[1;32m~\\AppData\\Roaming\\Python\\Python311\\site-packages\\numpy\\core\\fromnumeric.py:2298\u001b[0m, in \u001b[0;36msum\u001b[1;34m(a, axis, dtype, out, keepdims, initial, where)\u001b[0m\n\u001b[0;32m   2295\u001b[0m         \u001b[39mreturn\u001b[39;00m out\n\u001b[0;32m   2296\u001b[0m     \u001b[39mreturn\u001b[39;00m res\n\u001b[1;32m-> 2298\u001b[0m \u001b[39mreturn\u001b[39;00m _wrapreduction(a, np\u001b[39m.\u001b[39;49madd, \u001b[39m'\u001b[39;49m\u001b[39msum\u001b[39;49m\u001b[39m'\u001b[39;49m, axis, dtype, out, keepdims\u001b[39m=\u001b[39;49mkeepdims,\n\u001b[0;32m   2299\u001b[0m                       initial\u001b[39m=\u001b[39;49minitial, where\u001b[39m=\u001b[39;49mwhere)\n",
      "File \u001b[1;32m~\\AppData\\Roaming\\Python\\Python311\\site-packages\\numpy\\core\\fromnumeric.py:86\u001b[0m, in \u001b[0;36m_wrapreduction\u001b[1;34m(obj, ufunc, method, axis, dtype, out, **kwargs)\u001b[0m\n\u001b[0;32m     83\u001b[0m         \u001b[39melse\u001b[39;00m:\n\u001b[0;32m     84\u001b[0m             \u001b[39mreturn\u001b[39;00m reduction(axis\u001b[39m=\u001b[39maxis, out\u001b[39m=\u001b[39mout, \u001b[39m*\u001b[39m\u001b[39m*\u001b[39mpasskwargs)\n\u001b[1;32m---> 86\u001b[0m \u001b[39mreturn\u001b[39;00m ufunc\u001b[39m.\u001b[39;49mreduce(obj, axis, dtype, out, \u001b[39m*\u001b[39;49m\u001b[39m*\u001b[39;49mpasskwargs)\n",
      "\u001b[1;31mKeyboardInterrupt\u001b[0m: "
     ]
    }
   ],
   "source": [
    "best_gamma = 0\n",
    "best_beta = 0\n",
    "best_accuracy = 0\n",
    "for i in range(20):\n",
    "    for j in range(20):\n",
    "        print(\"Iterazione\", str(i+1), str(j+1))\n",
    "        accuracies = cross_val_score(documents, classi, cv=2, gamma=i+1, beta=j+1)\n",
    "        print('\\n')\n",
    "        for accuracy in accuracies:\n",
    "            if accuracy > best_accuracy:\n",
    "                best_accuracy = accuracy\n",
    "                best_gamma = i+1\n",
    "                best_beta = j+1"
   ]
  },
  {
   "attachments": {},
   "cell_type": "markdown",
   "metadata": {},
   "source": [
    "#### visualizzazione grafica"
   ]
  },
  {
   "cell_type": "code",
   "execution_count": 17,
   "metadata": {},
   "outputs": [],
   "source": [
    "prototipi = {}\n",
    "for classe in classi:\n",
    "    prototipi[classe] = prototipo_rocchio(classe, documents, 4, 16)"
   ]
  },
  {
   "cell_type": "code",
   "execution_count": 18,
   "metadata": {},
   "outputs": [],
   "source": [
    "colori = [\"red\", \"blue\", \"green\", \"yellow\", \"orange\", \"purple\", \"pink\", \"brown\", \"gray\", \"black\"]\n",
    "\n",
    "#foreach classe in classi assign a color\n",
    "colors_list_pr = {}\n",
    "i = 0\n",
    "for classe in classi:\n",
    "    if classe not in colors_list_pr.keys():\n",
    "        colors_list_pr[classe] = colori[i]\n",
    "        i += 1 "
   ]
  },
  {
   "cell_type": "code",
   "execution_count": 19,
   "metadata": {},
   "outputs": [
    {
     "data": {
      "image/png": "[encoded data removed]",
      "text/plain": [
       "<Figure size 640x480 with 1 Axes>"
      ]
     },
     "metadata": {},
     "output_type": "display_data"
    }
   ],
   "source": [
    "import numpy as np\n",
    "import matplotlib.pyplot as plt\n",
    "from sklearn.decomposition import PCA\n",
    "\n",
    "X = []\n",
    "color_classes_pr = []\n",
    "for classe in classi:\n",
    "    X.append(list(prototipi[classe].profile_vector.values()))\n",
    "    color_classes_pr.append(colors_list_pr[classe])\n",
    "\n",
    "#convert to numpy array\n",
    "X = np.array(X)\n",
    "\n",
    "#apply PCA\n",
    "pca = PCA(n_components=2)\n",
    "X_r = pca.fit_transform(X)\n",
    "\n",
    "#plot\n",
    "plt.scatter(X_r[:, 0], X_r[:, 1], c=color_classes_pr)\n",
    "plt.show()"
   ]
  }
 ],
 "metadata": {
  "kernelspec": {
   "display_name": "Python 3",
   "language": "python",
   "name": "python3"
  },
  "language_info": {
   "codemirror_mode": {
    "name": "ipython",
    "version": 3
   },
   "file_extension": ".py",
   "mimetype": "text/x-python",
   "name": "python",
   "nbconvert_exporter": "python",
   "pygments_lexer": "ipython3",
   "version": "3.11.0"
  },
  "orig_nbformat": 4
 },
 "nbformat": 4,
 "nbformat_minor": 2
}
