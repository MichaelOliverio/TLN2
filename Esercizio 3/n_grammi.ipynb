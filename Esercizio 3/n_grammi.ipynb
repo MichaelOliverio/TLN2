{
 "cells": [
  {
   "attachments": {},
   "cell_type": "markdown",
   "metadata": {},
   "source": [
    "Dato il Trump Twitter Archive (~290 tweet attribuiti all'ex Presidente US, disponibile fra i materiali della lezione)\n",
    "- acquisire due language models (uno a bi-grammi e uno a trigrammi) su questo set di testi;\n",
    "- utilizzare i due modelli per produrre tweet"
   ]
  },
  {
   "cell_type": "code",
   "execution_count": 50,
   "metadata": {},
   "outputs": [],
   "source": [
    "import pandas as pd\n",
    "import nltk\n",
    "from nltk.lm.preprocessing import padded_everygram_pipeline \n",
    "from nltk.lm import MLE"
   ]
  },
  {
   "cell_type": "code",
   "execution_count": 52,
   "metadata": {},
   "outputs": [],
   "source": [
    "df = pd.read_csv('trump_twitter_archive/trump_twitter_archive/tweets.csv', sep=',')\n",
    "sentences = df.loc[:, 'text'].apply(lambda x: nltk.word_tokenize(x))\n",
    "text = sentences.values.tolist()"
   ]
  },
  {
   "attachments": {},
   "cell_type": "markdown",
   "metadata": {},
   "source": [
    "## 2-grams"
   ]
  },
  {
   "cell_type": "code",
   "execution_count": 58,
   "metadata": {},
   "outputs": [],
   "source": [
    "train, vocab = padded_everygram_pipeline(2, text)\n",
    "lm = MLE(2)\n",
    "lm.fit(train, vocab)"
   ]
  },
  {
   "cell_type": "code",
   "execution_count": 59,
   "metadata": {},
   "outputs": [
    {
     "data": {
      "text/plain": [
       "['Biden',\n",
       " 'Buttigieg',\n",
       " 'Klobuchar',\n",
       " 'to',\n",
       " 'Mike',\n",
       " 'Ditka',\n",
       " '</s>',\n",
       " 'realDonaldTrump',\n",
       " 'jealous',\n",
       " 'of',\n",
       " 'relentless',\n",
       " 'attacks',\n",
       " 'against']"
      ]
     },
     "execution_count": 59,
     "metadata": {},
     "output_type": "execute_result"
    }
   ],
   "source": [
    "lm.generate(13, random_seed=4)"
   ]
  },
  {
   "attachments": {},
   "cell_type": "markdown",
   "metadata": {},
   "source": [
    "## 3-grams"
   ]
  },
  {
   "cell_type": "code",
   "execution_count": 60,
   "metadata": {},
   "outputs": [],
   "source": [
    "train, vocab = padded_everygram_pipeline(3, text)\n",
    "lm = MLE(3)\n",
    "lm.fit(train, vocab)"
   ]
  },
  {
   "cell_type": "code",
   "execution_count": 61,
   "metadata": {},
   "outputs": [
    {
     "data": {
      "text/plain": [
       "['<s>',\n",
       " 'Who',\n",
       " 'the',\n",
       " 'hell',\n",
       " 'do',\n",
       " 'people',\n",
       " 'see',\n",
       " 'in',\n",
       " 'Russell—a',\n",
       " 'major']"
      ]
     },
     "execution_count": 61,
     "metadata": {},
     "output_type": "execute_result"
    }
   ],
   "source": [
    "lm.generate(10, random_seed=8)"
   ]
  }
 ],
 "metadata": {
  "kernelspec": {
   "display_name": "Python 3",
   "language": "python",
   "name": "python3"
  },
  "language_info": {
   "codemirror_mode": {
    "name": "ipython",
    "version": 3
   },
   "file_extension": ".py",
   "mimetype": "text/x-python",
   "name": "python",
   "nbconvert_exporter": "python",
   "pygments_lexer": "ipython3",
   "version": "3.11.0"
  },
  "orig_nbformat": 4
 },
 "nbformat": 4,
 "nbformat_minor": 2
}
