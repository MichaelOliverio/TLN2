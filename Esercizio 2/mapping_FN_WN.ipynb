{
 "cells": [
  {
   "attachments": {},
   "cell_type": "markdown",
   "metadata": {},
   "source": [
    "# Step 1: annotazione"
   ]
  },
  {
   "attachments": {},
   "cell_type": "markdown",
   "metadata": {},
   "source": [
    "Frame OLIVERio:\n",
    "[x] Concessive\n",
    "[x] History\n",
    "[x] Change_resistance\n",
    "[x] Emptying\n",
    "[x] Performers_and_roles\n",
    "\n",
    "Frame TOMATIS\n",
    "[x] Deciding\n",
    "[x] Intentionally_act\n",
    "[x] Competition\n",
    "[x] Fairness_evaluation\n",
    "[x] Process_continue"
   ]
  },
  {
   "cell_type": "code",
   "execution_count": 1,
   "metadata": {},
   "outputs": [
    {
     "name": "stdout",
     "output_type": "stream",
     "text": [
      "definizione frame: A Performer has a certain Role in a Performance and plays their part by following the directions in the Script for that particular Role.   'Margaret Thatcher played Juliet in a school play.' '\"Pulp Fiction\" starred John Travolta and a lot of other big names.' 'Mel Gibson starred in \"Braveheart\" as the leader of a Scottish rebellion.' 'I play the character of Yusuf in this film.'\n",
      "\n",
      "\n",
      "\n",
      "\n",
      "star.v :  COD: have (someone) as a principal performer. \n",
      "act.v :  COD: perform a fictional role in a play or film. \n",
      "play.v :  COD: . represent (a character) in a play or film\n",
      "be.v :  FN: perform in the role of\n",
      "star.n :  FN: an important performer\n",
      "co-star.n :  COD: a performer appearing with another or others of equal importance. \n",
      "co-star (in).v :  COD:  appear in a production as a co-star.\n",
      "lead.n :  COD: the chief part in a play or film. \n",
      "star (in).v :  COD: have a principal role in a film, play, etc. \n",
      "as.prep :  FN: playing in the role of\n",
      "co-star.v :  COD: include as a co-star. \n",
      "feature.v :  COD: have as an important actor or participant. \n",
      "character.n :  COD: a part played by an actor.\n",
      "role.n :  COD: an actor's part in a play, film, etc.\n",
      "part.n :  COD: a role played by an actor or actress.\n",
      "appear.v :  FN: to perform in a play or film \n"
     ]
    }
   ],
   "source": [
    "from nltk.corpus import framenet as fn\n",
    "from nltk.corpus import wordnet as wn\n",
    "\n",
    "frame = fn.frame_by_name('Performers_and_roles')\n",
    "\n",
    "print('definizione frame:', frame.definition)\n",
    "print('\\n')\n",
    "\n",
    "for fe in frame.FE:\n",
    "    print(fe, ': ', frame.FE[fe].definition)\n",
    "\n",
    "print('\\n')\n",
    "for lu in frame.lexUnit:\n",
    "    print(lu, ': ', frame.lexUnit[lu].definition)"
   ]
  },
  {
   "cell_type": "code",
   "execution_count": 7,
   "metadata": {},
   "outputs": [
    {
     "name": "stdout",
     "output_type": "stream",
     "text": [
      "\n",
      "\n",
      "Synset('lead.n.01')\n",
      "definition: an advantage held by a competitor in a race\n",
      "he took the lead at the last turn\n",
      "\n",
      "\n",
      "Synset('lead.n.02')\n",
      "definition: a soft heavy toxic malleable metallic element; bluish white when freshly cut but tarnishes readily to dull grey\n",
      "the children were playing with lead soldiers\n",
      "\n",
      "\n",
      "Synset('lead.n.03')\n",
      "definition: evidence pointing to a possible solution\n",
      "the police are following a promising lead\n",
      "the trail led straight to the perpetrator\n",
      "\n",
      "\n",
      "Synset('lead.n.04')\n",
      "definition: a position of leadership (especially in the phrase `take the lead')\n",
      "he takes the lead in any group\n",
      "we were just waiting for someone to take the lead\n",
      "they didn't follow our lead\n",
      "\n",
      "\n",
      "Synset('lead.n.05')\n",
      "definition: the angle between the direction a gun is aimed and the position of a moving target (correcting for the flight time of the missile)\n",
      "\n",
      "\n",
      "Synset('lead.n.06')\n",
      "definition: the introductory section of a story\n",
      "it was an amusing lead-in to a very serious matter\n",
      "\n",
      "\n",
      "Synset('lead.n.07')\n",
      "definition: (sports) the score by which a team or individual is winning\n",
      "\n",
      "\n",
      "Synset('star.n.04')\n",
      "definition: an actor who plays a principal role\n",
      "\n",
      "\n",
      "Synset('lead.n.09')\n",
      "definition: (baseball) the position taken by a base runner preparing to advance to the next base\n",
      "he took a long lead off first\n",
      "\n",
      "\n",
      "Synset('tip.n.03')\n",
      "definition: an indication of potential opportunity\n",
      "he got a tip on the stock market\n",
      "a good lead for a job\n",
      "\n",
      "\n",
      "Synset('lead.n.11')\n",
      "definition: a news story of major importance\n",
      "\n",
      "\n",
      "Synset('spark_advance.n.01')\n",
      "definition: the timing of ignition relative to the position of the piston in an internal-combustion engine\n",
      "\n",
      "\n",
      "Synset('leash.n.01')\n",
      "definition: restraint consisting of a rope (or light chain) used to restrain an animal\n",
      "\n",
      "\n",
      "Synset('lead.n.14')\n",
      "definition: thin strip of metal used to separate lines of type in printing\n",
      "\n",
      "\n",
      "Synset('lead.n.15')\n",
      "definition: mixture of graphite with clay in different degrees of hardness; the marking substance in a pencil\n",
      "\n",
      "\n",
      "Synset('jumper_cable.n.01')\n",
      "definition: a jumper that consists of a short piece of wire\n",
      "it was a tangle of jumper cables and clip leads\n",
      "\n",
      "\n",
      "Synset('lead.n.17')\n",
      "definition: the playing of a card to start a trick in bridge\n",
      "the lead was in the dummy\n",
      "\n",
      "\n",
      "Synset('lead.v.01')\n",
      "definition: take somebody somewhere\n",
      "We lead him to our chief\n",
      "can you take me to the main entrance?\n",
      "He conducted us to the palace\n",
      "\n",
      "\n",
      "Synset('leave.v.07')\n",
      "definition: have as a result or residue\n",
      "The water left a mark on the silk dress\n",
      "Her blood left a stain on the napkin\n",
      "\n",
      "\n",
      "Synset('lead.v.03')\n",
      "definition: tend to or result in\n",
      "This remark lead to further arguments among the guests\n",
      "\n",
      "\n",
      "Synset('lead.v.04')\n",
      "definition: travel in front of; go in advance of others\n",
      "The procession was headed by John\n",
      "\n",
      "\n",
      "Synset('lead.v.05')\n",
      "definition: cause to undertake a certain action\n",
      "Her greed led her to forge the checks\n",
      "\n",
      "\n",
      "Synset('run.v.03')\n",
      "definition: stretch out over a distance, space, time, or scope; run or extend between two points or beyond a certain point\n",
      "Service runs all the way to Cranbury\n",
      "His knowledge doesn't go very far\n",
      "My memory extends back to my fourth year of life\n",
      "The facts extend beyond a consideration of her personal assets\n",
      "\n",
      "\n",
      "Synset('head.v.02')\n",
      "definition: be in charge of\n",
      "Who is heading this project?\n",
      "\n",
      "\n",
      "Synset('lead.v.08')\n",
      "definition: be ahead of others; be the first\n",
      "she topped her class every year\n",
      "\n",
      "\n",
      "Synset('contribute.v.03')\n",
      "definition: be conducive to\n",
      "The use of computers in the classroom lead to better writing\n",
      "\n",
      "\n",
      "Synset('conduct.v.02')\n",
      "definition: lead, as in the performance of a composition\n",
      "conduct an orchestra; Barenboim conducted the Chicago symphony for years\n",
      "\n",
      "\n",
      "Synset('go.v.25')\n",
      "definition: lead, extend, or afford access\n",
      "This door goes to the basement\n",
      "The road runs South\n",
      "\n",
      "\n",
      "Synset('precede.v.04')\n",
      "definition: move ahead (of others) in time or space\n",
      "\n",
      "\n",
      "Synset('run.v.23')\n",
      "definition: cause something to pass or lead somewhere\n",
      "Run the wire behind the cabinet\n",
      "\n",
      "\n",
      "Synset('moderate.v.01')\n",
      "definition: preside over\n",
      "John moderated the discussion\n",
      "\n",
      "\n"
     ]
    }
   ],
   "source": [
    "print('\\n')\n",
    "for syn in wn.synsets('lead'):\n",
    "    print(syn)\n",
    "    print('definition:' , syn.definition())\n",
    "    #print example\n",
    "    for example in syn.examples():\n",
    "        print(example)\n",
    "\n",
    "    print('\\n')"
   ]
  },
  {
   "attachments": {},
   "cell_type": "markdown",
   "metadata": {},
   "source": [
    "# Step 2: mapping automatico"
   ]
  },
  {
   "attachments": {},
   "cell_type": "markdown",
   "metadata": {},
   "source": [
    "## Approccio bag of words"
   ]
  },
  {
   "cell_type": "code",
   "execution_count": 45,
   "metadata": {},
   "outputs": [],
   "source": [
    "from nltk.stem import WordNetLemmatizer\n",
    "from nltk.corpus import stopwords\n",
    "from nltk.tokenize import MWETokenizer #tiene conto delle multiword expressions\n",
    "from nltk.corpus import wordnet as wn\n",
    "from nltk.corpus import framenet as fn\n",
    "import re\n"
   ]
  },
  {
   "cell_type": "code",
   "execution_count": 46,
   "metadata": {},
   "outputs": [],
   "source": [
    "deciding_frame = fn.frame_by_name(\"Deciding\")"
   ]
  },
  {
   "cell_type": "code",
   "execution_count": 47,
   "metadata": {},
   "outputs": [
    {
     "data": {
      "text/plain": [
       "{'going', 'im', 'new_york', 'park'}"
      ]
     },
     "execution_count": 47,
     "metadata": {},
     "output_type": "execute_result"
    }
   ],
   "source": [
    "#creazione tokenizzatore per le multiword expressions\n",
    "mwes = [x for x in wn.all_lemma_names() if '_' in x]\n",
    "mwes = [tuple(x.split('_')) for x in mwes]\n",
    "tokenizer = MWETokenizer(mwes, separator=' ')\n",
    "\n",
    "def make_set(sentence):\n",
    "    sentence = sentence.lower() #lowercase\n",
    "    sentence = re.sub(r'[^\\w\\s]','',sentence) #remove punctuation\n",
    "    sentence = tokenizer.tokenize(sentence.split()) #tokenize\n",
    "    sentence = [w for w in sentence if not w.isdigit()] #remove numbers\n",
    "    stop_words = set(stopwords.words('english')) #remove stop words\n",
    "    sentence = [w for w in sentence if not w in stop_words]\n",
    "    lemmatizer = WordNetLemmatizer() #lemmatization of definition\n",
    "    sentence = [lemmatizer.lemmatize(w) for w in sentence]\n",
    "\n",
    "    res = []\n",
    "    for w in sentence:\n",
    "        res.append(w.replace(' ', '_'))\n",
    "\n",
    "    return set(res)\n",
    "\n",
    "make_set(\"I'm going to the park of New York.\")"
   ]
  },
  {
   "cell_type": "code",
   "execution_count": 48,
   "metadata": {},
   "outputs": [],
   "source": [
    "def ctx_frame_FN(frame):\n",
    "    name = frame.name\n",
    "    definition = frame.definition\n",
    "    FEs = frame.FE\n",
    "    LUs = frame.lexUnit\n",
    "\n",
    "    sentence = name + ' ' + definition\n",
    "    for fe in FEs:\n",
    "        sentence += ' ' + FEs[fe].definition\n",
    "    for lu in LUs:\n",
    "        sentence += ' ' + LUs[lu].definition\n",
    "\n",
    "    return make_set(sentence)\n",
    "\n",
    "def ctx_frame_element_FN(frame_element):\n",
    "    name = frame_element.name\n",
    "    definition = frame_element.definition\n",
    "    #semtype = frame_element.semType.name\n",
    "\n",
    "    sentence = name + ' ' + definition # + ' ' + semtype\n",
    "   \n",
    "    return make_set(sentence)\n",
    "\n",
    "def ctx_lexical_unit_FN(lexical_unit):\n",
    "    name = lexical_unit.name\n",
    "    definition = lexical_unit.definition.split(':')[1]\n",
    "    exemplars = lexical_unit.exemplars\n",
    "    \n",
    "    sentence = name + ' ' + definition\n",
    "    for ex in exemplars:\n",
    "        sentence += ' ' + ex.annotationSet[0].text\n",
    "\n",
    "    return make_set(sentence)\n"
   ]
  },
  {
   "attachments": {},
   "cell_type": "markdown",
   "metadata": {},
   "source": [
    "### Creazione del contesto (FrameNet)"
   ]
  },
  {
   "cell_type": "code",
   "execution_count": 49,
   "metadata": {},
   "outputs": [],
   "source": [
    "ctx_FN = {}\n",
    "\n",
    "#frame\n",
    "ctx_FN[deciding_frame.name.replace(' ', '_')] = ctx_frame_FN(deciding_frame)\n",
    "\n",
    "#FEs\n",
    "for fe in deciding_frame.FE:\n",
    "    ctx_FN[fe.replace(' ', '_')] = ctx_frame_element_FN(deciding_frame.FE[fe])\n",
    "    break\n",
    "\n",
    "#LUs\n",
    "for lu in deciding_frame.lexUnit:\n",
    "    ctx_FN[lu.replace(' ', '_')] = ctx_lexical_unit_FN(deciding_frame.lexUnit[lu])\n"
   ]
  },
  {
   "attachments": {},
   "cell_type": "markdown",
   "metadata": {},
   "source": [
    "### Crezione del contesto (WordNet)"
   ]
  },
  {
   "cell_type": "code",
   "execution_count": 50,
   "metadata": {},
   "outputs": [],
   "source": [
    "def get_hyponyms(synset):\n",
    "    hyponyms = set()\n",
    "    for hyponym in synset.hyponyms():\n",
    "        hyponyms |= set(get_hyponyms(hyponym))\n",
    "    return hyponyms | set(synset.hyponyms())"
   ]
  },
  {
   "cell_type": "code",
   "execution_count": 51,
   "metadata": {},
   "outputs": [],
   "source": [
    "def create_sentences(synset, depth=1):\n",
    "    sentence = synset.definition()\n",
    "    for example in synset.examples():\n",
    "        sentence += ' ' + example\n",
    "    for lemma in synset.lemmas():\n",
    "        sentence += ' ' + lemma.name()\n",
    "\n",
    "    if (depth >= 0):\n",
    "        for hypernym in synset.hypernyms():\n",
    "            sentence += ' ' + create_sentences(hypernym, depth-1)\n",
    "        for hyponym in get_hyponyms(synset):\n",
    "            sentence += ' ' + create_sentences(hyponym, depth-1)  \n",
    "\n",
    "    return sentence\n",
    "\n",
    "\n",
    "def ctx_synset_WN(synset):\n",
    "    sentence = create_sentences(synset)\n",
    "    return make_set(sentence)"
   ]
  },
  {
   "cell_type": "code",
   "execution_count": 52,
   "metadata": {},
   "outputs": [
    {
     "data": {
      "text/plain": [
       "{'Deciding': Synset('decision_making.n.01'),\n",
       " 'decide.v': Synset('decide.v.02'),\n",
       " 'decision.n': Synset('decision.n.01'),\n",
       " 'rule_out.v': Synset('rule_out.v.02'),\n",
       " 'determine.v': Synset('determine.v.02')}"
      ]
     },
     "execution_count": 52,
     "metadata": {},
     "output_type": "execute_result"
    }
   ],
   "source": [
    "mappings = {}\n",
    "for key in ctx_FN:\n",
    "    token = key.split('.')[0]\n",
    "    syns = wn.synsets(token)\n",
    "    max_overlap = 0\n",
    "    for syn in syns:\n",
    "        overlap = len(ctx_synset_WN(syn).intersection(ctx_FN[key])) + 1\n",
    "        if overlap > max_overlap:\n",
    "            max_overlap = overlap\n",
    "            mappings[key] = syn\n",
    "\n",
    "mappings"
   ]
  },
  {
   "attachments": {},
   "cell_type": "markdown",
   "metadata": {},
   "source": [
    "## Approccio grafico"
   ]
  },
  {
   "cell_type": "code",
   "execution_count": 53,
   "metadata": {},
   "outputs": [],
   "source": [
    "deciding_frame = fn.frame_by_name(\"Deciding\")"
   ]
  },
  {
   "cell_type": "code",
   "execution_count": 54,
   "metadata": {},
   "outputs": [
    {
     "name": "stdout",
     "output_type": "stream",
     "text": [
      "Cognizer\n",
      "Decision\n",
      "Possibilities\n",
      "Time\n",
      "Place\n",
      "Manner\n",
      "Inherent_purpose\n",
      "Circumstance\n",
      "Explanation\n"
     ]
    }
   ],
   "source": [
    "#FEs\n",
    "for fe in deciding_frame.FE: \n",
    "    ctx_FN[fe.replace(' ', '_')] = ctx_frame_element_FN(deciding_frame.FE[fe])\n",
    "#LUs\n",
    "for lu in deciding_frame.lexUnit:\n",
    "    ctx_FN[lu.replace(' ', '_')] = ctx_lexical_unit_FN(deciding_frame.lexUnit[lu])"
   ]
  },
  {
   "cell_type": "code",
   "execution_count": 55,
   "metadata": {},
   "outputs": [],
   "source": [
    "def get_paths_between_synsets(synset1, synset2, L=3):\n",
    "    paths = []\n",
    "    visited = set()\n",
    "\n",
    "    def dfs(synset, path):\n",
    "        if synset in visited or len(path) > L:\n",
    "            return\n",
    "        if synset == synset2:\n",
    "            paths.append(path + [synset])\n",
    "            return\n",
    "        visited.add(synset)\n",
    "        for hypernym in synset.hypernyms():\n",
    "            dfs(hypernym, path + [synset])\n",
    "        for hyponym in synset.hyponyms():\n",
    "            dfs(hyponym, path + [synset])\n",
    "\n",
    "    dfs(synset1, [])\n",
    "    return [path for path in paths if len(path) <= L]"
   ]
  },
  {
   "cell_type": "code",
   "execution_count": 56,
   "metadata": {},
   "outputs": [
    {
     "name": "stdout",
     "output_type": "stream",
     "text": [
      "[Synset('decision_making.n.01'), Synset('decide.v.01'), Synset('decide.v.02'), Synset('decide.v.03'), Synset('decide.v.04'), Synset('deciding.s.01')]\n"
     ]
    },
    {
     "data": {
      "text/plain": [
       "Synset('decide.v.01')"
      ]
     },
     "execution_count": 56,
     "metadata": {},
     "output_type": "execute_result"
    }
   ],
   "source": [
    "import numpy as np\n",
    "\n",
    "def score(syn_FN, word_FN, ctx_FN):\n",
    "    ctx_word = ctx_FN[word_FN]\n",
    "\n",
    "    res = 0\n",
    "    for word in ctx_word:\n",
    "        for syn in wn.synsets(word):\n",
    "            #get all connection path between syn and syn_FN\n",
    "            paths = list(get_paths_between_synsets(syn, syn_FN, 3))\n",
    "\n",
    "            for path in paths:\n",
    "                res += np.exp(-len(path)-1)\n",
    "\n",
    "    return res\n",
    "\n",
    "def prob(syn_FN, word_FN, ctx_FN):\n",
    "    sum = 0\n",
    "    for key in ctx_FN:\n",
    "        for syn in wn.synsets(key):\n",
    "            sum += score(syn, key, ctx_FN)\n",
    "\n",
    "    return score(syn_FN, word_FN, ctx_FN) / sum\n",
    "\n",
    "def argmax_prob(word_FN, ctx_FN):\n",
    "    max_prob = 0\n",
    "    max_syn = None\n",
    "    for syn in wn.synsets(word_FN):\n",
    "        prob_syn = prob(syn, word_FN, ctx_FN)\n",
    "        if prob_syn > max_prob:\n",
    "            max_prob = prob_syn\n",
    "            max_syn = syn\n",
    "            \n",
    "    return max_syn\n",
    "\n",
    "print(wn.synsets('deciding'))\n",
    "\n",
    "argmax_prob('Deciding', ctx_FN)"
   ]
  },
  {
   "attachments": {},
   "cell_type": "markdown",
   "metadata": {},
   "source": [
    "# Step 3: valutazione"
   ]
  },
  {
   "cell_type": "code",
   "execution_count": null,
   "metadata": {},
   "outputs": [],
   "source": [
    "# to do..."
   ]
  }
 ],
 "metadata": {
  "kernelspec": {
   "display_name": "Python 3",
   "language": "python",
   "name": "python3"
  },
  "language_info": {
   "codemirror_mode": {
    "name": "ipython",
    "version": 3
   },
   "file_extension": ".py",
   "mimetype": "text/x-python",
   "name": "python",
   "nbconvert_exporter": "python",
   "pygments_lexer": "ipython3",
   "version": "3.11.0"
  },
  "orig_nbformat": 4
 },
 "nbformat": 4,
 "nbformat_minor": 2
}
